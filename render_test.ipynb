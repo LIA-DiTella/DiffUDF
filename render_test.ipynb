{
 "cells": [
  {
   "cell_type": "code",
   "execution_count": 1,
   "metadata": {},
   "outputs": [],
   "source": [
    "import meshplot as mp\n",
    "import numpy as np\n",
    "from skimage.measure import marching_cubes\n",
    "from preprocess.util import Interpolation\n",
    "import networkx as nx"
   ]
  },
  {
   "cell_type": "code",
   "execution_count": 2,
   "metadata": {},
   "outputs": [],
   "source": [
    "def plotCenterline( points, point_size=0.1 ):\n",
    "    p = mp.plot( np.array([points[0]]) , shading={'point_color': 'red', 'point_size':point_size },return_plot=True)\n",
    "\n",
    "    for i in range(1, len(points)):\n",
    "        p.add_points( np.array([points[i]]), shading={'point_color': 'red', 'point_size':point_size } )\n",
    "        p.add_lines( np.array([points[i - 1]]), np.array([points[i]]))    \n",
    "\n",
    "    return p"
   ]
  },
  {
   "cell_type": "code",
   "execution_count": 5,
   "metadata": {},
   "outputs": [],
   "source": [
    "centerline = nx.Graph()\n",
    "centerline.add_node(0, position=np.array([0,0,0]))\n",
    "centerline.add_node(1, position=np.array([0,0.3,0]))\n",
    "centerline.add_node(2, position=np.array([0,0.7,0.1]))\n",
    "centerline.add_node(3, position=np.array([0,1,0.2]))\n",
    "\n",
    "centerline.add_edges_from([(0,1), (1,2)])"
   ]
  },
  {
   "cell_type": "code",
   "execution_count": 6,
   "metadata": {},
   "outputs": [
    {
     "name": "stderr",
     "output_type": "stream",
     "text": [
      "/home/migue/miniconda3/envs/graficos/lib/python3.9/site-packages/jupyter_client/session.py:716: UserWarning: Message serialization failed with:\n",
      "Out of range float values are not JSON compliant\n",
      "Supporting this message is deprecated in jupyter-client 7, please make sure your message is JSON-compliant\n",
      "  content = self.pack(content)\n"
     ]
    },
    {
     "data": {
      "application/vnd.jupyter.widget-view+json": {
       "model_id": "971fbd0d071548a58f7bbc7f6e8d7910",
       "version_major": 2,
       "version_minor": 0
      },
      "text/plain": [
       "Renderer(camera=PerspectiveCamera(children=(DirectionalLight(color='white', intensity=0.6, position=(0.0, 0.0,…"
      ]
     },
     "metadata": {},
     "output_type": "display_data"
    }
   ],
   "source": [
    "p = plotCenterline(np.array([ data['position'] for node, data in centerline.nodes(data=True)]))"
   ]
  },
  {
   "cell_type": "markdown",
   "metadata": {},
   "source": [
    "La sdf del cilindro, normalizado entre 0 y 1"
   ]
  },
  {
   "cell_type": "code",
   "execution_count": 33,
   "metadata": {},
   "outputs": [],
   "source": [
    "def sdfSphere( p ):\n",
    "    return np.linalg.norm(p) - 1\n",
    "\n",
    "\n",
    "def voxels( samples=30):\n",
    "    grid = []\n",
    "\n",
    "    for x in np.linspace(-1, 1, samples):\n",
    "        plano = []\n",
    "        for y in np.linspace(-1, 1, samples):\n",
    "            row = []\n",
    "            for z in np.linspace(-1, 1, samples):\n",
    "                row.append( sdfSphere(np.array([x,y,z])) )\n",
    "            plano.append(row)\n",
    "        grid.append(plano)\n",
    "\n",
    "    grid = np.array(grid)\n",
    "    return grid\n",
    "    \n",
    "def mesh( voxels ):\n",
    "    verts, faces, normals, values = marching_cubes( voxels, 0)\n",
    "    return verts, faces"
   ]
  },
  {
   "cell_type": "code",
   "execution_count": 34,
   "metadata": {},
   "outputs": [
    {
     "name": "stderr",
     "output_type": "stream",
     "text": [
      "/home/migue/miniconda3/envs/graficos/lib/python3.9/site-packages/jupyter_client/session.py:716: UserWarning: Message serialization failed with:\n",
      "Out of range float values are not JSON compliant\n",
      "Supporting this message is deprecated in jupyter-client 7, please make sure your message is JSON-compliant\n",
      "  content = self.pack(content)\n"
     ]
    },
    {
     "data": {
      "application/vnd.jupyter.widget-view+json": {
       "model_id": "103dab729e5446ae906edf52b7890702",
       "version_major": 2,
       "version_minor": 0
      },
      "text/plain": [
       "Renderer(camera=PerspectiveCamera(children=(DirectionalLight(color='white', intensity=0.6, position=(11.775964…"
      ]
     },
     "metadata": {},
     "output_type": "display_data"
    },
    {
     "data": {
      "text/plain": [
       "<meshplot.Viewer.Viewer at 0x7fb04de8dfa0>"
      ]
     },
     "execution_count": 34,
     "metadata": {},
     "output_type": "execute_result"
    }
   ],
   "source": [
    "verts, faces = mesh( voxels())\n",
    "mp.plot( verts, faces)"
   ]
  },
  {
   "cell_type": "code",
   "execution_count": 35,
   "metadata": {},
   "outputs": [],
   "source": [
    "class sdfUnion:\n",
    "    def __init__( self, positions ):\n",
    "        self.pos = positions\n",
    "        self.curve = Interpolation( positions )\n",
    "        self.bases = self.curve.basisAlong( [0, 0.3, 0.7, 1] )\n",
    "        \n",
    "    def __call__( self, p ):\n",
    "        pInBasis = self._toBasis( p )\n",
    "\n",
    "        return np.min( [self.sdfSphere(p_b) for p_b in pInBasis ] )\n",
    "\n",
    "    @staticmethod\n",
    "    def sdfSphere( p ):\n",
    "        return np.linalg.norm(p) - 0.1\n",
    "\n",
    "    def _toBasis( self, p ):\n",
    "        return [ np.linalg.solve( base.T , p - center) for base, center in zip(self.bases, self.pos) ]\n",
    "\n"
   ]
  },
  {
   "cell_type": "code",
   "execution_count": 30,
   "metadata": {},
   "outputs": [],
   "source": [
    "union = sdfUnion(np.array([ data['position'] for _,data in centerline.nodes(data=True) ]))\n",
    "\n",
    "\n",
    "def voxels2( samples=30):\n",
    "    grid = []\n",
    "\n",
    "    for x in np.linspace(-1, 1, samples):\n",
    "        plano = []\n",
    "        for y in np.linspace(-1, 1, samples):\n",
    "            row = []\n",
    "            for z in np.linspace(-1, 1, samples):\n",
    "                row.append( union(np.array([x,y,z])) )\n",
    "            plano.append(row)\n",
    "        grid.append(plano)\n",
    "\n",
    "    grid = np.array(grid)\n",
    "    return grid\n",
    "    \n"
   ]
  },
  {
   "cell_type": "code",
   "execution_count": 32,
   "metadata": {},
   "outputs": [
    {
     "name": "stdout",
     "output_type": "stream",
     "text": [
      "56.60481834411621 0.006074666976928711\n"
     ]
    },
    {
     "name": "stderr",
     "output_type": "stream",
     "text": [
      "/home/migue/miniconda3/envs/graficos/lib/python3.9/site-packages/jupyter_client/session.py:716: UserWarning: Message serialization failed with:\n",
      "Out of range float values are not JSON compliant\n",
      "Supporting this message is deprecated in jupyter-client 7, please make sure your message is JSON-compliant\n",
      "  content = self.pack(content)\n"
     ]
    },
    {
     "data": {
      "application/vnd.jupyter.widget-view+json": {
       "model_id": "75b3077998e34b0b8f6855ad17b51a1d",
       "version_major": 2,
       "version_minor": 0
      },
      "text/plain": [
       "Renderer(camera=PerspectiveCamera(children=(DirectionalLight(color='white', intensity=0.6, position=(24.5, 35.…"
      ]
     },
     "metadata": {},
     "output_type": "display_data"
    },
    {
     "data": {
      "text/plain": [
       "<meshplot.Viewer.Viewer at 0x7fb05c049430>"
      ]
     },
     "execution_count": 32,
     "metadata": {},
     "output_type": "execute_result"
    }
   ],
   "source": [
    "import time\n",
    "\n",
    "startV = time.time()\n",
    "grid = voxels2( samples = 50 )\n",
    "endV = time.time()\n",
    "\n",
    "startM = time.time()\n",
    "verts, faces = mesh( grid )\n",
    "endM = time.time()\n",
    "\n",
    "print( endV- startV, endM - startM)\n",
    "mp.plot( verts, faces)"
   ]
  }
 ],
 "metadata": {
  "kernelspec": {
   "display_name": "Python 3.9.12 ('graficos')",
   "language": "python",
   "name": "python3"
  },
  "language_info": {
   "codemirror_mode": {
    "name": "ipython",
    "version": 3
   },
   "file_extension": ".py",
   "mimetype": "text/x-python",
   "name": "python",
   "nbconvert_exporter": "python",
   "pygments_lexer": "ipython3",
   "version": "3.9.12"
  },
  "orig_nbformat": 4,
  "vscode": {
   "interpreter": {
    "hash": "eb39dedddd96e042909f6d2defbd179a23d2732cde05673458392b8d1ef182a1"
   }
  }
 },
 "nbformat": 4,
 "nbformat_minor": 2
}
