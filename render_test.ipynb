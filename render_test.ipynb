{
 "cells": [
  {
   "cell_type": "code",
   "execution_count": 1,
   "metadata": {},
   "outputs": [],
   "source": [
    "import meshplot as mp\n",
    "import numpy as np\n",
    "from skimage.measure import marching_cubes\n",
    "import networkx as nx"
   ]
  },
  {
   "cell_type": "code",
   "execution_count": 2,
   "metadata": {},
   "outputs": [],
   "source": [
    "centerline = nx.Graph()\n",
    "centerline.add_node(0, position=np.array([0,0,0]))\n",
    "centerline.add_node(1, position=np.array([0,0.5,0]))\n",
    "centerline.add_node(2, position=np.array([0,1,0.2]))\n",
    "\n",
    "centerline.add_edges_from([(0,1), (1,2)])"
   ]
  },
  {
   "cell_type": "code",
   "execution_count": 3,
   "metadata": {},
   "outputs": [
    {
     "data": {
      "application/vnd.jupyter.widget-view+json": {
       "model_id": "f4a80165d5ce47a7a312bd7db64babbb",
       "version_major": 2,
       "version_minor": 0
      },
      "text/plain": [
       "Renderer(camera=PerspectiveCamera(children=(DirectionalLight(color='white', intensity=0.6, position=(0.0, 0.5,…"
      ]
     },
     "metadata": {},
     "output_type": "display_data"
    }
   ],
   "source": [
    "p = mp.plot( np.array([ data['position'] for node, data in centerline.nodes(data=True)]) , shading={'point_color': 'red', 'point_size':0.2},return_plot=True)\n",
    "\n",
    "for arista in centerline.edges:\n",
    "    p.add_lines( centerline.nodes[arista[0]]['position'], centerline.nodes[arista[1]]['position'])"
   ]
  },
  {
   "cell_type": "markdown",
   "metadata": {},
   "source": [
    "La sdf del cilindro, normalizado entre 0 y 1"
   ]
  },
  {
   "cell_type": "code",
   "execution_count": 5,
   "metadata": {},
   "outputs": [],
   "source": [
    "def sdfSphere( p ):\n",
    "    return np.linalg.norm(p) - 1\n",
    "\n",
    "\n",
    "def voxels( a, b, samples=30):\n",
    "    grid = []\n",
    "\n",
    "    for x in np.linspace(-1, 1, samples):\n",
    "        plano = []\n",
    "        for y in np.linspace(-1, 1, samples):\n",
    "            row = []\n",
    "            for z in np.linspace(-1, 1, samples):\n",
    "                row.append( sdfSphere(np.array([x,y,z])) )\n",
    "            plano.append(row)\n",
    "        grid.append(plano)\n",
    "\n",
    "    grid = np.array(grid)\n",
    "    return grid\n",
    "    \n",
    "def mesh( voxels ):\n",
    "    verts, faces, normals, values = marching_cubes( voxels, 0)\n",
    "    return verts, faces"
   ]
  },
  {
   "cell_type": "code",
   "execution_count": 6,
   "metadata": {},
   "outputs": [
    {
     "data": {
      "application/vnd.jupyter.widget-view+json": {
       "model_id": "42f1de9f10e14a5ab4a02f3740b41f2f",
       "version_major": 2,
       "version_minor": 0
      },
      "text/plain": [
       "Renderer(camera=PerspectiveCamera(children=(DirectionalLight(color='white', intensity=0.6, position=(14.499999…"
      ]
     },
     "metadata": {},
     "output_type": "display_data"
    },
    {
     "data": {
      "text/plain": [
       "<meshplot.Viewer.Viewer at 0x7f4305acdb50>"
      ]
     },
     "execution_count": 6,
     "metadata": {},
     "output_type": "execute_result"
    }
   ],
   "source": [
    "verts, faces = mesh( voxels(np.array( [0.4, 0 , 0] ), np.array( [0,0,0])))\n",
    "mp.plot( verts, faces)"
   ]
  },
  {
   "cell_type": "code",
   "execution_count": null,
   "metadata": {},
   "outputs": [],
   "source": [
    "def sdfUnion( centerline, p ):\n",
    "    .basisIn( [] )"
   ]
  },
  {
   "cell_type": "markdown",
   "metadata": {},
   "source": [
    "float sdCylinder(vec3 p, vec3 a, vec3 b, float r)\n",
    "{\n",
    "    vec3  ba = b - a;\n",
    "    vec3  pa = p - a;\n",
    "    float baba = dot(ba,ba);\n",
    "    float paba = dot(pa,ba);\n",
    "    float x = length(pa*baba-ba*paba) - r*baba;\n",
    "    float y = abs(paba-baba*0.5)-baba*0.5;\n",
    "    float x2 = x*x;\n",
    "    float y2 = y*y*baba;\n",
    "    \n",
    "    float d = (max(x,y)<0.0)?-min(x2,y2):(((x>0.0)?x2:0.0)+((y>0.0)?y2:0.0));\n",
    "    \n",
    "    return sign(d)*sqrt(abs(d))/baba;\n",
    "}\n",
    "\n",
    "float sdCappedCylinder2( vec3 p, vec2 h )\n",
    "{   \n",
    "  vec2 d = abs(vec2(length(p.xz),p.y)) - h;\n",
    "  return min(max(d.x,d.y),0.0) + length(max(d,0.0));\n",
    "}\n",
    "\n",
    "float map( in vec3 pos )\n",
    "{\n",
    "    //return sdCylinder(pos, vec3(0.4,0.0,0.0), vec3(-0.4,0,0), 0.3 );\n",
    "    mat3 rot;\n",
    "    float angle = 1.56;\n",
    "    rot[0].xyz = vec3(cos(angle), sin(angle), 0);\n",
    "    rot[1].xyz = vec3(-sin(angle), cos(angle), 0);\n",
    "    rot[2].xyz = vec3(0, 0, 1);\n",
    "    return sdCappedCylinder2( rot * pos, vec2(0.1,0.1));\n",
    "}\n",
    "\n",
    "// https://iquilezles.org/articles/normalsSDF\n",
    "vec3 calcNormal( in vec3 pos )\n",
    "{\n",
    "    vec2 e = vec2(1.0,-1.0)*0.5773;\n",
    "    const float eps = 0.0005;\n",
    "    return normalize( e.xyy*map( pos + e.xyy*eps ) + \n",
    "\t\t\t\t\t  e.yyx*map( pos + e.yyx*eps ) + \n",
    "\t\t\t\t\t  e.yxy*map( pos + e.yxy*eps ) + \n",
    "\t\t\t\t\t  e.xxx*map( pos + e.xxx*eps ) );\n",
    "}\n",
    "    \n",
    "#if HW_PERFORMANCE==0\n",
    "#define AA 1\n",
    "#else\n",
    "#define AA 3\n",
    "#endif\n",
    "\n",
    "void mainImage( out vec4 fragColor, in vec2 fragCoord )\n",
    "{\n",
    "     // camera movement\t\n",
    "\tfloat an = iTime * 0.3;\n",
    "\tvec3 ro = vec3( 1.0*cos(an), 0.4, 1.0*sin(an) );\n",
    "    vec3 ta = vec3( 0.0, 0.0, 0.0 );\n",
    "    // camera matrix\n",
    "    vec3 ww = normalize( ta - ro );\n",
    "    vec3 uu = normalize( cross(ww,vec3(0.0,1.0,0.0) ) );\n",
    "    vec3 vv = normalize( cross(uu,ww));\n",
    "\n",
    "        \n",
    "    vec3 tot = vec3(0.0);\n",
    "    \n",
    "    #if AA>1\n",
    "    for( int m=0; m<AA; m++ )\n",
    "    for( int n=0; n<AA; n++ )\n",
    "    {\n",
    "        // pixel coordinates\n",
    "        vec2 o = vec2(float(m),float(n)) / float(AA) - 0.5;\n",
    "        vec2 p = (-iResolution.xy + 2.0*(fragCoord+o))/iResolution.y;\n",
    "        #else    \n",
    "        vec2 p = (-iResolution.xy + 2.0*fragCoord)/iResolution.y;\n",
    "        #endif\n",
    "\n",
    "\t    // create view ray\n",
    "        vec3 rd = normalize( p.x*uu + p.y*vv + 1.5*ww );\n",
    "\n",
    "        // raymarch\n",
    "        const float tmax = 3.0;\n",
    "        float t = 0.0;\n",
    "        for( int i=0; i<256; i++ )\n",
    "        {\n",
    "            vec3 pos = ro + t*rd;\n",
    "            float h = map(pos);\n",
    "            if( h<0.0001 || t>tmax ) break;\n",
    "            t += h;\n",
    "        }\n",
    "        \n",
    "    \n",
    "        // shading/lighting\t\n",
    "        vec3 col = vec3(0.0);\n",
    "        if( t<tmax )\n",
    "        {\n",
    "            vec3 pos = ro + t*rd;\n",
    "            vec3 nor = calcNormal(pos);\n",
    "            float dif = clamp( dot(nor,vec3(0.57703)), 0.0, 1.0 );\n",
    "            float amb = 0.5 + 0.5*dot(nor,vec3(0.0,1.0,0.0));\n",
    "            col = vec3(0.2,0.3,0.4)*amb + vec3(0.8,0.7,0.5)*dif;\n",
    "        }\n",
    "\n",
    "        // gamma        \n",
    "        col = sqrt( col );\n",
    "\t    tot += col;\n",
    "    #if AA>1\n",
    "    }\n",
    "    tot /= float(AA*AA);\n",
    "    #endif\n",
    "\n",
    "\tfragColor = vec4( tot, 1.0 );\n",
    "}"
   ]
  }
 ],
 "metadata": {
  "kernelspec": {
   "display_name": "Python 3.9.13 ('graficos3.9')",
   "language": "python",
   "name": "python3"
  },
  "language_info": {
   "codemirror_mode": {
    "name": "ipython",
    "version": 3
   },
   "file_extension": ".py",
   "mimetype": "text/x-python",
   "name": "python",
   "nbconvert_exporter": "python",
   "pygments_lexer": "ipython3",
   "version": "3.9.13"
  },
  "orig_nbformat": 4,
  "vscode": {
   "interpreter": {
    "hash": "2739103a24152653e1f8b2fff28c65788dabdc9ba71ec9cb9a43d6c5fc424aab"
   }
  }
 },
 "nbformat": 4,
 "nbformat_minor": 2
}
