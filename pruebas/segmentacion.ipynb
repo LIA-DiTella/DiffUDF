{
 "cells": [
  {
   "cell_type": "code",
   "execution_count": 1,
   "metadata": {},
   "outputs": [
    {
     "name": "stdout",
     "output_type": "stream",
     "text": [
      "Jupyter environment detected. Enabling Open3D WebVisualizer.\n",
      "[Open3D INFO] WebRTC GUI backend enabled.\n",
      "[Open3D INFO] WebRTCWindowSystem: HTTP handshake server disabled.\n"
     ]
    }
   ],
   "source": [
    "import numpy as np\n",
    "import open3d as o3d\n",
    "from scipy.spatial import KDTree\n",
    "import meshplot as mp\n",
    "from util import Interpolation"
   ]
  },
  {
   "cell_type": "code",
   "execution_count": 2,
   "metadata": {},
   "outputs": [],
   "source": [
    "folder_dataset = '../data/generated/'\n",
    "folder_gen = 'test2'"
   ]
  },
  {
   "cell_type": "code",
   "execution_count": 3,
   "metadata": {},
   "outputs": [],
   "source": [
    "def plotCenterline( centerline , p ):\n",
    "    shading = { 'point_size': 0.1 }\n",
    "    p.add_points( np.array([centerline[0]]), shading=shading)\n",
    "\n",
    "    for i in range(1, len(centerline)):\n",
    "        p.add_points( np.array([centerline[i]]), shading=shading )\n",
    "        p.add_lines(  np.array([centerline[i-1]]), np.array([centerline[i]]), shading=shading )  "
   ]
  },
  {
   "cell_type": "code",
   "execution_count": 4,
   "metadata": {},
   "outputs": [],
   "source": [
    "def normalize( mesh: o3d.geometry.TriangleMesh, centerline: np.ndarray ) -> None:\n",
    "    #minCoord = np.min( np.asarray(mesh.vertices) )\n",
    "    #mesh.translate( (- minCoord, - minCoord, - minCoord )) #ahora deberia estar en rango [0,0,0] -> [inf, inf, inf] cada vertice\n",
    "    #centerline += np.full_like(centerline, -minCoord)\n",
    "#\n",
    "    #maxCoord = np.max( np.asarray(mesh.vertices) )\n",
    "    #mesh.scale( 2/maxCoord, center=(0,0,0)) # ahora en rango [0,0,0], [2,2,2]\n",
    "    #centerline *= 2/maxCoord\n",
    "#\n",
    "    #mesh.translate( (- 1, - 1, - 1 )) # ahora en rango [-1,-1,-1], [1,1,1]\n",
    "    #centerline += np.full_like(centerline, -1)\n",
    "\n",
    "    centro = mesh.get_center()\n",
    "    mesh.translate( (0,0,0), relative=False)\n",
    "    centerline -= np.full_like(centerline, centro)\n",
    "\n",
    "    maxCoord = np.max( np.abs( np.asarray(mesh.vertices) ) )\n",
    "\n",
    "    mesh.scale( 1/maxCoord, center=(0,0,0)) # ahora en rango [0,0,0], [2,2,2]\n",
    "    centerline *= 1/maxCoord"
   ]
  },
  {
   "cell_type": "code",
   "execution_count": 5,
   "metadata": {},
   "outputs": [
    {
     "name": "stdout",
     "output_type": "stream",
     "text": [
      "-1.0 0.9999077913221517\n"
     ]
    },
    {
     "data": {
      "application/vnd.jupyter.widget-view+json": {
       "model_id": "cd1ee28db7b4444e8d771183a4e5b1b5",
       "version_major": 2,
       "version_minor": 0
      },
      "text/plain": [
       "Renderer(camera=PerspectiveCamera(children=(DirectionalLight(color='white', intensity=0.6, position=(-4.610419…"
      ]
     },
     "metadata": {},
     "output_type": "display_data"
    }
   ],
   "source": [
    "original = o3d.io.read_triangle_mesh( folder_dataset + 'test1.off' )\n",
    "centerline = np.load(folder_dataset + 'test1.npy')\n",
    "\n",
    "mesh= o3d.geometry.TriangleMesh(original)\n",
    "normalize( mesh, centerline )\n",
    "\n",
    "print( np.min( np.asarray(mesh.vertices) ), np.max(np.asarray(mesh.vertices) ))\n",
    "\n",
    "p = mp.plot( np.asarray(mesh.vertices), np.asarray( mesh.triangles ), c = np.array([0.7,0,0]), return_plot=True )\n",
    "#p.add_mesh( np.asarray(original.vertices), np.asarray( original.triangles ), c = np.array([0,0,0.7]) )\n",
    "p.add_lines( np.array([[0,0,0], [0,0,0], [0,0,0] ]), np.array([[1,0,0], [0,1,0], [0,0,1] ]))\n",
    "plotCenterline( centerline, p)\n"
   ]
  },
  {
   "cell_type": "code",
   "execution_count": 6,
   "metadata": {},
   "outputs": [
    {
     "data": {
      "text/plain": [
       "11"
      ]
     },
     "execution_count": 6,
     "metadata": {},
     "output_type": "execute_result"
    }
   ],
   "source": [
    "p.add_points( np.asarray( mesh.vertices ), shading={'point_size': 0.08, 'point_color':'blue'})"
   ]
  },
  {
   "cell_type": "code",
   "execution_count": 7,
   "metadata": {},
   "outputs": [],
   "source": [
    "treeCenters = KDTree( centerline )\n",
    "\n",
    "a = treeCenters.query( np.asarray( mesh.vertices ), k=1 )"
   ]
  },
  {
   "cell_type": "code",
   "execution_count": 8,
   "metadata": {},
   "outputs": [],
   "source": [
    "submeshes = { 0: [], 1: [], 2: [], 3: [], 4: []}\n",
    "\n",
    "for idx, (point, nn) in enumerate( zip(np.asarray( mesh.vertices ), a[1] ) ):\n",
    "    submeshes[nn].append( idx )"
   ]
  },
  {
   "cell_type": "code",
   "execution_count": 9,
   "metadata": {},
   "outputs": [
    {
     "name": "stdout",
     "output_type": "stream",
     "text": [
      "[144, 256, 256, 256, 144] 1056 1056\n"
     ]
    }
   ],
   "source": [
    "r = [len(submeshes[i] ) for i in range(5)]\n",
    "print( r, len(mesh.vertices), sum(r))"
   ]
  },
  {
   "cell_type": "code",
   "execution_count": 10,
   "metadata": {},
   "outputs": [],
   "source": [
    "recs = []\n",
    "for m in submeshes.values():\n",
    "    newMesh = o3d.geometry.TriangleMesh( mesh  )\n",
    "    newMesh.remove_vertices_by_mask( [ i not in m for i in range(len(mesh.vertices)) ])\n",
    "    recs.append( newMesh )"
   ]
  },
  {
   "cell_type": "code",
   "execution_count": 11,
   "metadata": {},
   "outputs": [
    {
     "data": {
      "application/vnd.jupyter.widget-view+json": {
       "model_id": "dfc25f8b447d4fa5a6479dbf39b1c18b",
       "version_major": 2,
       "version_minor": 0
      },
      "text/plain": [
       "Renderer(camera=PerspectiveCamera(children=(DirectionalLight(color='white', intensity=0.6, position=(0.0, 0.0,…"
      ]
     },
     "metadata": {},
     "output_type": "display_data"
    }
   ],
   "source": [
    "p3 = mp.plot( np.zeros((1,3)) , return_plot=True)\n",
    "colors = np.array([[1,0,0], [0,1,0], [0,0,1], [1,1,0], [0, 1, 1]])\n",
    "for m, col in zip(recs, colors):\n",
    "    p3.add_mesh( np.asarray(m.vertices), np.asarray(m.triangles), c=col)\n",
    "\n",
    "plotCenterline( centerline, p3 )"
   ]
  },
  {
   "cell_type": "code",
   "execution_count": 12,
   "metadata": {},
   "outputs": [
    {
     "data": {
      "application/vnd.jupyter.widget-view+json": {
       "model_id": "b07b3c1906784bd8a3357d59533c93e7",
       "version_major": 2,
       "version_minor": 0
      },
      "text/plain": [
       "Renderer(camera=PerspectiveCamera(children=(DirectionalLight(color='white', intensity=0.6, position=(-0.006820…"
      ]
     },
     "metadata": {},
     "output_type": "display_data"
    },
    {
     "data": {
      "text/plain": [
       "3"
      ]
     },
     "execution_count": 12,
     "metadata": {},
     "output_type": "execute_result"
    }
   ],
   "source": [
    "curva = Interpolation( centerline )\n",
    "bases = curva.basisAlong( np.linspace(0,1,5) )\n",
    "\n",
    "idx = 1\n",
    "\n",
    "copia = o3d.geometry.TriangleMesh(recs[idx])\n",
    "copia.translate( -centerline[idx] )\n",
    "\n",
    "B_inv = np.linalg.inv(bases[idx].T)\n",
    "T = np.block( [[ B_inv, np.zeros((3,1)) ], [np.zeros((1,3)), np.array([1]) ] ])\n",
    "\n",
    "copia.transform( T )\n",
    "\n",
    "ccopia = o3d.geometry.TriangleMesh(copia)\n",
    "normalize( ccopia, ccopia.get_center() )\n",
    "\n",
    "p4 = mp.plot( np.asarray(copia.vertices), np.asarray(copia.triangles), c=np.array([0.7,0,0]), return_plot=True)\n",
    "p4.add_mesh( np.asarray(recs[idx].vertices), np.asarray(recs[idx].triangles), c=np.array([0,0,0.7]))\n",
    "p4.add_mesh( np.asarray(ccopia.vertices), np.asarray(ccopia.triangles), c=np.array([0,0.7,0.0]))\n",
    "p4.add_lines( np.array([[0,0,0], [0,0,0], [0,0,0] ]), np.array([[1,0,0], [0,1,0], [0,0,1] ]))"
   ]
  },
  {
   "cell_type": "code",
   "execution_count": 13,
   "metadata": {},
   "outputs": [],
   "source": [
    "import os\n",
    "os.mkdir('../data/segmented/' + folder_gen )\n",
    "os.mkdir('../data/segmented/' + folder_gen +'/originals')\n",
    "os.mkdir('../data/segmented/' + folder_gen +'/euclidean')\n",
    "os.mkdir('../data/segmented/' + folder_gen +'/normalized')\n",
    "\n",
    "curva = Interpolation( centerline )\n",
    "bases = curva.basisAlong( np.linspace(0,1,len(centerline)) )\n",
    "\n",
    "for i, (smesh, base) in enumerate(zip(recs, bases)):\n",
    "    o3d.io.write_triangle_mesh(f'../data/segmented/{folder_gen}/originals/test1_{i}.ply', smesh)\n",
    "\n",
    "    norm = o3d.geometry.TriangleMesh(smesh)\n",
    "    norm.translate( -centerline[i] )\n",
    "\n",
    "    B_inv = np.linalg.inv(base.T) # existe porque son ortogonales entre si -> son li\n",
    "    T = np.block( [[ B_inv, np.zeros((3,1)) ], [np.zeros((1,3)), np.array([1]) ] ])\n",
    "\n",
    "    norm.transform( T )\n",
    "    o3d.io.write_triangle_mesh(f\"../data/segmented/{folder_gen}/euclidean/test1_{i}.ply\", norm)\n",
    "\n",
    "    normalize(norm, norm.get_center())\n",
    "    o3d.io.write_triangle_mesh(f\"../data/segmented/{folder_gen}/normalized/test1_{i}.ply\", norm)\n"
   ]
  }
 ],
 "metadata": {
  "kernelspec": {
   "display_name": "Python 3.9.13 ('graficos3.9')",
   "language": "python",
   "name": "python3"
  },
  "language_info": {
   "codemirror_mode": {
    "name": "ipython",
    "version": 3
   },
   "file_extension": ".py",
   "mimetype": "text/x-python",
   "name": "python",
   "nbconvert_exporter": "python",
   "pygments_lexer": "ipython3",
   "version": "3.9.13"
  },
  "orig_nbformat": 4,
  "vscode": {
   "interpreter": {
    "hash": "2739103a24152653e1f8b2fff28c65788dabdc9ba71ec9cb9a43d6c5fc424aab"
   }
  }
 },
 "nbformat": 4,
 "nbformat_minor": 2
}
