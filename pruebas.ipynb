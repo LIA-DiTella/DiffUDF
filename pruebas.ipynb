{
 "cells": [
  {
   "cell_type": "code",
   "execution_count": 1,
   "metadata": {},
   "outputs": [],
   "source": [
    "import numpy as np\n",
    "from preprocess.util import Interpolation\n",
    "import meshplot as mp"
   ]
  },
  {
   "cell_type": "code",
   "execution_count": 2,
   "metadata": {},
   "outputs": [],
   "source": [
    "def plotCurve( points ):\n",
    "    p = mp.plot( points[0], shading={'point_size': 0.1}, return_plot=True)\n",
    "\n",
    "    for i, point in enumerate( points[1:] ):\n",
    "        p.add_points( np.array( [point] ) , shading={'point_size': 0.1})\n",
    "        p.add_lines( points[i ], point )\n",
    "\n",
    "    return p"
   ]
  },
  {
   "cell_type": "code",
   "execution_count": 9,
   "metadata": {},
   "outputs": [],
   "source": [
    "x = np.linspace(0, 2 * np.pi, 30)\n",
    "y = np.sin(x) \n",
    "z = np.zeros_like(x)\n",
    "curva = Interpolation( np.array([x,y,z]).T )"
   ]
  },
  {
   "cell_type": "code",
   "execution_count": 12,
   "metadata": {},
   "outputs": [
    {
     "ename": "ValueError",
     "evalue": "p(t) = 1.0833078115826873 is out of range [0,1].",
     "output_type": "error",
     "traceback": [
      "\u001b[0;31m---------------------------------------------------------------------------\u001b[0m",
      "\u001b[0;31mValueError\u001b[0m                                Traceback (most recent call last)",
      "\u001b[1;32m/home/migue/Documents/Overfit_SDFs/pruebas.ipynb Cell 4\u001b[0m in \u001b[0;36m<cell line: 3>\u001b[0;34m()\u001b[0m\n\u001b[1;32m      <a href='vscode-notebook-cell:/home/migue/Documents/Overfit_SDFs/pruebas.ipynb#W3sZmlsZQ%3D%3D?line=0'>1</a>\u001b[0m samples \u001b[39m=\u001b[39m curva\u001b[39m.\u001b[39mevaluateFrom( x )\n\u001b[0;32m----> <a href='vscode-notebook-cell:/home/migue/Documents/Overfit_SDFs/pruebas.ipynb#W3sZmlsZQ%3D%3D?line=2'>3</a>\u001b[0m plotCurve( \u001b[39mlist\u001b[39;49m(samples ) )\n",
      "File \u001b[0;32m~/Documents/Overfit_SDFs/preprocess/util.py:54\u001b[0m, in \u001b[0;36m<genexpr>\u001b[0;34m(.0)\u001b[0m\n\u001b[1;32m     50\u001b[0m \u001b[39mdef\u001b[39;00m \u001b[39mevaluateFrom\u001b[39m( \u001b[39mself\u001b[39m , ts ):\n\u001b[1;32m     51\u001b[0m     \u001b[39m'''\u001b[39;00m\n\u001b[1;32m     52\u001b[0m \u001b[39m        ts array-like.\u001b[39;00m\n\u001b[1;32m     53\u001b[0m \u001b[39m    '''\u001b[39;00m\n\u001b[0;32m---> 54\u001b[0m     \u001b[39mreturn\u001b[39;00m ( \u001b[39mself\u001b[39;49m\u001b[39m.\u001b[39;49mevaluate(t) \u001b[39mfor\u001b[39;00m t \u001b[39min\u001b[39;00m ts )\n",
      "File \u001b[0;32m~/Documents/Overfit_SDFs/preprocess/util.py:27\u001b[0m, in \u001b[0;36mInterpolation.evaluate\u001b[0;34m(self, t)\u001b[0m\n\u001b[1;32m     24\u001b[0m t \u001b[39m=\u001b[39m \u001b[39mself\u001b[39m\u001b[39m.\u001b[39mparametrization(t)\n\u001b[1;32m     26\u001b[0m \u001b[39mif\u001b[39;00m t \u001b[39m<\u001b[39m \u001b[39m0\u001b[39m \u001b[39mor\u001b[39;00m t \u001b[39m>\u001b[39m \u001b[39m1\u001b[39m:\n\u001b[0;32m---> 27\u001b[0m     \u001b[39mraise\u001b[39;00m \u001b[39mValueError\u001b[39;00m(\u001b[39m\"\u001b[39m\u001b[39mp(t) = \u001b[39m\u001b[39m\"\u001b[39m \u001b[39m+\u001b[39m \u001b[39mstr\u001b[39m(t) \u001b[39m+\u001b[39m\u001b[39m\"\u001b[39m\u001b[39m is out of range [0,1].\u001b[39m\u001b[39m\"\u001b[39m)\n\u001b[1;32m     29\u001b[0m amountOfCurves \u001b[39m=\u001b[39m (\u001b[39mlen\u001b[39m(\u001b[39mself\u001b[39m\u001b[39m.\u001b[39mpoints) \u001b[39m-\u001b[39m \u001b[39m3\u001b[39m)\n\u001b[1;32m     31\u001b[0m \u001b[39mif\u001b[39;00m np\u001b[39m.\u001b[39misclose(t, \u001b[39m1\u001b[39m):\n",
      "\u001b[0;31mValueError\u001b[0m: p(t) = 1.0833078115826873 is out of range [0,1]."
     ]
    }
   ],
   "source": [
    "samples = curva.evaluateFrom( np.linspace(0, 1, 30) )\n",
    "\n",
    "plotCurve( list(samples ) )"
   ]
  },
  {
   "cell_type": "code",
   "execution_count": 13,
   "metadata": {},
   "outputs": [
    {
     "data": {
      "application/vnd.jupyter.widget-view+json": {
       "model_id": "450c3bef31f94ad9a2faf64546914956",
       "version_major": 2,
       "version_minor": 0
      },
      "text/plain": [
       "Renderer(camera=PerspectiveCamera(children=(DirectionalLight(color='white', intensity=0.6, position=(3.2499234…"
      ]
     },
     "metadata": {},
     "output_type": "display_data"
    }
   ],
   "source": [
    "bases = curva.basisAlong(np.linspace(0, 1, 30))\n",
    "samples = list( curva.evaluateFrom( np.linspace(0, 1, 30) ))\n",
    "p = plotCurve( samples )\n",
    "\n",
    "for sample, base in zip(samples, bases):\n",
    "    p.add_lines( sample, base[0] + sample, shading={'line_color':'green'})\n",
    "    p.add_lines( sample, base[1] + sample, shading={'line_color':'blue'})\n",
    "    p.add_lines( sample, base[2] + sample, shading={'line_color':'red'})\n",
    "    "
   ]
  }
 ],
 "metadata": {
  "kernelspec": {
   "display_name": "Python 3.9.13 ('graficos3.9')",
   "language": "python",
   "name": "python3"
  },
  "language_info": {
   "codemirror_mode": {
    "name": "ipython",
    "version": 3
   },
   "file_extension": ".py",
   "mimetype": "text/x-python",
   "name": "python",
   "nbconvert_exporter": "python",
   "pygments_lexer": "ipython3",
   "version": "3.9.13"
  },
  "orig_nbformat": 4,
  "vscode": {
   "interpreter": {
    "hash": "2739103a24152653e1f8b2fff28c65788dabdc9ba71ec9cb9a43d6c5fc424aab"
   }
  }
 },
 "nbformat": 4,
 "nbformat_minor": 2
}
