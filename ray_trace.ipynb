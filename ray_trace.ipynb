{
 "cells": [
  {
   "cell_type": "code",
   "execution_count": null,
   "metadata": {},
   "outputs": [],
   "source": [
    "import torch\n",
    "import numpy as np\n",
    "from model import SIREN\n",
    "import matplotlib.cm as cm\n",
    "import matplotlib.pyplot as plt\n",
    "from PIL import Image\n",
    "from sphere_tracing import create_orthogonal_image"
   ]
  },
  {
   "cell_type": "code",
   "execution_count": null,
   "metadata": {},
   "outputs": [],
   "source": [
    "MESH = 'armadillo_slice'\n",
    "MODEL = 'model_best_30'\n",
    "W0 = 30\n",
    "\n",
    "LADO = 1024\n",
    "SAMPLES = LADO ** 2\n",
    "BORDES = [1, -1]\n",
    "OFFSETPLANO = 1\n",
    "EPSILON = 1e-3\n",
    "ETA = 0.2\n",
    "REF_STEPS = 3"
   ]
  },
  {
   "cell_type": "code",
   "execution_count": null,
   "metadata": {},
   "outputs": [],
   "source": [
    "device_torch = torch.device(0)\n",
    "model = SIREN(\n",
    "        n_in_features= 3,\n",
    "        n_out_features=1,\n",
    "        hidden_layer_config=[256,256,256,256],\n",
    "        w0=W0,\n",
    "        ww=None\n",
    ")\n",
    "model.load_state_dict( torch.load(f'models/{MESH}/{MODEL}.pth', map_location=device_torch))\n",
    "model.to(device_torch)\n",
    "\n",
    "model_parameters = filter(lambda p: p.requires_grad, model.parameters())\n",
    "params = sum([np.prod(p.size()) for p in model_parameters])\n",
    "print(params)"
   ]
  },
  {
   "cell_type": "code",
   "execution_count": null,
   "metadata": {},
   "outputs": [],
   "source": [
    "colores, values = create_orthogonal_image( model, SAMPLES, EPSILON, ETA, REF_STEPS )\n",
    "im = Image.fromarray((colores * 255).astype(np.uint8))\n",
    "im.save('prueba.png', 'PNG')"
   ]
  },
  {
   "cell_type": "code",
   "execution_count": null,
   "metadata": {},
   "outputs": [],
   "source": [
    "plt.hist( np.concatenate(values) )"
   ]
  },
  {
   "attachments": {},
   "cell_type": "markdown",
   "metadata": {},
   "source": [
    "# Con proyeccion"
   ]
  },
  {
   "cell_type": "code",
   "execution_count": 1,
   "metadata": {},
   "outputs": [],
   "source": [
    "import torch\n",
    "import numpy as np\n",
    "from model import SIREN\n",
    "import matplotlib.cm as cm\n",
    "import matplotlib.pyplot as plt\n",
    "from PIL import Image\n",
    "from sphere_tracing import create_projectional_image"
   ]
  },
  {
   "cell_type": "code",
   "execution_count": 22,
   "metadata": {},
   "outputs": [],
   "source": [
    "MESH = 'armadillo_slice'\n",
    "MODEL = 'model_best_hess'\n",
    "W0 = 30\n",
    "\n",
    "LADO = 512\n",
    "SAMPLES = LADO ** 2\n",
    "BORDES = [1, -1]\n",
    "OFFSETPLANO = 1\n",
    "EPSILON = 1e-2\n",
    "ETA = 0.01\n",
    "REF_STEPS = 30"
   ]
  },
  {
   "cell_type": "code",
   "execution_count": 23,
   "metadata": {},
   "outputs": [
    {
     "name": "stdout",
     "output_type": "stream",
     "text": [
      "198657\n"
     ]
    }
   ],
   "source": [
    "device_torch = torch.device(0)\n",
    "model = SIREN(\n",
    "        n_in_features= 3,\n",
    "        n_out_features=1,\n",
    "        hidden_layer_config=[256,256,256,256],\n",
    "        w0=W0,\n",
    "        ww=None\n",
    ")\n",
    "model.load_state_dict( torch.load(f'models/{MESH}/{MODEL}.pth', map_location=device_torch))\n",
    "model.to(device_torch)\n",
    "\n",
    "model_parameters = filter(lambda p: p.requires_grad, model.parameters())\n",
    "params = sum([np.prod(p.size()) for p in model_parameters])\n",
    "print(params)"
   ]
  },
  {
   "cell_type": "code",
   "execution_count": 24,
   "metadata": {},
   "outputs": [],
   "source": [
    "i_1, i_2 = np.meshgrid( np.linspace(BORDES[0], BORDES[1], LADO), np.linspace(BORDES[0], BORDES[1], LADO) )\n",
    "image = np.concatenate(\n",
    "                np.concatenate( np.array([np.expand_dims(i_1, 2), \n",
    "                                        np.expand_dims(i_2, 2), \n",
    "                                        np.expand_dims(np.ones_like(i_1) * OFFSETPLANO, 2)])\n",
    "                                , axis=2 ),\n",
    "                axis=0)\n",
    "colores, samples, grad_norms = create_projectional_image( model, SAMPLES, EPSILON, ETA, REF_STEPS, np.array([0,0,2]), image, np.array([0,0,2]) )\n",
    "im = Image.fromarray((colores * 255).astype(np.uint8))\n",
    "im.save('prueba.png', 'PNG')"
   ]
  },
  {
   "cell_type": "code",
   "execution_count": 25,
   "metadata": {},
   "outputs": [
    {
     "data": {
      "text/plain": [
       "(array([9.44000e+02, 2.63000e+02, 1.67000e+02, 7.62000e+02, 1.16200e+03,\n",
       "        9.96400e+03, 6.77320e+04, 3.81392e+05, 5.01146e+05, 1.50800e+03]),\n",
       " array([-0.00727408, -0.00642138, -0.00556868, -0.00471598, -0.00386327,\n",
       "        -0.00301057, -0.00215787, -0.00130517, -0.00045246,  0.00040024,\n",
       "         0.00125294], dtype=float32),\n",
       " <BarContainer object of 10 artists>)"
      ]
     },
     "execution_count": 25,
     "metadata": {},
     "output_type": "execute_result"
    },
    {
     "data": {
      "image/png": "[encoded data removed]",
      "text/plain": [
       "<Figure size 640x480 with 1 Axes>"
      ]
     },
     "metadata": {},
     "output_type": "display_data"
    }
   ],
   "source": [
    "plt.hist( np.concatenate(samples) )"
   ]
  },
  {
   "cell_type": "code",
   "execution_count": 26,
   "metadata": {},
   "outputs": [
    {
     "data": {
      "text/plain": [
       "(array([1.0212e+04, 1.5945e+04, 5.2550e+03, 6.7500e+02, 6.8000e+01,\n",
       "        1.1000e+01, 0.0000e+00, 0.0000e+00, 0.0000e+00, 2.0000e+00]),\n",
       " array([0.00051573, 0.01694828, 0.03338082, 0.04981337, 0.06624592,\n",
       "        0.08267847, 0.09911101, 0.11554356, 0.13197611, 0.14840865,\n",
       "        0.1648412 ]),\n",
       " <BarContainer object of 10 artists>)"
      ]
     },
     "execution_count": 26,
     "metadata": {},
     "output_type": "execute_result"
    },
    {
     "data": {
      "image/png": "[encoded data removed]",
      "text/plain": [
       "<Figure size 640x480 with 1 Axes>"
      ]
     },
     "metadata": {},
     "output_type": "display_data"
    }
   ],
   "source": [
    "plt.hist(grad_norms)"
   ]
  }
 ],
 "metadata": {
  "kernelspec": {
   "display_name": "graficos3.9",
   "language": "python",
   "name": "python3"
  },
  "language_info": {
   "codemirror_mode": {
    "name": "ipython",
    "version": 3
   },
   "file_extension": ".py",
   "mimetype": "text/x-python",
   "name": "python",
   "nbconvert_exporter": "python",
   "pygments_lexer": "ipython3",
   "version": "3.9.13"
  },
  "orig_nbformat": 4
 },
 "nbformat": 4,
 "nbformat_minor": 2
}
