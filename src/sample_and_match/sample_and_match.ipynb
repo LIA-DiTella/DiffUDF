{
 "cells": [
  {
   "cell_type": "code",
   "execution_count": null,
   "metadata": {},
   "outputs": [],
   "source": [
    "import numpy as np\n",
    "from interpol import Interpolation\n",
    "import matplotlib.cm as cm\n",
    "import meshplot as mp\n",
    "import open3d as o3d\n",
    "from scipy.spatial import KDTree"
   ]
  },
  {
   "cell_type": "code",
   "execution_count": null,
   "metadata": {},
   "outputs": [],
   "source": [
    "mesh = o3d.io.read_triangle_mesh('../../data/humans/mesh/test_15070.off')\n",
    "\n",
    "skeleton = []\n",
    "interpolations = []\n",
    "with open('../../data/humans/centerline/faust_15070.txt') as file:\n",
    "    for id, line in enumerate(file):\n",
    "        contenidos = line.split(\" \")\n",
    "        vertices = np.reshape( np.array( contenidos[1:]).astype(np.float32), ((len(contenidos) - 1) // 3, 3) )\n",
    "        skeleton.append( vertices )\n",
    "        interpolations.append( Interpolation(vertices) )\n",
    "\n",
    "vertice_de_arti = {}\n",
    "with open('../../data/humans/centerline/faust_15070.polylines.txt') as file:\n",
    "    for line in file:\n",
    "        s = line.split(' ')\n",
    "        art = np.array(s[1:4]).astype(np.float32)\n",
    "\n",
    "        if tuple(art) in vertice_de_arti:\n",
    "            vertice_de_arti[tuple(art)].append(np.array(s[4:]).astype(np.float32))\n",
    "        else:\n",
    "            vertice_de_arti[tuple(art)] = [np.array(s[4:]).astype(np.float32)]\n",
    "\n",
    "print( len(vertice_de_arti))"
   ]
  },
  {
   "cell_type": "code",
   "execution_count": null,
   "metadata": {},
   "outputs": [],
   "source": [
    "len(np.concatenate(skeleton))"
   ]
  },
  {
   "cell_type": "code",
   "execution_count": null,
   "metadata": {},
   "outputs": [],
   "source": [
    "begs = np.array(list(vertice_de_arti.keys()))\n",
    "\n",
    "a = np.concatenate( [ np.concatenate(skeleton), np.unique(begs, axis=0)])\n",
    "print(len(np.unique(a, axis=0)), len(a))"
   ]
  },
  {
   "cell_type": "code",
   "execution_count": null,
   "metadata": {},
   "outputs": [],
   "source": [
    "ends = np.concatenate(list(vertice_de_arti.values()))\n",
    "\n",
    "print( len(np.unique( np.concatenate([ends, np.asarray(mesh.vertices)]), axis=0 )), len(ends), len(np.asarray(mesh.vertices)) )\n",
    "\n",
    "# OSEA - Los vertices tienen distinta presicion :/"
   ]
  },
  {
   "cell_type": "code",
   "execution_count": null,
   "metadata": {},
   "outputs": [],
   "source": [
    "len(np.concatenate(list(vertice_de_arti.values())))"
   ]
  },
  {
   "cell_type": "code",
   "execution_count": null,
   "metadata": {},
   "outputs": [],
   "source": [
    "vertices_de_centro = {}\n",
    "centros = None\n",
    "for vertices, curva in zip(skeleton, interpolations):\n",
    "    #print('CURVA:')\n",
    "    arterias_t = curva.sampleByCurvature(pointsPerUnit=5)\n",
    "    arterias = list( curva.evaluateFrom(arterias_t) )\n",
    "    centros = np.concatenate( [centros, arterias] ) if centros is not None else arterias\n",
    "\n",
    "    l = 0\n",
    "    for i, art in zip(range(len(arterias_t)), arterias):\n",
    "        if i == len(arterias_t) - 1:\n",
    "            h= len(vertices)\n",
    "        else:\n",
    "            h = np.ceil( len(vertices) * (arterias_t[i] + (arterias_t[i + 1] - arterias_t[i])/2) ).astype(np.uint32)\n",
    "        \n",
    "        #print('   ', l, h)\n",
    "        if tuple(art) in vertices_de_centro:\n",
    "            vertices_de_centro[tuple(art)] = np.unique( np.concatenate( [ vertices_de_centro[tuple(art)], np.concatenate( [ vertice_de_arti[tuple(v)] for v in vertices[l:h]] )  ]), axis=0)\n",
    "        else:\n",
    "            vertices_de_centro[tuple(art)] = np.concatenate( [ vertice_de_arti[tuple(v)] for v in vertices[l:h]] )\n",
    "        l = h"
   ]
  },
  {
   "cell_type": "code",
   "execution_count": null,
   "metadata": {},
   "outputs": [],
   "source": [
    "len(np.concatenate(list(vertices_de_centro.values())))"
   ]
  },
  {
   "cell_type": "code",
   "execution_count": null,
   "metadata": {},
   "outputs": [],
   "source": [
    "p = mp.plot( centros, return_plot=True, shading={'point_size': 0.1, 'point_color':'#AA0000' } )\n",
    "\n",
    "cmap = cm.get_cmap('prism')\n",
    "for i, (art, verts) in enumerate(vertices_de_centro.items()):\n",
    "\n",
    "    c = '#'\n",
    "    for x in (np.array(cmap( (i)/len(centros)) )[0:3] * 255).astype(np.uint32):\n",
    "        h = hex(x)[2:]\n",
    "        c += h if len(h) == 2 else '0' + h\n",
    "    \n",
    "    p.add_points( np.array( verts ),shading={'point_size': 0.05, 'point_color':c } )"
   ]
  },
  {
   "cell_type": "code",
   "execution_count": null,
   "metadata": {},
   "outputs": [],
   "source": [
    "# unificacion vertices\n",
    "\n",
    "treeVert = KDTree( np.asarray(mesh.vertices) )\n",
    "\n",
    "recs = []\n",
    "for i, (art, verts) in enumerate(vertices_de_centro.items()):\n",
    "    query = treeVert.query( verts, k=1 )\n",
    "    newMesh = o3d.geometry.TriangleMesh( mesh  )\n",
    "    newMesh.remove_vertices_by_mask( [i not in query[1] for i in range(len(np.asarray(mesh.vertices)) + 1)] )\n",
    "    recs.append( newMesh )"
   ]
  },
  {
   "cell_type": "code",
   "execution_count": null,
   "metadata": {},
   "outputs": [],
   "source": [
    "p3 = mp.plot( np.zeros((1,3)) , return_plot=True)\n",
    "cmap = cm.get_cmap('flag')\n",
    "\n",
    "for i, m in enumerate(recs):\n",
    "    p3.add_mesh( np.asarray(m.vertices), np.asarray(m.triangles), c=np.array(cmap((i)/len(recs)))[0:3])"
   ]
  }
 ],
 "metadata": {
  "kernelspec": {
   "display_name": "graficos3.9",
   "language": "python",
   "name": "python3"
  },
  "language_info": {
   "codemirror_mode": {
    "name": "ipython",
    "version": 3
   },
   "file_extension": ".py",
   "mimetype": "text/x-python",
   "name": "python",
   "nbconvert_exporter": "python",
   "pygments_lexer": "ipython3",
   "version": "3.9.13 (main, Aug 25 2022, 23:26:10) \n[GCC 11.2.0]"
  },
  "orig_nbformat": 4,
  "vscode": {
   "interpreter": {
    "hash": "2739103a24152653e1f8b2fff28c65788dabdc9ba71ec9cb9a43d6c5fc424aab"
   }
  }
 },
 "nbformat": 4,
 "nbformat_minor": 2
}
