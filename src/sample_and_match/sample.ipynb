{
 "cells": [
  {
   "cell_type": "code",
   "execution_count": 1,
   "metadata": {},
   "outputs": [
    {
     "name": "stdout",
     "output_type": "stream",
     "text": [
      "Jupyter environment detected. Enabling Open3D WebVisualizer.\n",
      "[Open3D INFO] WebRTC GUI backend enabled.\n",
      "[Open3D INFO] WebRTCWindowSystem: HTTP handshake server disabled.\n"
     ]
    }
   ],
   "source": [
    "import numpy as np\n",
    "from interpol import Interpolation\n",
    "from scipy.spatial import KDTree\n",
    "import matplotlib.cm as cm\n",
    "import meshplot as mp\n",
    "import open3d as o3d\n",
    "import networkx as nx\n",
    "import trimesh as tm"
   ]
  },
  {
   "cell_type": "code",
   "execution_count": 2,
   "metadata": {},
   "outputs": [
    {
     "name": "stdout",
     "output_type": "stream",
     "text": [
      "Hay 21 lineas\n"
     ]
    }
   ],
   "source": [
    "mesh = o3d.io.read_triangle_mesh('../../data/humans/mesh/test_6890.off')\n",
    "\n",
    "skeleton = []\n",
    "with open('../../data/humans/centerline/test_52516.txt') as file:\n",
    "    for line in file:\n",
    "        contenidos = line.split(\" \")\n",
    "        vertices_en_rama = int(contenidos[0])\n",
    "        vertices = np.reshape( np.array( contenidos[1:]).astype(np.float32), ((len(contenidos) - 1) // 3, 3) )\n",
    "        skeleton.append( Interpolation(vertices) )\n",
    "        \n",
    "\n",
    "print(f\"Hay {len(skeleton)} lineas\")\n"
   ]
  },
  {
   "cell_type": "code",
   "execution_count": 11,
   "metadata": {},
   "outputs": [
    {
     "data": {
      "application/vnd.jupyter.widget-view+json": {
       "model_id": "3b480f0c098444179ca1902a09b5dcea",
       "version_major": 2,
       "version_minor": 0
      },
      "text/plain": [
       "Renderer(camera=PerspectiveCamera(children=(DirectionalLight(color='white', intensity=0.6, position=(0.0281797…"
      ]
     },
     "metadata": {},
     "output_type": "display_data"
    }
   ],
   "source": [
    "centros = None\n",
    "p = mp.plot( np.asarray(mesh.vertices), return_plot=True, shading={'point_size': 0.015, 'point_color':'#AA0000' })\n",
    "\n",
    "cmap = cm.get_cmap('tab20')\n",
    "for i, curve in enumerate(skeleton):\n",
    "    c = '#'\n",
    "    for x in (np.array(cmap( (i)/len(skeleton)) )[0:3] * 255).astype(np.uint32):\n",
    "        h = hex(x)[2:]\n",
    "        c += h if len(h) == 2 else '0' + h\n",
    "    \n",
    "    a = list(curve.evaluateFrom(curve.sampleByCurvature(pointsPerUnit=5)))\n",
    "    \n",
    "    centros = np.concatenate([ centros, np.asarray(a)]) if centros is not None else np.asarray(a)\n",
    "    p.add_points( np.asarray(a), shading={'point_size': 0.1, 'point_color':c } )"
   ]
  },
  {
   "cell_type": "code",
   "execution_count": null,
   "metadata": {},
   "outputs": [],
   "source": [
    "len(centros)"
   ]
  },
  {
   "attachments": {},
   "cell_type": "markdown",
   "metadata": {},
   "source": [
    "## Matching"
   ]
  },
  {
   "attachments": {},
   "cell_type": "markdown",
   "metadata": {},
   "source": [
    "¿Qué pasa si hago el matching trivial? Es decir, para cada vértice me fijo que articulación está más cerca y me quedo con esa."
   ]
  },
  {
   "cell_type": "code",
   "execution_count": 12,
   "metadata": {},
   "outputs": [
    {
     "name": "stdout",
     "output_type": "stream",
     "text": [
      "[126, 78, 0, 0, 71, 93, 89, 126, 132, 76, 0, 150, 130, 0, 129, 84, 81, 123, 80, 86, 135, 142, 0, 262, 273, 162, 180, 199, 249, 0, 2269, 696, 241, 274, 43, 0, 0, 115, 116, 0, 268, 391, 882, 0, 130, 73, 0, 132, 115, 233, 0, 0, 0, 451, 429, 228, 589, 247, 200, 141, 147, 298, 251, 0, 0, 0, 257, 378, 888, 0, 38, 0] 13776 13776\n"
     ]
    }
   ],
   "source": [
    "mesh = tm.load_mesh('../../data/humans/mesh/test_6890.off')\n",
    "treeCenters = KDTree( centros )\n",
    "\n",
    "a = treeCenters.query( np.asarray( mesh.triangles_center ), k=1 )\n",
    "\n",
    "submeshes = { centro: [] for centro in range(len(centros))}\n",
    "\n",
    "for idx, (point, nn) in enumerate( zip(np.asarray( mesh.triangles_center ), a[1] ) ):\n",
    "    submeshes[nn].append( idx )\n",
    "\n",
    "r = [len(i ) for i in submeshes.values()]\n",
    "print( r, len(mesh.faces), sum(r))"
   ]
  },
  {
   "cell_type": "code",
   "execution_count": 13,
   "metadata": {},
   "outputs": [],
   "source": [
    "recs = []\n",
    "for m in submeshes.values():\n",
    "    t = mesh.submesh( [m], append=True ) \n",
    "    if isinstance(t, tm.Trimesh):\n",
    "        recs.append( t )\n",
    "    else:\n",
    "        recs.append( tm.Trimesh() )\n",
    "    #newMesh = o3d.geometry.TriangleMesh( mesh  )\n",
    "    #newMesh.remove_vertices_by_mask( [ i not in m for i in range(len(mesh.vertices)) ])\n",
    "    "
   ]
  },
  {
   "cell_type": "code",
   "execution_count": 14,
   "metadata": {},
   "outputs": [
    {
     "data": {
      "application/vnd.jupyter.widget-view+json": {
       "model_id": "854ff7e3cec74ae4b1137689205446a7",
       "version_major": 2,
       "version_minor": 0
      },
      "text/plain": [
       "Renderer(camera=PerspectiveCamera(children=(DirectionalLight(color='white', intensity=0.6, position=(0.0, 0.0,…"
      ]
     },
     "metadata": {},
     "output_type": "display_data"
    }
   ],
   "source": [
    "p3 = mp.plot( np.zeros((1,3)) , return_plot=True)\n",
    "cmap = cm.get_cmap('flag')\n",
    "for i, m in enumerate(recs):\n",
    "    \n",
    "    if len(np.asarray(m.vertices)) != 0:\n",
    "        p3.add_mesh( np.asarray(m.vertices), np.asarray(m.faces), c=np.array(cmap((i)/len(recs)))[0:3] )"
   ]
  },
  {
   "attachments": {},
   "cell_type": "markdown",
   "metadata": {},
   "source": [
    "### Usando optimización"
   ]
  },
  {
   "attachments": {},
   "cell_type": "markdown",
   "metadata": {},
   "source": [
    "Introduzco una función de pérdida L.\n",
    "\n",
    "Quiero que L sea más grande si:\n",
    "- Un matcheo tiene más de una componente conexa\n",
    "- La distancia entre el centro de masa y la articulación es grande\n",
    "- ..."
   ]
  },
  {
   "cell_type": "code",
   "execution_count": null,
   "metadata": {},
   "outputs": [],
   "source": [
    "def L( submeshes, articulaciones, w ):\n",
    "\n",
    "    Lcc = lambda s: sum( [ np.exp( (nx.number_connected_components( tm.graph.vertex_adjacency_graph(s_i) ) - 1) * 1 ) - 1 for s_i in s if len(s_i.vertices) != 0] )\n",
    "\n",
    "    Lcm = lambda s, a: sum( [ np.linalg.norm( np.average(s_i.triangles_center, axis=0) - a_i ) for s_i, a_i in zip(s, a) if len(s_i.vertices) != 0 ])\n",
    "\n",
    "    return w[0] * Lcc(submeshes) + w[1] * Lcm(submeshes, articulaciones)"
   ]
  },
  {
   "cell_type": "code",
   "execution_count": null,
   "metadata": {},
   "outputs": [],
   "source": [
    "L( recs, centros, (1,1) )"
   ]
  },
  {
   "attachments": {},
   "cell_type": "markdown",
   "metadata": {},
   "source": [
    "# Problema\n",
    "\n",
    "Quiero asignarle triangulos a cada articulación de tal forma que:\n",
    "- La asignación sea una submalla que no tenga huecos ni multiples componentes\n",
    "- Que el centro de masa de esta submalla sea lo más cercano a la articulación posible\n",
    "- "
   ]
  },
  {
   "cell_type": "code",
   "execution_count": 9,
   "metadata": {},
   "outputs": [
    {
     "data": {
      "application/vnd.jupyter.widget-view+json": {
       "model_id": "36822abdb9064e829e13f40924dcc3b3",
       "version_major": 2,
       "version_minor": 0
      },
      "text/plain": [
       "Renderer(camera=PerspectiveCamera(children=(DirectionalLight(color='white', intensity=0.6, position=(0.0281797…"
      ]
     },
     "metadata": {},
     "output_type": "display_data"
    },
    {
     "data": {
      "text/plain": [
       "1"
      ]
     },
     "execution_count": 9,
     "metadata": {},
     "output_type": "execute_result"
    }
   ],
   "source": [
    "beg, end = [], []\n",
    "## EL PRIMER VERTICE QUE APARECE ES DEL ESQUELETO\n",
    "with open('../../data/humans/centerline/faust_15070.polylines.txt') as file:\n",
    "    for line in file:\n",
    "        s = line.split(' ')\n",
    "        beg.append( np.array(s[1:4]).astype(np.float32) )\n",
    "        end.append( np.array(s[4:]).astype(np.float32) ) \n",
    "\n",
    "mesh = o3d.io.read_triangle_mesh('../../data/humans/mesh/test_6890.off')\n",
    "p = mp.plot( np.asarray(mesh.vertices), return_plot=True, shading={'point_size': 0.01, 'point_color':'#AA0000' })\n",
    "p.add_lines( np.array(beg), np.array(end))"
   ]
  },
  {
   "cell_type": "code",
   "execution_count": 15,
   "metadata": {},
   "outputs": [
    {
     "data": {
      "text/plain": [
       "561"
      ]
     },
     "execution_count": 15,
     "metadata": {},
     "output_type": "execute_result"
    }
   ],
   "source": [
    "len(np.unique(beg, axis=0))"
   ]
  },
  {
   "cell_type": "code",
   "execution_count": null,
   "metadata": {},
   "outputs": [],
   "source": []
  }
 ],
 "metadata": {
  "kernelspec": {
   "display_name": "graficos3.9",
   "language": "python",
   "name": "python3"
  },
  "language_info": {
   "codemirror_mode": {
    "name": "ipython",
    "version": 3
   },
   "file_extension": ".py",
   "mimetype": "text/x-python",
   "name": "python",
   "nbconvert_exporter": "python",
   "pygments_lexer": "ipython3",
   "version": "3.9.13 (main, Aug 25 2022, 23:26:10) \n[GCC 11.2.0]"
  },
  "orig_nbformat": 4,
  "vscode": {
   "interpreter": {
    "hash": "2739103a24152653e1f8b2fff28c65788dabdc9ba71ec9cb9a43d6c5fc424aab"
   }
  }
 },
 "nbformat": 4,
 "nbformat_minor": 2
}
