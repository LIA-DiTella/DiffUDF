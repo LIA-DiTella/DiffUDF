{
 "cells": [
  {
   "cell_type": "code",
   "execution_count": 1,
   "metadata": {},
   "outputs": [],
   "source": [
    "import pymeshlab as pm\n",
    "import os"
   ]
  },
  {
   "cell_type": "code",
   "execution_count": 2,
   "metadata": {},
   "outputs": [],
   "source": [
    "def calculateCurvatures( file ):\n",
    "    ms = pm.MeshSet()\n",
    "    ms.load_new_mesh(file)\n",
    "    ms.meshing_surface_subdivision_loop(iterations=2)\n",
    "    ms.apply_normal_normalization_per_vertex()\n",
    "    ms.compute_scalar_by_discrete_curvature_per_vertex(curvaturetype='Mean Curvature')\n",
    "    #ms.compute_curvature_principal_directions_per_vertex(method='Quadric Fitting', curvcolormethod='Mean Curvature')\n",
    "    ms.save_current_mesh(file_name=file[:-4] + '_curv.ply', \n",
    "                        binary=False, \n",
    "                        save_vertex_quality=True, \n",
    "                        save_vertex_normal=True)"
   ]
  },
  {
   "cell_type": "code",
   "execution_count": 4,
   "metadata": {},
   "outputs": [],
   "source": [
    "for (dir, _, files) in os.walk('../data/segmented/test2/normalized'):\n",
    "    for file in files:\n",
    "        if file[-3:] == 'ply':\n",
    "            calculateCurvatures(dir + '/' + file)"
   ]
  }
 ],
 "metadata": {
  "kernelspec": {
   "display_name": "Python 3.9.13 ('graficos3.9')",
   "language": "python",
   "name": "python3"
  },
  "language_info": {
   "codemirror_mode": {
    "name": "ipython",
    "version": 3
   },
   "file_extension": ".py",
   "mimetype": "text/x-python",
   "name": "python",
   "nbconvert_exporter": "python",
   "pygments_lexer": "ipython3",
   "version": "3.9.13 (main, Aug 25 2022, 23:26:10) \n[GCC 11.2.0]"
  },
  "orig_nbformat": 4,
  "vscode": {
   "interpreter": {
    "hash": "2739103a24152653e1f8b2fff28c65788dabdc9ba71ec9cb9a43d6c5fc424aab"
   }
  }
 },
 "nbformat": 4,
 "nbformat_minor": 2
}
