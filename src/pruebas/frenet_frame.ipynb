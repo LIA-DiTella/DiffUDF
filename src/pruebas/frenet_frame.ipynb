{
 "cells": [
  {
   "cell_type": "code",
   "execution_count": 1,
   "metadata": {},
   "outputs": [],
   "source": [
    "import numpy as np\n",
    "from preprocess.util import Interpolation\n",
    "import meshplot as mp"
   ]
  },
  {
   "cell_type": "code",
   "execution_count": 2,
   "metadata": {},
   "outputs": [],
   "source": [
    "def plotCurve( points ):\n",
    "    p = mp.plot( points[0], shading={'point_size': 0.1}, return_plot=True)\n",
    "\n",
    "    for i, point in enumerate( points[1:] ):\n",
    "        p.add_points( np.array( [point] ) , shading={'point_size': 0.1})\n",
    "        p.add_lines( points[i ], point )\n",
    "\n",
    "    return p"
   ]
  },
  {
   "cell_type": "code",
   "execution_count": 3,
   "metadata": {},
   "outputs": [],
   "source": [
    "x = np.linspace(0, 2 * np.pi, 30)\n",
    "y = np.sin(x) \n",
    "z = np.zeros_like(x)\n",
    "curva = Interpolation( np.array([x,y,z]).T )"
   ]
  },
  {
   "cell_type": "code",
   "execution_count": 4,
   "metadata": {},
   "outputs": [
    {
     "data": {
      "application/vnd.jupyter.widget-view+json": {
       "model_id": "7335a3e5dd87435e9654ba5c9140b7c8",
       "version_major": 2,
       "version_minor": 0
      },
      "text/plain": [
       "Renderer(camera=PerspectiveCamera(children=(DirectionalLight(color='white', intensity=0.6, position=(3.2499234…"
      ]
     },
     "metadata": {},
     "output_type": "display_data"
    },
    {
     "data": {
      "text/plain": [
       "<meshplot.Viewer.Viewer at 0x7f72ad4bfdf0>"
      ]
     },
     "execution_count": 4,
     "metadata": {},
     "output_type": "execute_result"
    }
   ],
   "source": [
    "samples = curva.evaluateFrom( np.linspace(0, 1, 30) )\n",
    "\n",
    "plotCurve( list(samples ) )"
   ]
  },
  {
   "cell_type": "code",
   "execution_count": 5,
   "metadata": {},
   "outputs": [
    {
     "data": {
      "application/vnd.jupyter.widget-view+json": {
       "model_id": "f72843b684eb4e02842ecf6b8ca655dd",
       "version_major": 2,
       "version_minor": 0
      },
      "text/plain": [
       "Renderer(camera=PerspectiveCamera(children=(DirectionalLight(color='white', intensity=0.6, position=(3.2499234…"
      ]
     },
     "metadata": {},
     "output_type": "display_data"
    }
   ],
   "source": [
    "bases = curva.basisAlong(np.linspace(0, 1, 30))\n",
    "samples = list( curva.evaluateFrom( np.linspace(0, 1, 30) ))\n",
    "p = plotCurve( samples )\n",
    "\n",
    "for sample, base in zip(samples, bases):\n",
    "    p.add_lines( sample, base[0] + sample, shading={'line_color':'green'})\n",
    "    p.add_lines( sample, base[1] + sample, shading={'line_color':'blue'})\n",
    "    p.add_lines( sample, base[2] + sample, shading={'line_color':'red'})\n",
    "    "
   ]
  }
 ],
 "metadata": {
  "kernelspec": {
   "display_name": "Python 3.9.13 ('graficos3.9')",
   "language": "python",
   "name": "python3"
  },
  "language_info": {
   "codemirror_mode": {
    "name": "ipython",
    "version": 3
   },
   "file_extension": ".py",
   "mimetype": "text/x-python",
   "name": "python",
   "nbconvert_exporter": "python",
   "pygments_lexer": "ipython3",
   "version": "3.9.13 (main, Aug 25 2022, 23:26:10) \n[GCC 11.2.0]"
  },
  "orig_nbformat": 4,
  "vscode": {
   "interpreter": {
    "hash": "2739103a24152653e1f8b2fff28c65788dabdc9ba71ec9cb9a43d6c5fc424aab"
   }
  }
 },
 "nbformat": 4,
 "nbformat_minor": 2
}
