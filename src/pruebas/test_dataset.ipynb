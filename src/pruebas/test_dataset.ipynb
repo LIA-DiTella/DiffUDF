{
 "cells": [
  {
   "attachments": {},
   "cell_type": "markdown",
   "metadata": {},
   "source": [
    "# Test sampleo dataset completo"
   ]
  },
  {
   "cell_type": "code",
   "execution_count": 1,
   "metadata": {},
   "outputs": [
    {
     "name": "stdout",
     "output_type": "stream",
     "text": [
      "Jupyter environment detected. Enabling Open3D WebVisualizer.\n",
      "[Open3D INFO] WebRTC GUI backend enabled.\n",
      "[Open3D INFO] WebRTCWindowSystem: HTTP handshake server disabled.\n"
     ]
    }
   ],
   "source": [
    "import numpy as np\n",
    "import meshplot as mp\n",
    "from training.dataset import PointCloud\n",
    "import matplotlib.pyplot as plt"
   ]
  },
  {
   "cell_type": "code",
   "execution_count": 2,
   "metadata": {},
   "outputs": [
    {
     "name": "stdout",
     "output_type": "stream",
     "text": [
      "Loading meshes \"../data/segmented/armadillo_slice.json\".\n",
      "Fetching 30000 on-surface points per iteration.\n",
      "Fetching 24000 far from surface points per iteration.\n",
      "Fetching 6000 near surface points per iteration.\n",
      "Creating point-cloud and acceleration structures.\n"
     ]
    }
   ],
   "source": [
    "pc = PointCloud( '../data/segmented/armadillo_slice.json', 60000,[0.5, 0.4, 0.1], 1,[0.1, 0.1, 0.8], [0.3, 0.95])"
   ]
  },
  {
   "cell_type": "code",
   "execution_count": 3,
   "metadata": {},
   "outputs": [
    {
     "data": {
      "application/vnd.jupyter.widget-view+json": {
       "model_id": "1a76bc992b824b82885924144dc05faf",
       "version_major": 2,
       "version_minor": 0
      },
      "text/plain": [
       "Renderer(camera=PerspectiveCamera(children=(DirectionalLight(color='white', intensity=0.6, position=(-0.008064…"
      ]
     },
     "metadata": {},
     "output_type": "display_data"
    },
    {
     "data": {
      "text/plain": [
       "<meshplot.Viewer.Viewer at 0x7fe664e36280>"
      ]
     },
     "execution_count": 3,
     "metadata": {},
     "output_type": "execute_result"
    }
   ],
   "source": [
    "samples, normals, sdf, curvature = next(iter(pc))\n",
    "coords = np.array(samples.detach().cpu())\n",
    "sdf = np.array(sdf.detach().cpu()).flatten()\n",
    "curvature = np.array(curvature.detach().cpu()).flatten()\n",
    "mp.plot( coords[-6000:], c= np.sqrt(sdf[-6000:]), shading={'point_size':0.1, 'colormap':'turbo'} )"
   ]
  },
  {
   "attachments": {},
   "cell_type": "markdown",
   "metadata": {},
   "source": [
    "# Test superficie"
   ]
  },
  {
   "cell_type": "code",
   "execution_count": null,
   "metadata": {},
   "outputs": [],
   "source": [
    "mp.plot( coords[np.isclose(sdf, submesh).flatten()], c= curvature[np.isclose(sdf, submesh).flatten()], shading={'point_size':0.1, 'colormap':'turbo'} )"
   ]
  },
  {
   "attachments": {},
   "cell_type": "markdown",
   "metadata": {},
   "source": [
    "a ver si hacemos un analisis un poquito más piola..."
   ]
  },
  {
   "cell_type": "code",
   "execution_count": null,
   "metadata": {},
   "outputs": [],
   "source": [
    "configuraciones = [\n",
    "    [ [0.3, 0.3, 0.4], [0.3, 0.6] ], # super equilibrada\n",
    "    [ [0.1, 0.8, 0.1], [0.5, 0.9]], # con enfoque en las de curvatura media\n",
    "    [ [0.1, 0.1, 0.8], [0.5, 0.9]] # con enfoque en curvatura alta\n",
    "]\n",
    "\n",
    "curvaturas = []\n",
    "puntos = []\n",
    "for fractions, bins in configuraciones:\n",
    "    pc = PointCloud( '../results/juguete_hd/juguete_hd.json', 300, 2,fractions, bins)\n",
    "    c = []\n",
    "    p = []\n",
    "    for samples, normals, sdf, curvature in iter(pc):\n",
    "        distance = np.array(samples.detach().cpu())[:, 0]\n",
    "        coords = np.array(samples.detach().cpu())[:, 1:]\n",
    "        sdf = np.array(sdf.detach().cpu()).flatten()\n",
    "        curvature = np.array(curvature.detach().cpu()).flatten()\n",
    "        submesh = np.ones_like(distance) * 0\n",
    "\n",
    "        if len(c) == 0:\n",
    "            p = coords[np.isclose(sdf, submesh).flatten()]\n",
    "            c = curvature[np.isclose(sdf, submesh).flatten()]\n",
    "        else:\n",
    "            c = np.concatenate( [c, curvature[np.isclose(sdf, submesh).flatten()]])\n",
    "            p = np.concatenate( [p, coords[np.isclose(sdf, submesh).flatten()]])\n",
    "\n",
    "    curvaturas.append(c)\n",
    "    puntos.append(p)"
   ]
  },
  {
   "cell_type": "code",
   "execution_count": null,
   "metadata": {},
   "outputs": [],
   "source": [
    "bins = np.linspace( np.min(curvaturas), np.max(curvaturas), 20)\n",
    "plt.hist( curvaturas[0],density=True, bins=bins,alpha=0.5, label='conf0')\n",
    "plt.hist( curvaturas[1],density=True, bins=bins,alpha=0.5, label='conf1')\n",
    "plt.hist( curvaturas[2],density=True, bins=bins,alpha=0.5, label='conf2')\n",
    "plt.legend(loc='upper right')\n",
    "plt.show()"
   ]
  },
  {
   "cell_type": "code",
   "execution_count": null,
   "metadata": {},
   "outputs": [],
   "source": [
    "mp.plot( puntos[2], c= curvaturas[2], shading={'point_size':0.05, 'colormap':'turbo'} )"
   ]
  },
  {
   "attachments": {},
   "cell_type": "markdown",
   "metadata": {},
   "source": [
    "# Test full - dataset"
   ]
  },
  {
   "cell_type": "code",
   "execution_count": null,
   "metadata": {},
   "outputs": [],
   "source": [
    "import numpy as np\n",
    "import meshplot as mp\n",
    "from training.dataset import PointCloud\n",
    "import matplotlib.pyplot as plt\n",
    "from scipy.spatial import KDTree\n",
    "import open3d as o3d\n",
    "import json"
   ]
  },
  {
   "cell_type": "code",
   "execution_count": null,
   "metadata": {},
   "outputs": [],
   "source": [
    "pc = PointCloud( '../results/faust_54098/faust_54098.json', 116000, 1,[0.1, 0.1, 0.8], [0.3, 0.95])\n",
    "print( len(pc.meshes) )"
   ]
  },
  {
   "cell_type": "code",
   "execution_count": null,
   "metadata": {},
   "outputs": [],
   "source": [
    "samples, normals, sdf, curvature = next(iter(pc))\n",
    "distance = np.array(samples.detach().cpu())[:, 0:pc.features]\n",
    "coords = np.array(samples.detach().cpu())[:, pc.features:]\n",
    "sdf = np.array(sdf.detach().cpu()).flatten()\n",
    "curvature = np.array(curvature.detach().cpu()).flatten()"
   ]
  },
  {
   "cell_type": "code",
   "execution_count": null,
   "metadata": {},
   "outputs": [],
   "source": [
    "means = []\n",
    "meshes = []\n",
    "with open('../results/faust_54098/faust_54098.json') as jsonFile:\n",
    "    data = json.load( jsonFile )\n",
    "\n",
    "    for joint in data['joints']:\n",
    "        means.append( joint['mean'])\n",
    "        meshes.append( o3d.geometry.TriangleMesh( \n",
    "            o3d.utility.Vector3dVector(np.asarray(joint['vertices'])), \n",
    "            o3d.utility.Vector3iVector(np.asarray(joint['triangles'])) ) )\n",
    "            \n",
    "treeOfMeans = KDTree( means )\n",
    "_, jointIdx = treeOfMeans.query( distance, k=1 )\n",
    "\n",
    "plt.figure(0)\n",
    "bins = np.arange( 0, len(meshes))\n",
    "plt.hist( jointIdx,bins=bins)\n",
    "plt.show()\n"
   ]
  },
  {
   "cell_type": "code",
   "execution_count": null,
   "metadata": {},
   "outputs": [],
   "source": [
    "submesh = 57\n",
    "if submesh not in jointIdx:\n",
    "    print(f'La submalla {submesh} no fue sampleada nunca')\n",
    "else:\n",
    "    mp.plot( coords[jointIdx == submesh], c= sdf[ jointIdx == submesh], shading={'point_size':0.1, 'colormap':'turbo'} )"
   ]
  },
  {
   "cell_type": "code",
   "execution_count": null,
   "metadata": {},
   "outputs": [],
   "source": [
    "mp.plot( np.asarray( meshes[submesh].vertices), np.asarray( meshes[submesh].triangles) )"
   ]
  }
 ],
 "metadata": {
  "kernelspec": {
   "display_name": "graficos3.9",
   "language": "python",
   "name": "python3"
  },
  "language_info": {
   "codemirror_mode": {
    "name": "ipython",
    "version": 3
   },
   "file_extension": ".py",
   "mimetype": "text/x-python",
   "name": "python",
   "nbconvert_exporter": "python",
   "pygments_lexer": "ipython3",
   "version": "3.9.13"
  },
  "orig_nbformat": 4,
  "vscode": {
   "interpreter": {
    "hash": "2739103a24152653e1f8b2fff28c65788dabdc9ba71ec9cb9a43d6c5fc424aab"
   }
  }
 },
 "nbformat": 4,
 "nbformat_minor": 2
}
