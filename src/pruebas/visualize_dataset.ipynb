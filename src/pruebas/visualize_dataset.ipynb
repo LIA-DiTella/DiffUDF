{
 "cells": [
  {
   "cell_type": "code",
   "execution_count": 1,
   "metadata": {},
   "outputs": [
    {
     "name": "stdout",
     "output_type": "stream",
     "text": [
      "Jupyter environment detected. Enabling Open3D WebVisualizer.\n",
      "[Open3D INFO] WebRTC GUI backend enabled.\n",
      "[Open3D INFO] WebRTCWindowSystem: HTTP handshake server disabled.\n"
     ]
    }
   ],
   "source": [
    "from dataset import PointCloud, MultiplePointClouds\n",
    "import meshplot as mp\n",
    "import open3d as o3d\n",
    "import numpy as np\n",
    "from plyfile import PlyData"
   ]
  },
  {
   "cell_type": "code",
   "execution_count": 2,
   "metadata": {},
   "outputs": [],
   "source": [
    "def getNumpy( p : PointCloud ):\n",
    "    coords, normals, sdfs = p.__getitem__(0)\n",
    "\n",
    "    return coords.cpu().detach().numpy(), normals.cpu().detach().numpy(), sdfs.cpu().detach().numpy()"
   ]
  },
  {
   "cell_type": "code",
   "execution_count": 4,
   "metadata": {},
   "outputs": [
    {
     "name": "stdout",
     "output_type": "stream",
     "text": [
      "Loading mesh \"../data/segmented/test2/normalized/test1_0_curv.ply\".\n",
      "Using curvatures?  YES\n",
      "Fetching 5 on-surface points per iteration.\n",
      "Creating point-cloud and acceleration structures.\n",
      "Done preparing the dataset.\n"
     ]
    }
   ],
   "source": [
    "point_cloud = PointCloud(\n",
    "    \"../data/segmented/test2/normalized/test1_0_curv.ply\", batch_size=10, use_curvature=True,\n",
    "    curvature_fractions=(0.75, 0.20, 0.05), curvature_percentiles=(70, 95)\n",
    ")\n",
    "\n",
    "mesh = o3d.io.read_triangle_mesh( \"../data/segmented/test2/normalized/test1_0_curv.ply\" )"
   ]
  },
  {
   "cell_type": "code",
   "execution_count": null,
   "metadata": {},
   "outputs": [],
   "source": [
    "p = mp.plot( np.asarray(mesh.vertices), np.asarray(mesh.triangles), c=np.array([0.7,0,0]), return_plot=True )"
   ]
  },
  {
   "cell_type": "code",
   "execution_count": null,
   "metadata": {},
   "outputs": [],
   "source": [
    "points, normals, sdf = getNumpy( point_cloud )\n",
    "\n",
    "p.add_points( points, c=sdf, shading={'point_size':0.3, 'normalization':True} )"
   ]
  },
  {
   "cell_type": "code",
   "execution_count": null,
   "metadata": {},
   "outputs": [],
   "source": [
    "def _read_ply_with_curvatures(path: str):\n",
    "    \"\"\"Reads a PLY file with position, normal and curvature info.\n",
    "\n",
    "    Note that we expect the input ply to contain x,y,z vertex data, as well\n",
    "    as nx,ny,nz normal data and the curvature stored in the `quality` vertex\n",
    "    property.\n",
    "\n",
    "    Parameters\n",
    "    ----------\n",
    "    path: str, PathLike\n",
    "        Path to the ply file. We except the file to be in binary format.\n",
    "\n",
    "    Returns\n",
    "    -------\n",
    "    mesh: o3d.t.geometry.TriangleMesh\n",
    "        The fully constructed Open3D Triangle Mesh. By default, the mesh is\n",
    "        allocated on the CPU:0 device.\n",
    "\n",
    "    vertices: numpy.array\n",
    "        The same vertex information as stored in `mesh` returned for\n",
    "        convenience only.\n",
    "\n",
    "    See Also\n",
    "    --------\n",
    "    PlyData.read, o3d.t.geometry.TriangleMesh\n",
    "    \"\"\"\n",
    "\n",
    "    curvaturas = None\n",
    "    # Reading the PLY file with curvature info\n",
    "    with open(path, \"rb\") as f:\n",
    "        plydata = PlyData.read(f)\n",
    "        num_verts = plydata[\"vertex\"].count\n",
    "        vertices = np.zeros(shape=(num_verts, 7), dtype=np.float32)\n",
    "        vertices[:, 0] = plydata[\"vertex\"].data[\"x\"]\n",
    "        vertices[:, 1] = plydata[\"vertex\"].data[\"y\"]\n",
    "        vertices[:, 2] = plydata[\"vertex\"].data[\"z\"]\n",
    "        vertices[:, 3] = plydata[\"vertex\"].data[\"nx\"]\n",
    "        vertices[:, 4] = plydata[\"vertex\"].data[\"ny\"]\n",
    "        vertices[:, 5] = plydata[\"vertex\"].data[\"nz\"]\n",
    "        vertices[:, 6] = plydata[\"vertex\"].data[\"quality\"]\n",
    "\n",
    "        curvaturas = plydata[\"vertex\"].data[\"quality\"]\n",
    "    \n",
    "    return curvaturas\n",
    "\n",
    "curvaturas = _read_ply_with_curvatures(\"../data/segmented/test2/normalized/test1_0_curv.ply\")\n",
    "\n",
    "import matplotlib.pyplot as plt\n",
    "\n",
    "plt.figure(0)\n",
    "plt.hist(curvaturas, bins=50)\n",
    "plt.show()"
   ]
  },
  {
   "cell_type": "code",
   "execution_count": 5,
   "metadata": {},
   "outputs": [
    {
     "name": "stdout",
     "output_type": "stream",
     "text": [
      "Loading mesh \"../data/segmented/test2/normalized/test1_0_curv.ply\".\n",
      "Using curvatures?  YES\n",
      "Fetching 5 on-surface points per iteration.\n",
      "Creating point-cloud and acceleration structures.\n",
      "Done preparing the dataset.\n"
     ]
    },
    {
     "data": {
      "application/vnd.jupyter.widget-view+json": {
       "model_id": "60790066aee14ec880cd3a1047396718",
       "version_major": 2,
       "version_minor": 0
      },
      "text/plain": [
       "Renderer(camera=PerspectiveCamera(children=(DirectionalLight(color='white', intensity=0.6, position=(0.0519458…"
      ]
     },
     "metadata": {},
     "output_type": "display_data"
    }
   ],
   "source": [
    "point_cloud2 = MultiplePointClouds(\n",
    "    mesh_paths=[ \"../data/segmented/test2/normalized/test1_0_curv.ply\" ],\n",
    "    selector_path= \"../data/segmented/test1/normalized/selector.csv\",\n",
    "    batch_size=10,\n",
    "    use_curvature=True, curvature_fractions=(0.75, 0.2, 0.05), curvature_percentiles=(70, 95)\n",
    ")\n",
    "\n",
    "p2 = mp.plot( np.asarray(mesh.vertices), np.asarray(mesh.triangles), c=np.array([0.7,0,0]), return_plot=True )"
   ]
  },
  {
   "cell_type": "code",
   "execution_count": 32,
   "metadata": {},
   "outputs": [
    {
     "data": {
      "text/plain": [
       "26"
      ]
     },
     "execution_count": 32,
     "metadata": {},
     "output_type": "execute_result"
    }
   ],
   "source": [
    "def getNumpy2( p : PointCloud ):\n",
    "    coords, props = p.__getitem__(0)\n",
    "\n",
    "    coords = coords['coords'].cpu().detach().numpy()\n",
    "    normals = props['normals'].cpu().detach().numpy()\n",
    "    sdfs = props['sdf'].cpu().detach().numpy()\n",
    "    return coords, normals, sdfs\n",
    "\n",
    "points, normals, sdf = getNumpy2( point_cloud2 )\n",
    "\n",
    "p2.add_points( points, c=sdf, shading={'point_size':0.3, 'normalization':True} )"
   ]
  }
 ],
 "metadata": {
  "kernelspec": {
   "display_name": "Python 3.9.13 ('graficos3.9')",
   "language": "python",
   "name": "python3"
  },
  "language_info": {
   "codemirror_mode": {
    "name": "ipython",
    "version": 3
   },
   "file_extension": ".py",
   "mimetype": "text/x-python",
   "name": "python",
   "nbconvert_exporter": "python",
   "pygments_lexer": "ipython3",
   "version": "3.9.13 (main, Aug 25 2022, 23:26:10) \n[GCC 11.2.0]"
  },
  "orig_nbformat": 4,
  "vscode": {
   "interpreter": {
    "hash": "2739103a24152653e1f8b2fff28c65788dabdc9ba71ec9cb9a43d6c5fc424aab"
   }
  }
 },
 "nbformat": 4,
 "nbformat_minor": 2
}
