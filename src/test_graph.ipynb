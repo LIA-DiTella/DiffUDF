{
 "cells": [
  {
   "cell_type": "code",
   "execution_count": null,
   "metadata": {},
   "outputs": [],
   "source": [
    "import numpy as np\n",
    "import networkx as nx\n",
    "from scipy.spatial import KDTree\n",
    "import matplotlib.pyplot as plt\n",
    "import matplotlib.cm as cm\n",
    "import pydot\n",
    "import meshplot as mp\n",
    "import open3d as o3d\n",
    "from networkx.drawing.nx_pydot import graphviz_layout\n",
    "from itertools import combinations\n"
   ]
  },
  {
   "cell_type": "code",
   "execution_count": null,
   "metadata": {},
   "outputs": [],
   "source": [
    "branches = []\n",
    "borders = {}\n",
    "with open( '../results/faust_54098/faust_54098.txt' ) as file:\n",
    "    for idx,line in enumerate(file):\n",
    "        line =line.replace('\\n', '')\n",
    "        contents = line.split(\" \")\n",
    "\n",
    "\n",
    "        if tuple(contents[1:4]) in borders:\n",
    "            borders[ tuple(contents[1:4]) ].add(idx)\n",
    "        else:\n",
    "            borders[ tuple(contents[1:4]) ] = set([idx])\n",
    "\n",
    "        if tuple(contents[-3:]) in borders:\n",
    "            borders[ tuple(contents[-3:]) ].add(idx)\n",
    "        else:\n",
    "            borders[ tuple(contents[-3:]) ] = set([idx])\n",
    "\n",
    "        branches.append( np.reshape( np.array( contents[1:]).astype(np.float32), ((len(contents) - 1) // 3, 3) ) )\n",
    "\n",
    "len(branches)"
   ]
  },
  {
   "cell_type": "code",
   "execution_count": null,
   "metadata": {},
   "outputs": [],
   "source": [
    "mesh = o3d.io.read_triangle_mesh('../data/humans/mesh/faust_6890.off')\n",
    "\n",
    "p = mp.plot( np.asarray(mesh.vertices) , shading={'point_size': 0.01, 'point_color':'#AA0000' },return_plot=True)\n",
    "cmap1 = cm.get_cmap('tab20b')\n",
    "cmap2 = cm.get_cmap('tab20c')\n",
    "for i, branch in enumerate(branches):\n",
    "    cmap = cmap1 if i < 20 else cmap2\n",
    "    c = '#'\n",
    "    for x in (np.array(cmap( (i)/20) )[0:3] * 255).astype(np.uint32):\n",
    "        h = hex(x)[2:]\n",
    "        c += h if len(h) == 2 else '0' + h\n",
    "\n",
    "    p.add_points( branch, shading={'point_size': 0.1, 'point_color':c })"
   ]
  },
  {
   "cell_type": "code",
   "execution_count": null,
   "metadata": {},
   "outputs": [],
   "source": [
    "grafo = nx.Graph()\n",
    "grafo.add_nodes_from( np.arange(0,len(branches)) )\n",
    "grafo.add_edges_from( [ t for s in borders.values() for t in combinations(s, 2) ] )\n"
   ]
  },
  {
   "cell_type": "code",
   "execution_count": null,
   "metadata": {},
   "outputs": [],
   "source": [
    "nx.draw(grafo, with_labels=True)"
   ]
  },
  {
   "cell_type": "code",
   "execution_count": null,
   "metadata": {},
   "outputs": [],
   "source": [
    "nx.number_connected_components(grafo)"
   ]
  },
  {
   "cell_type": "code",
   "execution_count": null,
   "metadata": {},
   "outputs": [],
   "source": [
    "print( len(grafo.nodes), len(grafo.edges) ) # es arbol si m = n - 1!"
   ]
  },
  {
   "attachments": {},
   "cell_type": "markdown",
   "metadata": {},
   "source": [
    "Quiero elegir la raiz que me de el arbol mas bajito... nose porque... porque es mas lindo nomas"
   ]
  },
  {
   "cell_type": "code",
   "execution_count": null,
   "metadata": {},
   "outputs": [],
   "source": [
    "raiz = np.argmin( np.max( [ [ len(k) for k in d.values() ] for d in dict(nx.all_pairs_shortest_path(grafo)).values() ], axis=1 ) )\n",
    "arbol = nx.bfs_tree( grafo, raiz )"
   ]
  },
  {
   "cell_type": "code",
   "execution_count": null,
   "metadata": {},
   "outputs": [],
   "source": [
    "pos = graphviz_layout(arbol, prog=\"dot\")\n",
    "pos = { int(k): v for k,v in pos.items()}\n",
    "nx.draw(arbol, pos, with_labels=True)\n",
    "plt.show()"
   ]
  },
  {
   "attachments": {},
   "cell_type": "markdown",
   "metadata": {},
   "source": [
    "# Test grafo de centros"
   ]
  },
  {
   "cell_type": "code",
   "execution_count": 7,
   "metadata": {},
   "outputs": [],
   "source": [
    "import numpy as np\n",
    "import open3d as o3d\n",
    "import networkx as nx\n",
    "import matplotlib.pyplot as plt\n",
    "import matplotlib.cm as cm\n",
    "import pydot\n",
    "import meshplot as mp\n",
    "from networkx.drawing.nx_pydot import graphviz_layout"
   ]
  },
  {
   "cell_type": "code",
   "execution_count": 3,
   "metadata": {},
   "outputs": [
    {
     "name": "stdout",
     "output_type": "stream",
     "text": [
      "[['0.407979', '-0.403275', '0.0798797'], ['0.406916', '-0.398029', '0.0651192'], ['0.407569', '-0.401849', '0.0540092'], ['0.407914', '-0.411452', '0.0462927'], ['0.407984', '-0.415631', '0.044058'], ['0.407982', '-0.421294', '0.0416138'], ['0.407844', '-0.432957', '0.038328'], ['0.407726', '-0.439744', '0.0367879'], ['0.407684', '-0.441706', '0.0363928']]\n",
      "407 406\n",
      "1\n"
     ]
    }
   ],
   "source": [
    "def createGraph( branches ):\n",
    "    graph = nx.Graph()\n",
    "    for branch in branches:\n",
    "        lastNode = None\n",
    "        for joint in branch:\n",
    "            nodeCode = hash( (' ').join(joint) )\n",
    "            \n",
    "            graph.add_node( nodeCode, position=np.array(joint).astype(np.float32) )\n",
    "            if lastNode != None:\n",
    "                graph.add_edge( nodeCode, lastNode )\n",
    "\n",
    "            lastNode = nodeCode\n",
    "\n",
    "    return graph\n",
    "\n",
    "meshFile = '../data/humans/mesh/faust_6890.off'\n",
    "skeletonFile = '../data/humans/centerline/faust_6890.txt'\n",
    "\n",
    "mesh = o3d.io.read_triangle_mesh( meshFile )\n",
    "centers = []\n",
    "\n",
    "with open( skeletonFile ) as file:\n",
    "    for idx, line in enumerate(file):\n",
    "        line =line.replace('\\n', '')\n",
    "        contents = line.split(\" \")\n",
    "        centers.append( [ contents[i:i+3] for i in range(1,len(contents),3)] )\n",
    "\n",
    "graph = createGraph( centers )\n",
    "\n",
    "print( len(graph.nodes), len(graph.edges))\n",
    "print( nx.number_connected_components(graph))\n",
    "\n",
    "## Conexo y m = n-1 => arbol"
   ]
  },
  {
   "cell_type": "code",
   "execution_count": null,
   "metadata": {},
   "outputs": [],
   "source": [
    "for node in graph.nodes:\n",
    "    assert hash( node['position']\n"
   ]
  }
 ],
 "metadata": {
  "kernelspec": {
   "display_name": "graficos3.9",
   "language": "python",
   "name": "python3"
  },
  "language_info": {
   "codemirror_mode": {
    "name": "ipython",
    "version": 3
   },
   "file_extension": ".py",
   "mimetype": "text/x-python",
   "name": "python",
   "nbconvert_exporter": "python",
   "pygments_lexer": "ipython3",
   "version": "3.9.13"
  },
  "orig_nbformat": 4,
  "vscode": {
   "interpreter": {
    "hash": "2739103a24152653e1f8b2fff28c65788dabdc9ba71ec9cb9a43d6c5fc424aab"
   }
  }
 },
 "nbformat": 4,
 "nbformat_minor": 2
}
