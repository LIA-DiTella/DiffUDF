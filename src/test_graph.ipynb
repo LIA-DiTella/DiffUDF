{
 "cells": [
  {
   "cell_type": "code",
   "execution_count": null,
   "metadata": {},
   "outputs": [],
   "source": [
    "import numpy as np\n",
    "import networkx as nx\n",
    "from scipy.spatial import KDTree\n",
    "import matplotlib.pyplot as plt\n",
    "import matplotlib.cm as cm\n",
    "import pydot\n",
    "import meshplot as mp\n",
    "from networkx.drawing.nx_pydot import graphviz_layout\n",
    "from itertools import combinations\n"
   ]
  },
  {
   "cell_type": "code",
   "execution_count": null,
   "metadata": {},
   "outputs": [],
   "source": [
    "branches = []\n",
    "borders = {}\n",
    "with open( '../results/faust_6890/faust_6890.txt' ) as file:\n",
    "    for idx,line in enumerate(file):\n",
    "        line =line.replace('\\n', '')\n",
    "        contents = line.split(\" \")\n",
    "\n",
    "\n",
    "        if tuple(contents[1:4]) in borders:\n",
    "            borders[ tuple(contents[1:4]) ].add(idx)\n",
    "        else:\n",
    "            borders[ tuple(contents[1:4]) ] = set([idx])\n",
    "\n",
    "        if tuple(contents[-3:]) in borders:\n",
    "            borders[ tuple(contents[-3:]) ].add(idx)\n",
    "        else:\n",
    "            borders[ tuple(contents[-3:]) ] = set([idx])\n",
    "\n",
    "        branches.append( np.reshape( np.array( contents[1:]).astype(np.float32), ((len(contents) - 1) // 3, 3) ) )\n",
    "\n",
    "len(branches)"
   ]
  },
  {
   "cell_type": "code",
   "execution_count": null,
   "metadata": {},
   "outputs": [],
   "source": [
    "cmap = cm.get_cmap('flag')\n",
    "p = mp.plot( np.array([0,0,0]), shading={'point_size':0.00001}, return_plot=True)\n",
    "for i, branch in enumerate(branches):\n",
    "    c = '#'\n",
    "    for x in (np.array(cmap( (i)/len(branches)) )[0:3] * 255).astype(np.uint32):\n",
    "        h = hex(x)[2:]\n",
    "        c += h if len(h) == 2 else '0' + h\n",
    "\n",
    "    p.add_points( np.array(branch), shading={'point_size': 0.1, 'point_color':c })\n",
    "    p.add_points( np.array([ branch[0], branch[-1]]) + np.random.rand(2,3) * 0.01, shading={'point_size': 0.2, 'point_color':c } )\n",
    "\n"
   ]
  },
  {
   "cell_type": "code",
   "execution_count": null,
   "metadata": {},
   "outputs": [],
   "source": [
    "grafo = nx.Graph()\n",
    "grafo.add_nodes_from( np.arange(0,len(branches)) )\n",
    "grafo.add_edges_from( [ t for s in borders.values() for t in combinations(s, 2) ] )\n"
   ]
  },
  {
   "cell_type": "code",
   "execution_count": null,
   "metadata": {},
   "outputs": [],
   "source": [
    "nx.draw(grafo, with_labels=True)"
   ]
  },
  {
   "cell_type": "code",
   "execution_count": null,
   "metadata": {},
   "outputs": [],
   "source": [
    "nx.number_connected_components(grafo)"
   ]
  },
  {
   "cell_type": "code",
   "execution_count": null,
   "metadata": {},
   "outputs": [],
   "source": [
    "print( len(grafo.nodes), len(grafo.edges) ) # es arbol si m = n - 1!"
   ]
  },
  {
   "attachments": {},
   "cell_type": "markdown",
   "metadata": {},
   "source": [
    "Quiero elegir la raiz que me de el arbol mas bajito... nose porque... porque es mas lindo nomas"
   ]
  },
  {
   "cell_type": "code",
   "execution_count": null,
   "metadata": {},
   "outputs": [],
   "source": [
    "raiz = np.argmin( np.max( [ [ len(k) for k in d.values() ] for d in dict(nx.all_pairs_shortest_path(grafo)).values() ], axis=1 ) )\n",
    "arbol = nx.bfs_tree( grafo, raiz )"
   ]
  },
  {
   "cell_type": "code",
   "execution_count": null,
   "metadata": {},
   "outputs": [],
   "source": [
    "pos = graphviz_layout(arbol, prog=\"dot\")\n",
    "pos = { int(k): v for k,v in pos.items()}\n",
    "nx.draw(arbol, pos, with_labels=True)\n",
    "plt.show()"
   ]
  },
  {
   "cell_type": "code",
   "execution_count": 2,
   "metadata": {},
   "outputs": [
    {
     "name": "stdout",
     "output_type": "stream",
     "text": [
      "[[0.0, 0.0, 0.0, 0.0], [0.0, 0.0, 0.0, 0.0], [0.0, 0.0, 0.1, 0.0], [0.0, 0.0, 0.0, 0.0]]\n"
     ]
    },
    {
     "ename": "KeyboardInterrupt",
     "evalue": "",
     "output_type": "error",
     "traceback": [
      "\u001b[0;31m---------------------------------------------------------------------------\u001b[0m",
      "\u001b[0;31mKeyboardInterrupt\u001b[0m                         Traceback (most recent call last)",
      "\u001b[1;32m/home/migue/Documents/Labo/Skeleton_sdf/src/test_graph.ipynb Cell 11\u001b[0m in \u001b[0;36m<cell line: 15>\u001b[0;34m()\u001b[0m\n\u001b[1;32m     <a href='vscode-notebook-cell:/home/migue/Documents/Labo/Skeleton_sdf/src/test_graph.ipynb#X13sZmlsZQ%3D%3D?line=11'>12</a>\u001b[0m skel\u001b[39m.\u001b[39mpostprocess()\n\u001b[1;32m     <a href='vscode-notebook-cell:/home/migue/Documents/Labo/Skeleton_sdf/src/test_graph.ipynb#X13sZmlsZQ%3D%3D?line=12'>13</a>\u001b[0m skel\u001b[39m.\u001b[39mcenterAndNormalize()\n\u001b[0;32m---> <a href='vscode-notebook-cell:/home/migue/Documents/Labo/Skeleton_sdf/src/test_graph.ipynb#X13sZmlsZQ%3D%3D?line=14'>15</a>\u001b[0m skel\u001b[39m.\u001b[39;49msaveToJson( \u001b[39m'\u001b[39;49m\u001b[39mprueba.json\u001b[39;49m\u001b[39m'\u001b[39;49m)\n",
      "File \u001b[0;32m~/Documents/Labo/Skeleton_sdf/src/submesh/submesh.py:269\u001b[0m, in \u001b[0;36mSkeletonMesh.saveToJson\u001b[0;34m(self, path)\u001b[0m\n\u001b[1;32m    264\u001b[0m \u001b[39mtry\u001b[39;00m:\n\u001b[1;32m    265\u001b[0m     \u001b[39mwith\u001b[39;00m \u001b[39mopen\u001b[39m(filePath, \u001b[39m'\u001b[39m\u001b[39mx\u001b[39m\u001b[39m'\u001b[39m) \u001b[39mas\u001b[39;00m jsonFile:\n\u001b[1;32m    266\u001b[0m         json\u001b[39m.\u001b[39mdump(\n\u001b[1;32m    267\u001b[0m             {\n\u001b[1;32m    268\u001b[0m                 \u001b[39m'\u001b[39m\u001b[39mamount_branches\u001b[39m\u001b[39m'\u001b[39m: \u001b[39mlen\u001b[39m(\u001b[39mself\u001b[39m\u001b[39m.\u001b[39mbranches),\n\u001b[0;32m--> 269\u001b[0m                 \u001b[39m'\u001b[39m\u001b[39mbranches\u001b[39m\u001b[39m'\u001b[39m : [\n\u001b[1;32m    270\u001b[0m                     {\n\u001b[1;32m    271\u001b[0m                         \u001b[39m'\u001b[39m\u001b[39mbranch_number\u001b[39m\u001b[39m'\u001b[39m: branchNumber,\n\u001b[1;32m    272\u001b[0m                         \u001b[39m'\u001b[39m\u001b[39mparents\u001b[39m\u001b[39m'\u001b[39m: \u001b[39mself\u001b[39m\u001b[39m.\u001b[39mbranchParents(branchNumber),\n\u001b[1;32m    273\u001b[0m                         \u001b[39m'\u001b[39m\u001b[39mamount_joints\u001b[39m\u001b[39m'\u001b[39m: branch\u001b[39m.\u001b[39mamountOfJoints(),\n\u001b[1;32m    274\u001b[0m                         \u001b[39m'\u001b[39m\u001b[39mjoints\u001b[39m\u001b[39m'\u001b[39m: [ \n\u001b[1;32m    275\u001b[0m                         {\n\u001b[1;32m    276\u001b[0m                             \u001b[39m'\u001b[39m\u001b[39mposition\u001b[39m\u001b[39m'\u001b[39m: branch\u001b[39m.\u001b[39mgetJointPosition(jointIdx)\u001b[39m.\u001b[39mtolist(),\n\u001b[1;32m    277\u001b[0m                             \u001b[39m'\u001b[39m\u001b[39mdistance\u001b[39m\u001b[39m'\u001b[39m: \u001b[39mstr\u001b[39m(branch\u001b[39m.\u001b[39mjointDistance(jointIdx) \u001b[39m/\u001b[39m branch\u001b[39m.\u001b[39mjointDistance(branch\u001b[39m.\u001b[39mamountOfJoints() \u001b[39m-\u001b[39m \u001b[39m1\u001b[39m) ),\n\u001b[1;32m    278\u001b[0m                             \u001b[39m'\u001b[39m\u001b[39mvertices\u001b[39m\u001b[39m'\u001b[39m: np\u001b[39m.\u001b[39masarray(submesh\u001b[39m.\u001b[39mvertices)\u001b[39m.\u001b[39mtolist(),\n\u001b[1;32m    279\u001b[0m                             \u001b[39m'\u001b[39m\u001b[39mtriangles\u001b[39m\u001b[39m'\u001b[39m: np\u001b[39m.\u001b[39masarray(submesh\u001b[39m.\u001b[39mtriangles)\u001b[39m.\u001b[39mtolist(),\n\u001b[1;32m    280\u001b[0m                             \u001b[39m'\u001b[39m\u001b[39mnormals\u001b[39m\u001b[39m'\u001b[39m: np\u001b[39m.\u001b[39masarray(submesh\u001b[39m.\u001b[39mvertex_normals)\u001b[39m.\u001b[39mtolist(),\n\u001b[1;32m    281\u001b[0m                             \u001b[39m'\u001b[39m\u001b[39mcurvature\u001b[39m\u001b[39m'\u001b[39m: np\u001b[39m.\u001b[39masarray(branch\u001b[39m.\u001b[39mgetJointCurvature(jointIdx))\u001b[39m.\u001b[39mtolist(),\n\u001b[1;32m    282\u001b[0m                             \u001b[39m'\u001b[39m\u001b[39mtransformation\u001b[39m\u001b[39m'\u001b[39m: np\u001b[39m.\u001b[39mlinalg\u001b[39m.\u001b[39minv(branch\u001b[39m.\u001b[39mgetJointTransformation(jointIdx))\u001b[39m.\u001b[39mtolist(),\n\u001b[1;32m    283\u001b[0m                             \u001b[39m'\u001b[39m\u001b[39mmean\u001b[39m\u001b[39m'\u001b[39m: calculateMean( \u001b[39mself\u001b[39m\u001b[39m.\u001b[39mamountOfBranches(), \u001b[39mself\u001b[39m\u001b[39m.\u001b[39mbranchParents(branchNumber), branchNumber, branch\u001b[39m.\u001b[39mjointDistance(jointIdx) \u001b[39m/\u001b[39m branch\u001b[39m.\u001b[39mjointDistance(branch\u001b[39m.\u001b[39mamountOfJoints() \u001b[39m-\u001b[39m \u001b[39m1\u001b[39m) ),\n\u001b[1;32m    284\u001b[0m                             \u001b[39m'\u001b[39m\u001b[39mcov\u001b[39m\u001b[39m'\u001b[39m: calculateCovMatrix( \u001b[39mself\u001b[39m\u001b[39m.\u001b[39mamountOfBranches(), branchNumber, branch\u001b[39m.\u001b[39mjointDistanceToNN( jointIdx ) \u001b[39m/\u001b[39m branch\u001b[39m.\u001b[39mjointDistance(branch\u001b[39m.\u001b[39mamountOfJoints() \u001b[39m-\u001b[39m \u001b[39m1\u001b[39m) \u001b[39m/\u001b[39m \u001b[39m6\u001b[39m)\n\u001b[1;32m    285\u001b[0m                         }\n\u001b[1;32m    286\u001b[0m                         \u001b[39mfor\u001b[39;00m jointIdx, submesh \u001b[39min\u001b[39;00m branch\u001b[39m.\u001b[39mgetSubmeshes() \u001b[39mif\u001b[39;00m branch\u001b[39m.\u001b[39mhasVertices(jointIdx)] } \u001b[39mfor\u001b[39;00m branchNumber, branch \u001b[39min\u001b[39;00m \u001b[39mself\u001b[39m\u001b[39m.\u001b[39mgetBranches()\n\u001b[1;32m    287\u001b[0m                 ]\n\u001b[1;32m    288\u001b[0m             }, jsonFile, default\u001b[39m=\u001b[39m\u001b[39mstr\u001b[39m\n\u001b[1;32m    289\u001b[0m         )\n\u001b[1;32m    291\u001b[0m     stop \u001b[39m=\u001b[39m \u001b[39mFalse\u001b[39;00m\n\u001b[1;32m    292\u001b[0m \u001b[39mexcept\u001b[39;00m \u001b[39mFileExistsError\u001b[39;00m:\n",
      "File \u001b[0;32m~/Documents/Labo/Skeleton_sdf/src/submesh/submesh.py:274\u001b[0m, in \u001b[0;36m<listcomp>\u001b[0;34m(.0)\u001b[0m\n\u001b[1;32m    264\u001b[0m \u001b[39mtry\u001b[39;00m:\n\u001b[1;32m    265\u001b[0m     \u001b[39mwith\u001b[39;00m \u001b[39mopen\u001b[39m(filePath, \u001b[39m'\u001b[39m\u001b[39mx\u001b[39m\u001b[39m'\u001b[39m) \u001b[39mas\u001b[39;00m jsonFile:\n\u001b[1;32m    266\u001b[0m         json\u001b[39m.\u001b[39mdump(\n\u001b[1;32m    267\u001b[0m             {\n\u001b[1;32m    268\u001b[0m                 \u001b[39m'\u001b[39m\u001b[39mamount_branches\u001b[39m\u001b[39m'\u001b[39m: \u001b[39mlen\u001b[39m(\u001b[39mself\u001b[39m\u001b[39m.\u001b[39mbranches),\n\u001b[1;32m    269\u001b[0m                 \u001b[39m'\u001b[39m\u001b[39mbranches\u001b[39m\u001b[39m'\u001b[39m : [\n\u001b[1;32m    270\u001b[0m                     {\n\u001b[1;32m    271\u001b[0m                         \u001b[39m'\u001b[39m\u001b[39mbranch_number\u001b[39m\u001b[39m'\u001b[39m: branchNumber,\n\u001b[1;32m    272\u001b[0m                         \u001b[39m'\u001b[39m\u001b[39mparents\u001b[39m\u001b[39m'\u001b[39m: \u001b[39mself\u001b[39m\u001b[39m.\u001b[39mbranchParents(branchNumber),\n\u001b[1;32m    273\u001b[0m                         \u001b[39m'\u001b[39m\u001b[39mamount_joints\u001b[39m\u001b[39m'\u001b[39m: branch\u001b[39m.\u001b[39mamountOfJoints(),\n\u001b[0;32m--> 274\u001b[0m                         \u001b[39m'\u001b[39m\u001b[39mjoints\u001b[39m\u001b[39m'\u001b[39m: [ \n\u001b[1;32m    275\u001b[0m                         {\n\u001b[1;32m    276\u001b[0m                             \u001b[39m'\u001b[39m\u001b[39mposition\u001b[39m\u001b[39m'\u001b[39m: branch\u001b[39m.\u001b[39mgetJointPosition(jointIdx)\u001b[39m.\u001b[39mtolist(),\n\u001b[1;32m    277\u001b[0m                             \u001b[39m'\u001b[39m\u001b[39mdistance\u001b[39m\u001b[39m'\u001b[39m: \u001b[39mstr\u001b[39m(branch\u001b[39m.\u001b[39mjointDistance(jointIdx) \u001b[39m/\u001b[39m branch\u001b[39m.\u001b[39mjointDistance(branch\u001b[39m.\u001b[39mamountOfJoints() \u001b[39m-\u001b[39m \u001b[39m1\u001b[39m) ),\n\u001b[1;32m    278\u001b[0m                             \u001b[39m'\u001b[39m\u001b[39mvertices\u001b[39m\u001b[39m'\u001b[39m: np\u001b[39m.\u001b[39masarray(submesh\u001b[39m.\u001b[39mvertices)\u001b[39m.\u001b[39mtolist(),\n\u001b[1;32m    279\u001b[0m                             \u001b[39m'\u001b[39m\u001b[39mtriangles\u001b[39m\u001b[39m'\u001b[39m: np\u001b[39m.\u001b[39masarray(submesh\u001b[39m.\u001b[39mtriangles)\u001b[39m.\u001b[39mtolist(),\n\u001b[1;32m    280\u001b[0m                             \u001b[39m'\u001b[39m\u001b[39mnormals\u001b[39m\u001b[39m'\u001b[39m: np\u001b[39m.\u001b[39masarray(submesh\u001b[39m.\u001b[39mvertex_normals)\u001b[39m.\u001b[39mtolist(),\n\u001b[1;32m    281\u001b[0m                             \u001b[39m'\u001b[39m\u001b[39mcurvature\u001b[39m\u001b[39m'\u001b[39m: np\u001b[39m.\u001b[39masarray(branch\u001b[39m.\u001b[39mgetJointCurvature(jointIdx))\u001b[39m.\u001b[39mtolist(),\n\u001b[1;32m    282\u001b[0m                             \u001b[39m'\u001b[39m\u001b[39mtransformation\u001b[39m\u001b[39m'\u001b[39m: np\u001b[39m.\u001b[39mlinalg\u001b[39m.\u001b[39minv(branch\u001b[39m.\u001b[39mgetJointTransformation(jointIdx))\u001b[39m.\u001b[39mtolist(),\n\u001b[1;32m    283\u001b[0m                             \u001b[39m'\u001b[39m\u001b[39mmean\u001b[39m\u001b[39m'\u001b[39m: calculateMean( \u001b[39mself\u001b[39m\u001b[39m.\u001b[39mamountOfBranches(), \u001b[39mself\u001b[39m\u001b[39m.\u001b[39mbranchParents(branchNumber), branchNumber, branch\u001b[39m.\u001b[39mjointDistance(jointIdx) \u001b[39m/\u001b[39m branch\u001b[39m.\u001b[39mjointDistance(branch\u001b[39m.\u001b[39mamountOfJoints() \u001b[39m-\u001b[39m \u001b[39m1\u001b[39m) ),\n\u001b[1;32m    284\u001b[0m                             \u001b[39m'\u001b[39m\u001b[39mcov\u001b[39m\u001b[39m'\u001b[39m: calculateCovMatrix( \u001b[39mself\u001b[39m\u001b[39m.\u001b[39mamountOfBranches(), branchNumber, branch\u001b[39m.\u001b[39mjointDistanceToNN( jointIdx ) \u001b[39m/\u001b[39m branch\u001b[39m.\u001b[39mjointDistance(branch\u001b[39m.\u001b[39mamountOfJoints() \u001b[39m-\u001b[39m \u001b[39m1\u001b[39m) \u001b[39m/\u001b[39m \u001b[39m6\u001b[39m)\n\u001b[1;32m    285\u001b[0m                         }\n\u001b[1;32m    286\u001b[0m                         \u001b[39mfor\u001b[39;00m jointIdx, submesh \u001b[39min\u001b[39;00m branch\u001b[39m.\u001b[39mgetSubmeshes() \u001b[39mif\u001b[39;00m branch\u001b[39m.\u001b[39mhasVertices(jointIdx)] } \u001b[39mfor\u001b[39;00m branchNumber, branch \u001b[39min\u001b[39;00m \u001b[39mself\u001b[39m\u001b[39m.\u001b[39mgetBranches()\n\u001b[1;32m    287\u001b[0m                 ]\n\u001b[1;32m    288\u001b[0m             }, jsonFile, default\u001b[39m=\u001b[39m\u001b[39mstr\u001b[39m\n\u001b[1;32m    289\u001b[0m         )\n\u001b[1;32m    291\u001b[0m     stop \u001b[39m=\u001b[39m \u001b[39mFalse\u001b[39;00m\n\u001b[1;32m    292\u001b[0m \u001b[39mexcept\u001b[39;00m \u001b[39mFileExistsError\u001b[39;00m:\n",
      "File \u001b[0;32m~/Documents/Labo/Skeleton_sdf/src/submesh/submesh.py:277\u001b[0m, in \u001b[0;36m<listcomp>\u001b[0;34m(.0)\u001b[0m\n\u001b[1;32m    264\u001b[0m \u001b[39mtry\u001b[39;00m:\n\u001b[1;32m    265\u001b[0m     \u001b[39mwith\u001b[39;00m \u001b[39mopen\u001b[39m(filePath, \u001b[39m'\u001b[39m\u001b[39mx\u001b[39m\u001b[39m'\u001b[39m) \u001b[39mas\u001b[39;00m jsonFile:\n\u001b[1;32m    266\u001b[0m         json\u001b[39m.\u001b[39mdump(\n\u001b[1;32m    267\u001b[0m             {\n\u001b[1;32m    268\u001b[0m                 \u001b[39m'\u001b[39m\u001b[39mamount_branches\u001b[39m\u001b[39m'\u001b[39m: \u001b[39mlen\u001b[39m(\u001b[39mself\u001b[39m\u001b[39m.\u001b[39mbranches),\n\u001b[1;32m    269\u001b[0m                 \u001b[39m'\u001b[39m\u001b[39mbranches\u001b[39m\u001b[39m'\u001b[39m : [\n\u001b[1;32m    270\u001b[0m                     {\n\u001b[1;32m    271\u001b[0m                         \u001b[39m'\u001b[39m\u001b[39mbranch_number\u001b[39m\u001b[39m'\u001b[39m: branchNumber,\n\u001b[1;32m    272\u001b[0m                         \u001b[39m'\u001b[39m\u001b[39mparents\u001b[39m\u001b[39m'\u001b[39m: \u001b[39mself\u001b[39m\u001b[39m.\u001b[39mbranchParents(branchNumber),\n\u001b[1;32m    273\u001b[0m                         \u001b[39m'\u001b[39m\u001b[39mamount_joints\u001b[39m\u001b[39m'\u001b[39m: branch\u001b[39m.\u001b[39mamountOfJoints(),\n\u001b[1;32m    274\u001b[0m                         \u001b[39m'\u001b[39m\u001b[39mjoints\u001b[39m\u001b[39m'\u001b[39m: [ \n\u001b[1;32m    275\u001b[0m                         {\n\u001b[1;32m    276\u001b[0m                             \u001b[39m'\u001b[39m\u001b[39mposition\u001b[39m\u001b[39m'\u001b[39m: branch\u001b[39m.\u001b[39mgetJointPosition(jointIdx)\u001b[39m.\u001b[39mtolist(),\n\u001b[0;32m--> 277\u001b[0m                             \u001b[39m'\u001b[39m\u001b[39mdistance\u001b[39m\u001b[39m'\u001b[39m: \u001b[39mstr\u001b[39m(branch\u001b[39m.\u001b[39;49mjointDistance(jointIdx) \u001b[39m/\u001b[39m branch\u001b[39m.\u001b[39mjointDistance(branch\u001b[39m.\u001b[39mamountOfJoints() \u001b[39m-\u001b[39m \u001b[39m1\u001b[39m) ),\n\u001b[1;32m    278\u001b[0m                             \u001b[39m'\u001b[39m\u001b[39mvertices\u001b[39m\u001b[39m'\u001b[39m: np\u001b[39m.\u001b[39masarray(submesh\u001b[39m.\u001b[39mvertices)\u001b[39m.\u001b[39mtolist(),\n\u001b[1;32m    279\u001b[0m                             \u001b[39m'\u001b[39m\u001b[39mtriangles\u001b[39m\u001b[39m'\u001b[39m: np\u001b[39m.\u001b[39masarray(submesh\u001b[39m.\u001b[39mtriangles)\u001b[39m.\u001b[39mtolist(),\n\u001b[1;32m    280\u001b[0m                             \u001b[39m'\u001b[39m\u001b[39mnormals\u001b[39m\u001b[39m'\u001b[39m: np\u001b[39m.\u001b[39masarray(submesh\u001b[39m.\u001b[39mvertex_normals)\u001b[39m.\u001b[39mtolist(),\n\u001b[1;32m    281\u001b[0m                             \u001b[39m'\u001b[39m\u001b[39mcurvature\u001b[39m\u001b[39m'\u001b[39m: np\u001b[39m.\u001b[39masarray(branch\u001b[39m.\u001b[39mgetJointCurvature(jointIdx))\u001b[39m.\u001b[39mtolist(),\n\u001b[1;32m    282\u001b[0m                             \u001b[39m'\u001b[39m\u001b[39mtransformation\u001b[39m\u001b[39m'\u001b[39m: np\u001b[39m.\u001b[39mlinalg\u001b[39m.\u001b[39minv(branch\u001b[39m.\u001b[39mgetJointTransformation(jointIdx))\u001b[39m.\u001b[39mtolist(),\n\u001b[1;32m    283\u001b[0m                             \u001b[39m'\u001b[39m\u001b[39mmean\u001b[39m\u001b[39m'\u001b[39m: calculateMean( \u001b[39mself\u001b[39m\u001b[39m.\u001b[39mamountOfBranches(), \u001b[39mself\u001b[39m\u001b[39m.\u001b[39mbranchParents(branchNumber), branchNumber, branch\u001b[39m.\u001b[39mjointDistance(jointIdx) \u001b[39m/\u001b[39m branch\u001b[39m.\u001b[39mjointDistance(branch\u001b[39m.\u001b[39mamountOfJoints() \u001b[39m-\u001b[39m \u001b[39m1\u001b[39m) ),\n\u001b[1;32m    284\u001b[0m                             \u001b[39m'\u001b[39m\u001b[39mcov\u001b[39m\u001b[39m'\u001b[39m: calculateCovMatrix( \u001b[39mself\u001b[39m\u001b[39m.\u001b[39mamountOfBranches(), branchNumber, branch\u001b[39m.\u001b[39mjointDistanceToNN( jointIdx ) \u001b[39m/\u001b[39m branch\u001b[39m.\u001b[39mjointDistance(branch\u001b[39m.\u001b[39mamountOfJoints() \u001b[39m-\u001b[39m \u001b[39m1\u001b[39m) \u001b[39m/\u001b[39m \u001b[39m6\u001b[39m)\n\u001b[1;32m    285\u001b[0m                         }\n\u001b[1;32m    286\u001b[0m                         \u001b[39mfor\u001b[39;00m jointIdx, submesh \u001b[39min\u001b[39;00m branch\u001b[39m.\u001b[39mgetSubmeshes() \u001b[39mif\u001b[39;00m branch\u001b[39m.\u001b[39mhasVertices(jointIdx)] } \u001b[39mfor\u001b[39;00m branchNumber, branch \u001b[39min\u001b[39;00m \u001b[39mself\u001b[39m\u001b[39m.\u001b[39mgetBranches()\n\u001b[1;32m    287\u001b[0m                 ]\n\u001b[1;32m    288\u001b[0m             }, jsonFile, default\u001b[39m=\u001b[39m\u001b[39mstr\u001b[39m\n\u001b[1;32m    289\u001b[0m         )\n\u001b[1;32m    291\u001b[0m     stop \u001b[39m=\u001b[39m \u001b[39mFalse\u001b[39;00m\n\u001b[1;32m    292\u001b[0m \u001b[39mexcept\u001b[39;00m \u001b[39mFileExistsError\u001b[39;00m:\n",
      "File \u001b[0;32m~/Documents/Labo/Skeleton_sdf/src/submesh/submesh.py:74\u001b[0m, in \u001b[0;36mSkeletonBranch.jointDistance\u001b[0;34m(self, jointIdx)\u001b[0m\n\u001b[1;32m     73\u001b[0m \u001b[39mdef\u001b[39;00m \u001b[39mjointDistance\u001b[39m( \u001b[39mself\u001b[39m, jointIdx ):\n\u001b[0;32m---> 74\u001b[0m     \u001b[39mreturn\u001b[39;00m \u001b[39mself\u001b[39;49m\u001b[39m.\u001b[39;49mcurve\u001b[39m.\u001b[39;49marcLength( tEnd\u001b[39m=\u001b[39;49m\u001b[39mself\u001b[39;49m\u001b[39m.\u001b[39;49mjoints[ jointIdx ] )\n",
      "File \u001b[0;32m~/Documents/Labo/Skeleton_sdf/src/util/util.py:74\u001b[0m, in \u001b[0;36mInterpolation.arcLength\u001b[0;34m(self, eps, tStart, tEnd)\u001b[0m\n\u001b[1;32m     72\u001b[0m lastValue \u001b[39m=\u001b[39m \u001b[39mself\u001b[39m[tStart]\n\u001b[1;32m     73\u001b[0m \u001b[39mfor\u001b[39;00m step \u001b[39min\u001b[39;00m np\u001b[39m.\u001b[39marange(eps, tEnd \u001b[39m+\u001b[39m eps, eps):\n\u001b[0;32m---> 74\u001b[0m     newValue \u001b[39m=\u001b[39m \u001b[39mself\u001b[39;49m[step]\n\u001b[1;32m     75\u001b[0m     longitude \u001b[39m+\u001b[39m\u001b[39m=\u001b[39m np\u001b[39m.\u001b[39mlinalg\u001b[39m.\u001b[39mnorm( newValue \u001b[39m-\u001b[39m lastValue )\n\u001b[1;32m     76\u001b[0m     lastValue \u001b[39m=\u001b[39m newValue\n",
      "File \u001b[0;32m~/Documents/Labo/Skeleton_sdf/src/util/util.py:23\u001b[0m, in \u001b[0;36mInterpolation.__getitem__\u001b[0;34m(self, t)\u001b[0m\n\u001b[1;32m     22\u001b[0m \u001b[39mdef\u001b[39;00m \u001b[39m__getitem__\u001b[39m(\u001b[39mself\u001b[39m, t):\n\u001b[0;32m---> 23\u001b[0m     \u001b[39mreturn\u001b[39;00m \u001b[39mself\u001b[39;49m\u001b[39m.\u001b[39;49mevaluate(t)\n",
      "File \u001b[0;32m~/Documents/Labo/Skeleton_sdf/src/util/util.py:47\u001b[0m, in \u001b[0;36mInterpolation.evaluate\u001b[0;34m(self, t)\u001b[0m\n\u001b[1;32m     43\u001b[0m   \u001b[39mreturn\u001b[39;00m \u001b[39mself\u001b[39m\u001b[39m.\u001b[39mevaluateCurve( amountOfCurves, \u001b[39m1\u001b[39m )\n\u001b[1;32m     45\u001b[0m pointIndex \u001b[39m=\u001b[39m np\u001b[39m.\u001b[39mfloor( t \u001b[39m*\u001b[39m amountOfCurves )\u001b[39m.\u001b[39mastype(np\u001b[39m.\u001b[39muint32) \u001b[39m+\u001b[39m \u001b[39m1\u001b[39m\n\u001b[0;32m---> 47\u001b[0m \u001b[39mreturn\u001b[39;00m \u001b[39mself\u001b[39;49m\u001b[39m.\u001b[39;49mevaluateCurve(pointIndex, ( t \u001b[39m-\u001b[39;49m (pointIndex \u001b[39m-\u001b[39;49m \u001b[39m1\u001b[39;49m) \u001b[39m/\u001b[39;49m amountOfCurves ) \u001b[39m*\u001b[39;49m amountOfCurves )\n",
      "File \u001b[0;32m~/Documents/Labo/Skeleton_sdf/src/util/util.py:59\u001b[0m, in \u001b[0;36mInterpolation.evaluateCurve\u001b[0;34m(self, indice, t)\u001b[0m\n\u001b[1;32m     51\u001b[0m \u001b[39mdef\u001b[39;00m \u001b[39mspline_4p\u001b[39m( t, p_1, p0, p1, p2 ):\n\u001b[1;32m     53\u001b[0m     \u001b[39mreturn\u001b[39;00m (\n\u001b[1;32m     54\u001b[0m         t\u001b[39m*\u001b[39m((\u001b[39m2\u001b[39m\u001b[39m-\u001b[39mt)\u001b[39m*\u001b[39mt \u001b[39m-\u001b[39m \u001b[39m1\u001b[39m)   \u001b[39m*\u001b[39m p_1\n\u001b[1;32m     55\u001b[0m         \u001b[39m+\u001b[39m (t\u001b[39m*\u001b[39mt\u001b[39m*\u001b[39m(\u001b[39m3\u001b[39m\u001b[39m*\u001b[39mt \u001b[39m-\u001b[39m \u001b[39m5\u001b[39m) \u001b[39m+\u001b[39m \u001b[39m2\u001b[39m) \u001b[39m*\u001b[39m p0\n\u001b[1;32m     56\u001b[0m         \u001b[39m+\u001b[39m t\u001b[39m*\u001b[39m((\u001b[39m4\u001b[39m \u001b[39m-\u001b[39m \u001b[39m3\u001b[39m\u001b[39m*\u001b[39mt)\u001b[39m*\u001b[39mt \u001b[39m+\u001b[39m \u001b[39m1\u001b[39m) \u001b[39m*\u001b[39m p1\n\u001b[1;32m     57\u001b[0m         \u001b[39m+\u001b[39m (t\u001b[39m-\u001b[39m\u001b[39m1\u001b[39m)\u001b[39m*\u001b[39mt\u001b[39m*\u001b[39mt         \u001b[39m*\u001b[39m p2 ) \u001b[39m/\u001b[39m \u001b[39m2\u001b[39m\n\u001b[0;32m---> 59\u001b[0m \u001b[39mreturn\u001b[39;00m spline_4p(t, \u001b[39mself\u001b[39;49m\u001b[39m.\u001b[39;49mpoints[indice \u001b[39m-\u001b[39;49m \u001b[39m1\u001b[39;49m], \u001b[39mself\u001b[39;49m\u001b[39m.\u001b[39;49mpoints[indice], \u001b[39mself\u001b[39;49m\u001b[39m.\u001b[39;49mpoints[indice \u001b[39m+\u001b[39;49m \u001b[39m1\u001b[39;49m], \u001b[39mself\u001b[39;49m\u001b[39m.\u001b[39;49mpoints[indice \u001b[39m+\u001b[39;49m \u001b[39m2\u001b[39;49m])\n",
      "File \u001b[0;32m~/Documents/Labo/Skeleton_sdf/src/util/util.py:56\u001b[0m, in \u001b[0;36mInterpolation.evaluateCurve.<locals>.spline_4p\u001b[0;34m(t, p_1, p0, p1, p2)\u001b[0m\n\u001b[1;32m     51\u001b[0m \u001b[39mdef\u001b[39;00m \u001b[39mspline_4p\u001b[39m( t, p_1, p0, p1, p2 ):\n\u001b[1;32m     53\u001b[0m     \u001b[39mreturn\u001b[39;00m (\n\u001b[1;32m     54\u001b[0m         t\u001b[39m*\u001b[39m((\u001b[39m2\u001b[39m\u001b[39m-\u001b[39mt)\u001b[39m*\u001b[39mt \u001b[39m-\u001b[39m \u001b[39m1\u001b[39m)   \u001b[39m*\u001b[39m p_1\n\u001b[1;32m     55\u001b[0m         \u001b[39m+\u001b[39m (t\u001b[39m*\u001b[39mt\u001b[39m*\u001b[39m(\u001b[39m3\u001b[39m\u001b[39m*\u001b[39mt \u001b[39m-\u001b[39m \u001b[39m5\u001b[39m) \u001b[39m+\u001b[39m \u001b[39m2\u001b[39m) \u001b[39m*\u001b[39m p0\n\u001b[0;32m---> 56\u001b[0m         \u001b[39m+\u001b[39m t\u001b[39m*\u001b[39;49m((\u001b[39m4\u001b[39;49m \u001b[39m-\u001b[39;49m \u001b[39m3\u001b[39;49m\u001b[39m*\u001b[39;49mt)\u001b[39m*\u001b[39;49mt \u001b[39m+\u001b[39;49m \u001b[39m1\u001b[39;49m) \u001b[39m*\u001b[39;49m p1\n\u001b[1;32m     57\u001b[0m         \u001b[39m+\u001b[39m (t\u001b[39m-\u001b[39m\u001b[39m1\u001b[39m)\u001b[39m*\u001b[39mt\u001b[39m*\u001b[39mt         \u001b[39m*\u001b[39m p2 ) \u001b[39m/\u001b[39m \u001b[39m2\u001b[39m\n",
      "\u001b[0;31mKeyboardInterrupt\u001b[0m: "
     ]
    }
   ],
   "source": [
    "from submesh.submesh import SkeletonMesh\n",
    "\n",
    "skel = SkeletonMesh( \n",
    "        '../data/humans/mesh/faust_6890.off', \n",
    "        '../data/humans/centerline/faust_6890.txt',\n",
    "        '../data/humans/centerline/faust_6890.polylines.txt' )\n",
    "\n",
    "\n",
    "skel.submesh(pointsPerUnit=5)\n",
    "skel.postprocess()\n",
    "skel.centerAndNormalize()\n",
    "\n",
    "skel.saveToJson( 'prueba.json')"
   ]
  }
 ],
 "metadata": {
  "kernelspec": {
   "display_name": "graficos3.9",
   "language": "python",
   "name": "python3"
  },
  "language_info": {
   "codemirror_mode": {
    "name": "ipython",
    "version": 3
   },
   "file_extension": ".py",
   "mimetype": "text/x-python",
   "name": "python",
   "nbconvert_exporter": "python",
   "pygments_lexer": "ipython3",
   "version": "3.9.13"
  },
  "orig_nbformat": 4,
  "vscode": {
   "interpreter": {
    "hash": "2739103a24152653e1f8b2fff28c65788dabdc9ba71ec9cb9a43d6c5fc424aab"
   }
  }
 },
 "nbformat": 4,
 "nbformat_minor": 2
}
