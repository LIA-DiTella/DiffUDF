{
 "cells": [
  {
   "cell_type": "code",
   "execution_count": null,
   "metadata": {},
   "outputs": [],
   "source": [
    "import numpy as np\n",
    "import networkx as nx\n",
    "from scipy.spatial import KDTree\n",
    "import matplotlib.pyplot as plt\n",
    "import matplotlib.cm as cm\n",
    "import pydot\n",
    "import meshplot as mp\n",
    "from networkx.drawing.nx_pydot import graphviz_layout\n",
    "from itertools import combinations\n"
   ]
  },
  {
   "cell_type": "code",
   "execution_count": null,
   "metadata": {},
   "outputs": [],
   "source": [
    "branches = []\n",
    "borders = {}\n",
    "with open( '../results/faust_6890/faust_6890.txt' ) as file:\n",
    "    for idx,line in enumerate(file):\n",
    "        line =line.replace('\\n', '')\n",
    "        contents = line.split(\" \")\n",
    "\n",
    "\n",
    "        if tuple(contents[1:4]) in borders:\n",
    "            borders[ tuple(contents[1:4]) ].add(idx)\n",
    "        else:\n",
    "            borders[ tuple(contents[1:4]) ] = set([idx])\n",
    "\n",
    "        if tuple(contents[-3:]) in borders:\n",
    "            borders[ tuple(contents[-3:]) ].add(idx)\n",
    "        else:\n",
    "            borders[ tuple(contents[-3:]) ] = set([idx])\n",
    "\n",
    "        branches.append( np.reshape( np.array( contents[1:]).astype(np.float32), ((len(contents) - 1) // 3, 3) ) )\n",
    "\n",
    "len(branches)"
   ]
  },
  {
   "cell_type": "code",
   "execution_count": null,
   "metadata": {},
   "outputs": [],
   "source": [
    "cmap = cm.get_cmap('flag')\n",
    "p = mp.plot( np.array([0,0,0]), shading={'point_size':0.00001}, return_plot=True)\n",
    "for i, branch in enumerate(branches):\n",
    "    c = '#'\n",
    "    for x in (np.array(cmap( (i)/len(branches)) )[0:3] * 255).astype(np.uint32):\n",
    "        h = hex(x)[2:]\n",
    "        c += h if len(h) == 2 else '0' + h\n",
    "\n",
    "    p.add_points( np.array(branch), shading={'point_size': 0.1, 'point_color':c })\n",
    "    p.add_points( np.array([ branch[0], branch[-1]]) + np.random.rand(2,3) * 0.01, shading={'point_size': 0.2, 'point_color':c } )\n",
    "\n"
   ]
  },
  {
   "cell_type": "code",
   "execution_count": null,
   "metadata": {},
   "outputs": [],
   "source": [
    "grafo = nx.Graph()\n",
    "grafo.add_nodes_from( np.arange(0,len(branches)) )\n",
    "grafo.add_edges_from( [ t for s in borders.values() for t in combinations(s, 2) ] )\n"
   ]
  },
  {
   "cell_type": "code",
   "execution_count": null,
   "metadata": {},
   "outputs": [],
   "source": [
    "nx.draw(grafo, with_labels=True)"
   ]
  },
  {
   "cell_type": "code",
   "execution_count": null,
   "metadata": {},
   "outputs": [],
   "source": [
    "nx.number_connected_components(grafo)"
   ]
  },
  {
   "cell_type": "code",
   "execution_count": null,
   "metadata": {},
   "outputs": [],
   "source": [
    "print( len(grafo.nodes), len(grafo.edges) ) # es arbol si m = n - 1!"
   ]
  },
  {
   "attachments": {},
   "cell_type": "markdown",
   "metadata": {},
   "source": [
    "Quiero elegir la raiz que me de el arbol mas bajito... nose porque... porque es mas lindo nomas"
   ]
  },
  {
   "cell_type": "code",
   "execution_count": null,
   "metadata": {},
   "outputs": [],
   "source": [
    "raiz = np.argmin( np.max( [ [ len(k) for k in d.values() ] for d in dict(nx.all_pairs_shortest_path(grafo)).values() ], axis=1 ) )\n",
    "arbol = nx.bfs_tree( grafo, raiz )"
   ]
  },
  {
   "cell_type": "code",
   "execution_count": null,
   "metadata": {},
   "outputs": [],
   "source": [
    "pos = graphviz_layout(arbol, prog=\"dot\")\n",
    "pos = { int(k): v for k,v in pos.items()}\n",
    "nx.draw(arbol, pos, with_labels=True)\n",
    "plt.show()"
   ]
  },
  {
   "cell_type": "code",
   "execution_count": 1,
   "metadata": {},
   "outputs": [
    {
     "name": "stdout",
     "output_type": "stream",
     "text": [
      "Jupyter environment detected. Enabling Open3D WebVisualizer.\n",
      "[Open3D INFO] WebRTC GUI backend enabled.\n",
      "[Open3D INFO] WebRTCWindowSystem: HTTP handshake server disabled.\n"
     ]
    },
    {
     "data": {
      "text/plain": [
       "'prueba.json'"
      ]
     },
     "execution_count": 1,
     "metadata": {},
     "output_type": "execute_result"
    }
   ],
   "source": [
    "from submesh.submesh import SkeletonMesh\n",
    "\n",
    "skel = SkeletonMesh( \n",
    "        '../data/humans/mesh/faust_6890.off', \n",
    "        '../data/humans/centerline/faust_6890.txt',\n",
    "        '../data/humans/centerline/faust_6890.polylines.txt' )\n",
    "\n",
    "\n",
    "skel.submesh(pointsPerUnit=5)\n",
    "skel.postprocess()\n",
    "skel.centerAndNormalize()\n",
    "\n",
    "skel.saveToJson( 'prueba.json')"
   ]
  }
 ],
 "metadata": {
  "kernelspec": {
   "display_name": "graficos3.9",
   "language": "python",
   "name": "python3"
  },
  "language_info": {
   "codemirror_mode": {
    "name": "ipython",
    "version": 3
   },
   "file_extension": ".py",
   "mimetype": "text/x-python",
   "name": "python",
   "nbconvert_exporter": "python",
   "pygments_lexer": "ipython3",
   "version": "3.9.13"
  },
  "orig_nbformat": 4,
  "vscode": {
   "interpreter": {
    "hash": "2739103a24152653e1f8b2fff28c65788dabdc9ba71ec9cb9a43d6c5fc424aab"
   }
  }
 },
 "nbformat": 4,
 "nbformat_minor": 2
}
