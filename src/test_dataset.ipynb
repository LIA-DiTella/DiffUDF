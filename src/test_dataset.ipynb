{
 "cells": [
  {
   "attachments": {},
   "cell_type": "markdown",
   "metadata": {},
   "source": [
    "# Test sampleo dataset completo"
   ]
  },
  {
   "cell_type": "code",
   "execution_count": null,
   "metadata": {},
   "outputs": [],
   "source": [
    "import numpy as np\n",
    "import meshplot as mp\n",
    "from training.dataset import PointCloud\n",
    "import matplotlib.pyplot as plt"
   ]
  },
  {
   "cell_type": "code",
   "execution_count": null,
   "metadata": {},
   "outputs": [],
   "source": [
    "pc = PointCloud( '../results/juguete_hd/juguete_hd.json', 60000, 1,[0.1, 0.1, 0.8], [0.3, 0.95])"
   ]
  },
  {
   "cell_type": "code",
   "execution_count": null,
   "metadata": {},
   "outputs": [],
   "source": [
    "samples, normals, sdf, curvature = next(iter(pc))\n",
    "distance = np.array(samples.detach().cpu())[:, 0]\n",
    "coords = np.array(samples.detach().cpu())[:, 1:]\n",
    "sdf = np.array(sdf.detach().cpu()).flatten()\n",
    "curvature = np.array(curvature.detach().cpu()).flatten()\n",
    "submesh = np.ones_like(distance) * 0\n",
    "mp.plot( coords[np.isclose(distance, submesh).flatten()], c= sdf[np.isclose(distance, submesh).flatten()], shading={'point_size':0.1, 'colormap':'turbo'} )"
   ]
  },
  {
   "attachments": {},
   "cell_type": "markdown",
   "metadata": {},
   "source": [
    "# Test superficie"
   ]
  },
  {
   "cell_type": "code",
   "execution_count": null,
   "metadata": {},
   "outputs": [],
   "source": [
    "mp.plot( coords[np.isclose(sdf, submesh).flatten()], c= curvature[np.isclose(sdf, submesh).flatten()], shading={'point_size':0.1, 'colormap':'turbo'} )"
   ]
  },
  {
   "attachments": {},
   "cell_type": "markdown",
   "metadata": {},
   "source": [
    "a ver si hacemos un analisis un poquito más piola..."
   ]
  },
  {
   "cell_type": "code",
   "execution_count": null,
   "metadata": {},
   "outputs": [],
   "source": [
    "configuraciones = [\n",
    "    [ [0.3, 0.3, 0.4], [0.3, 0.6] ], # super equilibrada\n",
    "    [ [0.1, 0.8, 0.1], [0.5, 0.9]], # con enfoque en las de curvatura media\n",
    "    [ [0.1, 0.1, 0.8], [0.5, 0.9]] # con enfoque en curvatura alta\n",
    "]\n",
    "\n",
    "curvaturas = []\n",
    "puntos = []\n",
    "for fractions, bins in configuraciones:\n",
    "    pc = PointCloud( '../results/juguete_hd/juguete_hd.json', 300, 2,fractions, bins)\n",
    "    c = []\n",
    "    p = []\n",
    "    for samples, normals, sdf, curvature in iter(pc):\n",
    "        distance = np.array(samples.detach().cpu())[:, 0]\n",
    "        coords = np.array(samples.detach().cpu())[:, 1:]\n",
    "        sdf = np.array(sdf.detach().cpu()).flatten()\n",
    "        curvature = np.array(curvature.detach().cpu()).flatten()\n",
    "        submesh = np.ones_like(distance) * 0\n",
    "\n",
    "        if len(c) == 0:\n",
    "            p = coords[np.isclose(sdf, submesh).flatten()]\n",
    "            c = curvature[np.isclose(sdf, submesh).flatten()]\n",
    "        else:\n",
    "            c = np.concatenate( [c, curvature[np.isclose(sdf, submesh).flatten()]])\n",
    "            p = np.concatenate( [p, coords[np.isclose(sdf, submesh).flatten()]])\n",
    "\n",
    "    curvaturas.append(c)\n",
    "    puntos.append(p)"
   ]
  },
  {
   "cell_type": "code",
   "execution_count": null,
   "metadata": {},
   "outputs": [],
   "source": [
    "bins = np.linspace( np.min(curvaturas), np.max(curvaturas), 20)\n",
    "plt.hist( curvaturas[0],density=True, bins=bins,alpha=0.5, label='conf0')\n",
    "plt.hist( curvaturas[1],density=True, bins=bins,alpha=0.5, label='conf1')\n",
    "plt.hist( curvaturas[2],density=True, bins=bins,alpha=0.5, label='conf2')\n",
    "plt.legend(loc='upper right')\n",
    "plt.show()"
   ]
  },
  {
   "cell_type": "code",
   "execution_count": null,
   "metadata": {},
   "outputs": [],
   "source": [
    "mp.plot( puntos[2], c= curvaturas[2], shading={'point_size':0.05, 'colormap':'turbo'} )"
   ]
  },
  {
   "attachments": {},
   "cell_type": "markdown",
   "metadata": {},
   "source": [
    "# Test full - dataset"
   ]
  },
  {
   "cell_type": "code",
   "execution_count": 1,
   "metadata": {},
   "outputs": [
    {
     "name": "stdout",
     "output_type": "stream",
     "text": [
      "Jupyter environment detected. Enabling Open3D WebVisualizer.\n",
      "[Open3D INFO] WebRTC GUI backend enabled.\n",
      "[Open3D INFO] WebRTCWindowSystem: HTTP handshake server disabled.\n"
     ]
    }
   ],
   "source": [
    "import numpy as np\n",
    "import meshplot as mp\n",
    "from training.dataset import PointCloud\n",
    "import matplotlib.pyplot as plt\n",
    "from scipy.spatial import KDTree\n",
    "import open3d as o3d\n",
    "import json"
   ]
  },
  {
   "cell_type": "code",
   "execution_count": 3,
   "metadata": {},
   "outputs": [
    {
     "name": "stdout",
     "output_type": "stream",
     "text": [
      "Loading meshes \"../results/faust_54098/faust_54098.json\".\n",
      "Fetching 58000 on-surface points per iteration.\n",
      "Creating point-cloud and acceleration structures.\n",
      "58\n"
     ]
    }
   ],
   "source": [
    "pc = PointCloud( '../results/faust_54098/faust_54098.json', 116000, 1,[0.1, 0.1, 0.8], [0.3, 0.95])\n",
    "print( len(pc.meshes) )"
   ]
  },
  {
   "cell_type": "code",
   "execution_count": 4,
   "metadata": {},
   "outputs": [],
   "source": [
    "samples, normals, sdf, curvature = next(iter(pc))\n",
    "distance = np.array(samples.detach().cpu())[:, 0:pc.features]\n",
    "coords = np.array(samples.detach().cpu())[:, pc.features:]\n",
    "sdf = np.array(sdf.detach().cpu()).flatten()\n",
    "curvature = np.array(curvature.detach().cpu()).flatten()"
   ]
  },
  {
   "cell_type": "code",
   "execution_count": 5,
   "metadata": {},
   "outputs": [
    {
     "data": {
      "image/png": "[encoded data removed]",
      "text/plain": [
       "<Figure size 640x480 with 1 Axes>"
      ]
     },
     "metadata": {},
     "output_type": "display_data"
    }
   ],
   "source": [
    "means = []\n",
    "meshes = []\n",
    "with open('../results/faust_54098/faust_54098.json') as jsonFile:\n",
    "    data = json.load( jsonFile )\n",
    "\n",
    "    for joint in data['joints']:\n",
    "        means.append( joint['mean'])\n",
    "        meshes.append( o3d.geometry.TriangleMesh( \n",
    "            o3d.utility.Vector3dVector(np.asarray(joint['vertices'])), \n",
    "            o3d.utility.Vector3iVector(np.asarray(joint['triangles'])) ) )\n",
    "            \n",
    "treeOfMeans = KDTree( means )\n",
    "_, jointIdx = treeOfMeans.query( distance, k=1 )\n",
    "\n",
    "plt.figure(0)\n",
    "bins = np.arange( 0, len(meshes))\n",
    "plt.hist( jointIdx,bins=bins)\n",
    "plt.show()\n"
   ]
  },
  {
   "cell_type": "code",
   "execution_count": 11,
   "metadata": {},
   "outputs": [
    {
     "data": {
      "application/vnd.jupyter.widget-view+json": {
       "model_id": "df8785cc8aab4305bfdf88cd11ff0b92",
       "version_major": 2,
       "version_minor": 0
      },
      "text/plain": [
       "Renderer(camera=PerspectiveCamera(children=(DirectionalLight(color='white', intensity=0.6, position=(-9.629130…"
      ]
     },
     "metadata": {},
     "output_type": "display_data"
    }
   ],
   "source": [
    "submesh = 57\n",
    "if submesh not in jointIdx:\n",
    "    print(f'La submalla {submesh} no fue sampleada nunca')\n",
    "else:\n",
    "    mp.plot( coords[jointIdx == submesh], c= sdf[ jointIdx == submesh], shading={'point_size':0.1, 'colormap':'turbo'} )"
   ]
  },
  {
   "cell_type": "code",
   "execution_count": 12,
   "metadata": {},
   "outputs": [
    {
     "data": {
      "application/vnd.jupyter.widget-view+json": {
       "model_id": "d03e04f7522b4601a91f53c63afa92ad",
       "version_major": 2,
       "version_minor": 0
      },
      "text/plain": [
       "Renderer(camera=PerspectiveCamera(children=(DirectionalLight(color='white', intensity=0.6, position=(-0.022372…"
      ]
     },
     "metadata": {},
     "output_type": "display_data"
    },
    {
     "data": {
      "text/plain": [
       "<meshplot.Viewer.Viewer at 0x7f5382569f40>"
      ]
     },
     "execution_count": 12,
     "metadata": {},
     "output_type": "execute_result"
    }
   ],
   "source": [
    "mp.plot( np.asarray( meshes[submesh].vertices), np.asarray( meshes[submesh].triangles) )"
   ]
  }
 ],
 "metadata": {
  "kernelspec": {
   "display_name": "graficos3.9",
   "language": "python",
   "name": "python3"
  },
  "language_info": {
   "codemirror_mode": {
    "name": "ipython",
    "version": 3
   },
   "file_extension": ".py",
   "mimetype": "text/x-python",
   "name": "python",
   "nbconvert_exporter": "python",
   "pygments_lexer": "ipython3",
   "version": "3.9.13"
  },
  "orig_nbformat": 4,
  "vscode": {
   "interpreter": {
    "hash": "2739103a24152653e1f8b2fff28c65788dabdc9ba71ec9cb9a43d6c5fc424aab"
   }
  }
 },
 "nbformat": 4,
 "nbformat_minor": 2
}
