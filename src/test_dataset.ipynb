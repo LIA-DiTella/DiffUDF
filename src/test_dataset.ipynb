{
 "cells": [
  {
   "cell_type": "code",
   "execution_count": 1,
   "metadata": {},
   "outputs": [
    {
     "name": "stdout",
     "output_type": "stream",
     "text": [
      "Jupyter environment detected. Enabling Open3D WebVisualizer.\n",
      "[Open3D INFO] WebRTC GUI backend enabled.\n",
      "[Open3D INFO] WebRTCWindowSystem: HTTP handshake server disabled.\n"
     ]
    }
   ],
   "source": [
    "import numpy as np\n",
    "import meshplot as mp\n",
    "from training.dataset import PointCloud\n",
    "import matplotlib.pyplot as plt"
   ]
  },
  {
   "cell_type": "code",
   "execution_count": 2,
   "metadata": {},
   "outputs": [
    {
     "name": "stdout",
     "output_type": "stream",
     "text": [
      "Loading meshes \"../results/juguete/juguete.json\".\n",
      "Fetching 30000 on-surface points per iteration.\n",
      "Creating point-cloud and acceleration structures.\n"
     ]
    }
   ],
   "source": [
    "pc = PointCloud( '../results/juguete/juguete.json', 60000, [0.2, 0.4, 0.4], [0.6, 0.85])\n",
    "\n",
    "#plt.hist( pc[0][0]['distance'].detach().cpu(), bins=np.linspace(0,1,10), density=True)\n",
    "#plt.show()"
   ]
  },
  {
   "cell_type": "code",
   "execution_count": 5,
   "metadata": {},
   "outputs": [
    {
     "data": {
      "application/vnd.jupyter.widget-view+json": {
       "model_id": "6c17ec6c6e804bce952e243862a6d0b3",
       "version_major": 2,
       "version_minor": 0
      },
      "text/plain": [
       "Renderer(camera=PerspectiveCamera(children=(DirectionalLight(color='white', intensity=0.6, position=(1.7166137…"
      ]
     },
     "metadata": {},
     "output_type": "display_data"
    },
    {
     "data": {
      "text/plain": [
       "<meshplot.Viewer.Viewer at 0x7f2046d51040>"
      ]
     },
     "execution_count": 5,
     "metadata": {},
     "output_type": "execute_result"
    }
   ],
   "source": [
    "data= next(pc)\n",
    "distance = np.array(data[0]['distance'].detach().cpu())\n",
    "submesh = np.ones_like(distance) * 0\n",
    "mp.plot( np.array(data[0]['coords'].detach().cpu())[np.isclose(distance, submesh).flatten()], c= np.array(data[1]['sdf'].detach().cpu())[np.isclose(distance, submesh).flatten()], shading={'point_size':0.1, 'colormap':'turbo'} )"
   ]
  }
 ],
 "metadata": {
  "kernelspec": {
   "display_name": "graficos3.9",
   "language": "python",
   "name": "python3"
  },
  "language_info": {
   "codemirror_mode": {
    "name": "ipython",
    "version": 3
   },
   "file_extension": ".py",
   "mimetype": "text/x-python",
   "name": "python",
   "nbconvert_exporter": "python",
   "pygments_lexer": "ipython3",
   "version": "3.9.13"
  },
  "orig_nbformat": 4,
  "vscode": {
   "interpreter": {
    "hash": "2739103a24152653e1f8b2fff28c65788dabdc9ba71ec9cb9a43d6c5fc424aab"
   }
  }
 },
 "nbformat": 4,
 "nbformat_minor": 2
}
