{
 "cells": [
  {
   "attachments": {},
   "cell_type": "markdown",
   "metadata": {},
   "source": [
    "# Tests Interpolation"
   ]
  },
  {
   "cell_type": "code",
   "execution_count": null,
   "metadata": {},
   "outputs": [],
   "source": [
    "from interpol import Interpolation\n",
    "import numpy as np\n",
    "import meshplot as mp"
   ]
  },
  {
   "attachments": {},
   "cell_type": "markdown",
   "metadata": {},
   "source": [
    "Curva 2 puntos"
   ]
  },
  {
   "cell_type": "code",
   "execution_count": null,
   "metadata": {},
   "outputs": [],
   "source": [
    "two = Interpolation( [[0,0,0], [1,1,1] ] )\n",
    "\n",
    "p = mp.plot(np.array(list(two.evaluateFrom( i for i in np.linspace(0,1,100)) )), shading={'point_size':0.1}, return_plot=True)\n",
    "p.add_points( np.array([[0,0,0], [1,1,1]]), shading={'point_size':0.4, 'point_color': 'blue'})"
   ]
  },
  {
   "attachments": {},
   "cell_type": "markdown",
   "metadata": {},
   "source": [
    "Curva 3 puntos"
   ]
  },
  {
   "cell_type": "code",
   "execution_count": null,
   "metadata": {},
   "outputs": [],
   "source": [
    "three = Interpolation( [[0,0,0], [1,1,1], [0,0,2] ] )\n",
    "\n",
    "p = mp.plot(np.array(list(three.evaluateFrom( i for i in np.linspace(0,1,100)) )), shading={'point_size':0.1}, return_plot=True)\n",
    "p.add_points( np.array([[0,0,0], [1,1,1], [0,0,2]]), shading={'point_size':0.4, 'point_color': 'blue'})"
   ]
  },
  {
   "attachments": {},
   "cell_type": "markdown",
   "metadata": {},
   "source": [
    "# Tests submeshing"
   ]
  },
  {
   "cell_type": "code",
   "execution_count": null,
   "metadata": {},
   "outputs": [],
   "source": [
    "from submesh import SkeletonMesh\n",
    "import meshplot as mp\n",
    "import matplotlib.cm as cm\n",
    "import numpy as np"
   ]
  },
  {
   "cell_type": "code",
   "execution_count": null,
   "metadata": {},
   "outputs": [],
   "source": [
    "skel = SkeletonMesh( \n",
    "        '../../data/humans/mesh/test_6890.off', \n",
    "        '../../data/humans/centerline/faust_6890.txt',\n",
    "        '../../data/humans/centerline/faust_6890.polylines.txt' )\n",
    "\n",
    "skel.submesh(pointsPerUnit=5)\n",
    "skel.postprocess()\n",
    "\n",
    "cmap = cm.get_cmap('flag')\n",
    "p = None\n",
    "for i, (joint, mesh, _) in enumerate(skel.getSubmeshes()):\n",
    "    \n",
    "    if p is None:\n",
    "        p = mp.plot( np.asarray(mesh.vertices), np.asarray(mesh.triangles), return_plot = True, c=np.array(cmap((i)/skel.amountOfJoints))[0:3] )\n",
    "    else:\n",
    "        p.add_mesh( np.asarray(mesh.vertices), np.asarray(mesh.triangles), c=np.array(cmap((i)/skel.amountOfJoints))[0:3] )"
   ]
  },
  {
   "cell_type": "code",
   "execution_count": null,
   "metadata": {},
   "outputs": [],
   "source": [
    "mp.plot( np.array(list(skel.getJoints())), shading={'point_size':0.1} )"
   ]
  },
  {
   "cell_type": "code",
   "execution_count": null,
   "metadata": {},
   "outputs": [],
   "source": [
    "skel.centerAndNormalize()\n",
    "\n",
    "cmap = cm.get_cmap('flag')\n",
    "p2 = None\n",
    "for i, (joint, mesh, _) in enumerate(skel.getSubmeshes()):\n",
    "    \n",
    "    if p2 is None:\n",
    "        p2 = mp.plot( np.asarray(mesh.vertices), np.asarray(mesh.triangles), return_plot = True, c=np.array(cmap((i)/skel.amountOfJoints))[0:3] )\n",
    "    else:\n",
    "        p2.add_mesh( np.asarray(mesh.vertices), np.asarray(mesh.triangles), c=np.array(cmap((i)/skel.amountOfJoints))[0:3] )"
   ]
  },
  {
   "cell_type": "code",
   "execution_count": null,
   "metadata": {},
   "outputs": [],
   "source": [
    "p2.add_lines( np.array([[0,0,0], [0,0,0], [0,0,0] ]), np.array([[1,0,0], [0,1,0], [0,0,1] ]))"
   ]
  },
  {
   "cell_type": "code",
   "execution_count": null,
   "metadata": {},
   "outputs": [],
   "source": [
    "skel.saveToJson( 'prueba.json')"
   ]
  },
  {
   "attachments": {},
   "cell_type": "markdown",
   "metadata": {},
   "source": [
    "# Test curvatura"
   ]
  },
  {
   "attachments": {},
   "cell_type": "markdown",
   "metadata": {},
   "source": [
    "### computar desde 0:"
   ]
  },
  {
   "cell_type": "code",
   "execution_count": null,
   "metadata": {},
   "outputs": [],
   "source": [
    "import pymeshlab as pm\n",
    "import meshplot as mp\n",
    "import numpy as np\n",
    "import open3d as o3d\n",
    "\n",
    "ms = pm.MeshSet()\n",
    "ms.load_new_mesh('../../data/humans/mesh/test_15070.off')\n",
    "\n",
    "m = ms.current_mesh()\n",
    "\n",
    "d = ms.apply_filter(\"compute_scalar_by_discrete_curvature_per_vertex\", curvaturetype='Mean Curvature')\n",
    "ms.compute_new_custom_scalar_attribute_per_vertex(name=\"v_curv\", expr=\"q\")\n",
    "\n",
    "v_curv = m.vertex_custom_scalar_attribute_array('v_curv')\n",
    "\n",
    "v_curv = np.clip( v_curv, a_min = -1 * float(d['90_percentile']), a_max = float(d['90_percentile']))\n"
   ]
  },
  {
   "cell_type": "code",
   "execution_count": null,
   "metadata": {},
   "outputs": [],
   "source": [
    "mesh = o3d.io.read_triangle_mesh('../../data/humans/mesh/test_15070.off')\n",
    "mp.plot( np.asarray(mesh.vertices), np.asarray(mesh.triangles), c=v_curv)"
   ]
  },
  {
   "attachments": {},
   "cell_type": "markdown",
   "metadata": {},
   "source": [
    "### En skeleton mesh:"
   ]
  },
  {
   "cell_type": "code",
   "execution_count": 1,
   "metadata": {},
   "outputs": [
    {
     "name": "stdout",
     "output_type": "stream",
     "text": [
      "Jupyter environment detected. Enabling Open3D WebVisualizer.\n",
      "[Open3D INFO] WebRTC GUI backend enabled.\n",
      "[Open3D INFO] WebRTCWindowSystem: HTTP handshake server disabled.\n"
     ]
    }
   ],
   "source": [
    "from submesh import SkeletonMesh\n",
    "import meshplot as mp\n",
    "import numpy as np\n",
    "\n",
    "skel = SkeletonMesh( \n",
    "        '../../data/humans/mesh/test_6890.off', \n",
    "        '../../data/humans/centerline/faust_6890.txt',\n",
    "        '../../data/humans/centerline/faust_6890.polylines.txt' )\n",
    "\n",
    "skel.submesh(pointsPerUnit=5)\n",
    "skel.postprocess()\n"
   ]
  },
  {
   "cell_type": "code",
   "execution_count": 2,
   "metadata": {},
   "outputs": [
    {
     "data": {
      "application/vnd.jupyter.widget-view+json": {
       "model_id": "96a169fd7b124fad90fe52c99eb9ddbc",
       "version_major": 2,
       "version_minor": 0
      },
      "text/plain": [
       "Renderer(camera=PerspectiveCamera(children=(DirectionalLight(color='white', intensity=0.6, position=(0.0797183…"
      ]
     },
     "metadata": {},
     "output_type": "display_data"
    }
   ],
   "source": [
    "\n",
    "p = None\n",
    "s = 0\n",
    "for i, (joint, mesh, curv) in enumerate(list(skel.getSubmeshes())):\n",
    "    if p is None:\n",
    "        p = mp.plot( np.asarray(mesh.vertices), np.asarray(mesh.triangles), return_plot = True, c=curv )\n",
    "    else:\n",
    "        p.add_mesh( np.asarray(mesh.vertices), np.asarray(mesh.triangles), c=curv )"
   ]
  }
 ],
 "metadata": {
  "kernelspec": {
   "display_name": "graficos3.9",
   "language": "python",
   "name": "python3"
  },
  "language_info": {
   "codemirror_mode": {
    "name": "ipython",
    "version": 3
   },
   "file_extension": ".py",
   "mimetype": "text/x-python",
   "name": "python",
   "nbconvert_exporter": "python",
   "pygments_lexer": "ipython3",
   "version": "3.9.13 (main, Aug 25 2022, 23:26:10) \n[GCC 11.2.0]"
  },
  "orig_nbformat": 4,
  "vscode": {
   "interpreter": {
    "hash": "2739103a24152653e1f8b2fff28c65788dabdc9ba71ec9cb9a43d6c5fc424aab"
   }
  }
 },
 "nbformat": 4,
 "nbformat_minor": 2
}
