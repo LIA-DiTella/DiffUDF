{
 "cells": [
  {
   "cell_type": "code",
   "execution_count": null,
   "metadata": {},
   "outputs": [],
   "source": [
    "from training.model import SIREN\n",
    "import torch\n",
    "import numpy as np\n",
    "import matplotlib.pyplot as plt\n",
    "import seaborn as sns\n",
    "import meshplot as mp\n",
    "import json"
   ]
  },
  {
   "cell_type": "code",
   "execution_count": null,
   "metadata": {},
   "outputs": [],
   "source": [
    "FOLDER = 'segmented'\n",
    "VERSION = ''\n",
    "MESH = 'faust_54098'\n",
    "RESULT = 'faust_54098'\n",
    "EXPERIMENT = 'faust_54098'\n",
    "MODEL = 'best'\n",
    "\n",
    "dist = np.linspace(-0.2,0.2, 10)\n",
    "\n",
    "with open(f'../data/{FOLDER}/{MESH}{VERSION}.json') as jsonFile:\n",
    "    skel = json.load(jsonFile)\n",
    "    features = len(skel['joints'][0]['mean'])\n",
    "    model = SIREN(\n",
    "            n_in_features= features + 3,\n",
    "            n_out_features=1,\n",
    "            hidden_layer_config=[256,256,256,256],\n",
    "            w0=90,\n",
    "            ww=None\n",
    "    )\n",
    "    model.to(torch.device(0))\n",
    "    model.load_state_dict( torch.load(f'../results/{RESULT}/test_{EXPERIMENT}/models/model_{MODEL}.pth', map_location=torch.device(0)))\n",
    "    model.eval()\n",
    "\n",
    "    s= []\n",
    "    for joint in skel['joints']:\n",
    "        cantVertices = len(joint['vertices'])\n",
    "        vertices_cpu = np.expand_dims( np.asarray( joint['vertices'] ), 0 )\n",
    "\n",
    "        mean = torch.from_numpy( np.asarray( joint['mean'] ) ).repeat(1,cantVertices,1).float().to(torch.device(0))\n",
    "        vertices = torch.from_numpy( vertices_cpu ).float().to(torch.device(0))\n",
    "\n",
    "        x, y = model( torch.cat( ( mean, vertices), dim=2 ) ).values()\n",
    "        df_pred = y\n",
    "        df_pred.sum().backward()\n",
    "        \n",
    "        indexes = torch.tensor( [ features, features + 1, features + 2 ] ).to(torch.device(0))\n",
    "        gradients = torch.index_select( x.grad, 2, indexes).detach()\n",
    "        l = []\n",
    "        for i in dist:\n",
    "            x, y = model( torch.cat( (mean, vertices + gradients * torch.from_numpy(np.asarray(i)) ), dim=2) ).values()\n",
    "\n",
    "            y = y.detach().cpu().numpy().squeeze(0)\n",
    "            l.append(y)\n",
    "\n",
    "        s.append(np.array(l))"
   ]
  },
  {
   "cell_type": "code",
   "execution_count": null,
   "metadata": {},
   "outputs": [],
   "source": [
    "means = np.array([ np.mean(s[i], axis=1) for i in range(len(s))]).squeeze(2)\n",
    "\n",
    "print( np.max(means),np.min(means))"
   ]
  },
  {
   "cell_type": "code",
   "execution_count": null,
   "metadata": {},
   "outputs": [],
   "source": [
    "ax = sns.heatmap(means.T, yticklabels=[ f'{i:.2f}' for i in dist])\n",
    "ax.tick_params(axis='y', rotation=0)\n",
    "ax.set(xlabel=\"Submesh\", ylabel=\"Peso gradiente\")"
   ]
  }
 ],
 "metadata": {
  "kernelspec": {
   "display_name": "graficos3.9",
   "language": "python",
   "name": "python3"
  },
  "language_info": {
   "codemirror_mode": {
    "name": "ipython",
    "version": 3
   },
   "file_extension": ".py",
   "mimetype": "text/x-python",
   "name": "python",
   "nbconvert_exporter": "python",
   "pygments_lexer": "ipython3",
   "version": "3.9.13"
  },
  "orig_nbformat": 4
 },
 "nbformat": 4,
 "nbformat_minor": 2
}
