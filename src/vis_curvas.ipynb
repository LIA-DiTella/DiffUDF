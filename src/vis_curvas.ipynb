{
 "cells": [
  {
   "cell_type": "code",
   "execution_count": null,
   "metadata": {},
   "outputs": [],
   "source": [
    "import numpy as np\n",
    "import open3d as o3d\n",
    "import json\n",
    "import meshplot as mp\n",
    "import matplotlib.cm as cm"
   ]
  },
  {
   "cell_type": "code",
   "execution_count": null,
   "metadata": {},
   "outputs": [],
   "source": [
    "MESH = 'faust_54098'\n",
    "BRANCH = 6\n",
    "meshes = []\n",
    "with open(f'../results/{MESH}/{MESH}.json') as jsonFile:\n",
    "    skel = json.load(jsonFile)\n",
    "    branch = skel['branches'][BRANCH]\n",
    "\n",
    "    for joint in branch['joints']:\n",
    "        mesh = o3d.geometry.TriangleMesh( o3d.utility.Vector3dVector(np.array(joint['vertices']).astype(np.float32)), o3d.utility.Vector3iVector(np.array(joint['triangles']).astype(np.float32)) )\n",
    "        mesh.transform( np.array(joint['transformation']).astype(np.float32) )\n",
    "        meshes.append(mesh)\n"
   ]
  },
  {
   "cell_type": "code",
   "execution_count": null,
   "metadata": {},
   "outputs": [],
   "source": [
    "p = None\n",
    "cmap = cm.get_cmap('flag')\n",
    "for i, mesh in enumerate(meshes[0:-1]):\n",
    "    if p is None:\n",
    "        p = mp.plot( np.asarray(mesh.vertices), np.asarray(mesh.triangles), return_plot = True, c=np.array(cmap((i)/len(meshes)))[0:3])\n",
    "    else:\n",
    "        p.add_mesh( np.asarray(mesh.vertices), np.asarray(mesh.triangles), c=np.array(cmap((i)/len(meshes)))[0:3] )"
   ]
  },
  {
   "cell_type": "code",
   "execution_count": 19,
   "metadata": {},
   "outputs": [],
   "source": [
    "from util.util import Interpolation\n",
    "\n",
    "points = []\n",
    "with open(f'../results/brazo/brazo.json') as jsonFile:\n",
    "    skel = json.load(jsonFile)\n",
    "    branch = skel['branches'][0]\n",
    "\n",
    "    for joint in branch['joints']:\n",
    "        points.append( np.asarray(joint[\"position\"]).astype(np.float32) )\n",
    "\n",
    "i = Interpolation(points)"
   ]
  },
  {
   "cell_type": "code",
   "execution_count": 21,
   "metadata": {},
   "outputs": [
    {
     "name": "stdout",
     "output_type": "stream",
     "text": [
      "[0.         0.17996843 0.34179223 0.51607178]\n",
      "[0.         0.34872751 0.66229592 1.        ]\n"
     ]
    }
   ],
   "source": [
    "distancias = []\n",
    "for t in np.linspace(0,1,len(points)):\n",
    "    distancias.append( i.arcLength(tStart=0, tEnd=t) )\n",
    "\n",
    "distancias = np.array(distancias)\n",
    "print( distancias )\n",
    "print(  distancias / np.max(distancias) )"
   ]
  }
 ],
 "metadata": {
  "kernelspec": {
   "display_name": "graficos3.9",
   "language": "python",
   "name": "python3"
  },
  "language_info": {
   "codemirror_mode": {
    "name": "ipython",
    "version": 3
   },
   "file_extension": ".py",
   "mimetype": "text/x-python",
   "name": "python",
   "nbconvert_exporter": "python",
   "pygments_lexer": "ipython3",
   "version": "3.9.13"
  },
  "orig_nbformat": 4,
  "vscode": {
   "interpreter": {
    "hash": "2739103a24152653e1f8b2fff28c65788dabdc9ba71ec9cb9a43d6c5fc424aab"
   }
  }
 },
 "nbformat": 4,
 "nbformat_minor": 2
}
