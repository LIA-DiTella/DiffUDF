{
 "cells": [
  {
   "cell_type": "code",
   "execution_count": 1,
   "metadata": {},
   "outputs": [
    {
     "name": "stdout",
     "output_type": "stream",
     "text": [
      "Jupyter environment detected. Enabling Open3D WebVisualizer.\n",
      "[Open3D INFO] WebRTC GUI backend enabled.\n",
      "[Open3D INFO] WebRTCWindowSystem: HTTP handshake server disabled.\n"
     ]
    }
   ],
   "source": [
    "from training.model import SIREN\n",
    "import torch\n",
    "import numpy as np\n",
    "from render.meshing import create_mesh\n",
    "import open3d as o3d\n",
    "import json\n",
    "import meshplot as mp\n",
    "import matplotlib.cm as cm"
   ]
  },
  {
   "cell_type": "code",
   "execution_count": 2,
   "metadata": {},
   "outputs": [
    {
     "name": "stdout",
     "output_type": "stream",
     "text": [
      "Sampling took: 0.12238311767578125 s\n",
      "Sampling took: 0.13065266609191895 s\n",
      "Sampling took: 0.14272832870483398 s\n",
      "Sampling took: 0.1330859661102295 s\n",
      "Sampling took: 0.13631820678710938 s\n",
      "Sampling took: 0.12127089500427246 s\n",
      "Sampling took: 0.13350677490234375 s\n",
      "Sampling took: 0.12693095207214355 s\n",
      "Sampling took: 0.12496089935302734 s\n",
      "Sampling took: 0.11910390853881836 s\n",
      "Sampling took: 0.1302175521850586 s\n",
      "Sampling took: 0.12294602394104004 s\n",
      "Sampling took: 0.15428948402404785 s\n",
      "Sampling took: 0.13552212715148926 s\n",
      "Sampling took: 0.14305901527404785 s\n",
      "Sampling took: 0.1397233009338379 s\n",
      "Sampling took: 0.14363861083984375 s\n",
      "Sampling took: 0.13164615631103516 s\n",
      "Sampling took: 0.14044547080993652 s\n",
      "Sampling took: 0.13199353218078613 s\n",
      "Sampling took: 0.14046859741210938 s\n",
      "Sampling took: 0.1382434368133545 s\n",
      "Sampling took: 0.14197015762329102 s\n",
      "Sampling took: 0.12954330444335938 s\n",
      "Sampling took: 0.13848423957824707 s\n",
      "Sampling took: 0.12373590469360352 s\n",
      "Sampling took: 0.14991259574890137 s\n",
      "Sampling took: 0.1322178840637207 s\n",
      "Sampling took: 0.13780927658081055 s\n",
      "Sampling took: 0.13314175605773926 s\n",
      "Sampling took: 0.14359021186828613 s\n",
      "Sampling took: 0.13489151000976562 s\n",
      "Sampling took: 0.1440894603729248 s\n",
      "Sampling took: 0.13266420364379883 s\n",
      "Sampling took: 0.14357495307922363 s\n",
      "Sampling took: 0.13821864128112793 s\n",
      "Sampling took: 0.14407086372375488 s\n",
      "Sampling took: 0.13349056243896484 s\n",
      "Sampling took: 0.14896035194396973 s\n",
      "Sampling took: 0.1356794834136963 s\n",
      "Sampling took: 0.14352893829345703 s\n",
      "Sampling took: 0.13253235816955566 s\n"
     ]
    }
   ],
   "source": [
    "MESH = 'faust_54098'\n",
    "EXPERIMENT = 'faust_54098'\n",
    "N = 32\n",
    "MODEL = 'best'\n",
    "\n",
    "\n",
    "meshes_pred = []\n",
    "meshes_gt = []\n",
    "with open(f'../results/{MESH}/{MESH}.json') as jsonFile:\n",
    "    skel = json.load(jsonFile)\n",
    "    model = SIREN(\n",
    "            n_in_features= len(skel['joints'][0]['mean']) + 3,\n",
    "            n_out_features=1,\n",
    "            hidden_layer_config=[256, 256, 256, 256],\n",
    "            w0=30,\n",
    "            ww=None\n",
    "    )\n",
    "    model.load_state_dict( torch.load(f'../results/{MESH}/test_{EXPERIMENT}/models/model_{MODEL}.pth'))\n",
    "    for joint in skel['joints']:\n",
    "        vertices, faces, normals, values = create_mesh(\n",
    "            model,\n",
    "            distance = torch.from_numpy(np.array(joint['mean']).astype(np.float32)),\n",
    "            N=N\n",
    "        )\n",
    "        mesh = o3d.geometry.TriangleMesh( o3d.utility.Vector3dVector(vertices), o3d.utility.Vector3iVector(faces) )\n",
    "        mesh.transform( np.array(joint['transformation']).astype(np.float32) )\n",
    "        meshes_pred.append(mesh)\n",
    "\n",
    "        mesh = o3d.geometry.TriangleMesh( o3d.utility.Vector3dVector(np.array(joint['vertices']).astype(np.float32)), o3d.utility.Vector3iVector(np.array(joint['triangles']).astype(np.float32)) )\n",
    "        mesh.transform( np.array(joint['transformation']).astype(np.float32) )\n",
    "        meshes_gt.append(mesh)\n"
   ]
  },
  {
   "cell_type": "code",
   "execution_count": 3,
   "metadata": {},
   "outputs": [
    {
     "data": {
      "application/vnd.jupyter.widget-view+json": {
       "model_id": "41837a253c6146b29b3b1339631e6230",
       "version_major": 2,
       "version_minor": 0
      },
      "text/plain": [
       "Renderer(camera=PerspectiveCamera(children=(DirectionalLight(color='white', intensity=0.6, position=(0.0773205…"
      ]
     },
     "metadata": {},
     "output_type": "display_data"
    }
   ],
   "source": [
    "\n",
    "p = None\n",
    "cmap = cm.get_cmap('flag')\n",
    "for i, mesh in enumerate(meshes_pred):\n",
    "    if len(np.asarray(mesh.vertices)) > 0:\n",
    "        if p is None:\n",
    "            p = mp.plot( np.asarray(mesh.vertices), np.asarray(mesh.triangles), return_plot = True, c=np.array(cmap((i)/len(meshes_pred)))[0:3])\n",
    "        else:\n",
    "            p.add_mesh( np.asarray(mesh.vertices), np.asarray(mesh.triangles), c=np.array(cmap((i)/len(meshes_pred)))[0:3] )"
   ]
  },
  {
   "cell_type": "code",
   "execution_count": null,
   "metadata": {},
   "outputs": [],
   "source": [
    "\n",
    "p = None\n",
    "cmap = cm.get_cmap('flag')\n",
    "for i, mesh in enumerate(meshes_gt):\n",
    "    if p is None:\n",
    "        p = mp.plot( np.asarray(mesh.vertices), np.asarray(mesh.triangles), return_plot = True, c=np.array(cmap((i)/len(meshes_gt)))[0:3])\n",
    "    else:\n",
    "        p.add_mesh( np.asarray(mesh.vertices), np.asarray(mesh.triangles), c=np.array(cmap((i)/len(meshes_gt)))[0:3] )"
   ]
  },
  {
   "cell_type": "code",
   "execution_count": null,
   "metadata": {},
   "outputs": [],
   "source": [
    "MESH = 'brazo'\n",
    "EXPERIMENT = 'brazo'\n",
    "BRANCH = 0\n",
    "N = 64\n",
    "MODEL = 'best'\n",
    "\n",
    "model = SIREN(\n",
    "        n_in_features=4,\n",
    "        n_out_features=1,\n",
    "        hidden_layer_config=[256, 256, 256, 256],\n",
    "        w0=30,\n",
    "        ww=None\n",
    ")\n",
    "model.load_state_dict( torch.load(f'../results/{MESH}/test_{EXPERIMENT}/models/model_{MODEL}.pth'))\n",
    "\n",
    "meshes_pred = []\n",
    "with open(f'../results/{MESH}/{MESH}.json') as jsonFile:\n",
    "    skel = json.load(jsonFile)\n",
    "    branch = skel['branches'][BRANCH]\n",
    "\n",
    "    for d in np.linspace(0,1,6):\n",
    "        vertices, faces, normals, values = create_mesh(\n",
    "            model,\n",
    "            distance = torch.from_numpy(np.array(d).astype(np.float32)),\n",
    "            N=N\n",
    "        )\n",
    "        mesh = o3d.geometry.TriangleMesh( o3d.utility.Vector3dVector(vertices), o3d.utility.Vector3iVector(faces) )\n",
    "        mesh.transform( .astype(np.float32) )\n",
    "        meshes_pred.append(mesh)"
   ]
  },
  {
   "cell_type": "code",
   "execution_count": null,
   "metadata": {},
   "outputs": [],
   "source": [
    "\n",
    "p = None\n",
    "cmap = cm.get_cmap('flag')\n",
    "for i, mesh in enumerate(meshes_pred):\n",
    "    if p is None:\n",
    "        p = mp.plot( np.asarray(mesh.vertices), np.asarray(mesh.triangles), return_plot = True, c=np.array(cmap((i)/len(meshes_pred)))[0:3])\n",
    "    else:\n",
    "        p.add_mesh( np.asarray(mesh.vertices), np.asarray(mesh.triangles), c=np.array(cmap((i)/len(meshes_pred)))[0:3] )"
   ]
  }
 ],
 "metadata": {
  "kernelspec": {
   "display_name": "graficos3.9",
   "language": "python",
   "name": "python3"
  },
  "language_info": {
   "codemirror_mode": {
    "name": "ipython",
    "version": 3
   },
   "file_extension": ".py",
   "mimetype": "text/x-python",
   "name": "python",
   "nbconvert_exporter": "python",
   "pygments_lexer": "ipython3",
   "version": "3.9.13"
  },
  "orig_nbformat": 4,
  "vscode": {
   "interpreter": {
    "hash": "2739103a24152653e1f8b2fff28c65788dabdc9ba71ec9cb9a43d6c5fc424aab"
   }
  }
 },
 "nbformat": 4,
 "nbformat_minor": 2
}
