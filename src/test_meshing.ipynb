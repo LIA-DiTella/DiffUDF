{
 "cells": [
  {
   "cell_type": "code",
   "execution_count": 1,
   "metadata": {},
   "outputs": [
    {
     "name": "stdout",
     "output_type": "stream",
     "text": [
      "Jupyter environment detected. Enabling Open3D WebVisualizer.\n",
      "[Open3D INFO] WebRTC GUI backend enabled.\n",
      "[Open3D INFO] WebRTCWindowSystem: HTTP handshake server disabled.\n"
     ]
    }
   ],
   "source": [
    "from training.model import SIREN\n",
    "import torch\n",
    "import numpy as np\n",
    "from render.meshing import create_mesh\n",
    "import open3d as o3d\n",
    "import json\n",
    "import meshplot as mp\n",
    "import matplotlib.cm as cm"
   ]
  },
  {
   "cell_type": "code",
   "execution_count": null,
   "metadata": {},
   "outputs": [],
   "source": [
    "MESH = 'brazo'\n",
    "EXPERIMENT = 'brazo'\n",
    "BRANCH = 0\n",
    "N = 64\n",
    "MODEL = 'best'\n",
    "\n",
    "model = SIREN(\n",
    "        n_in_features=4,\n",
    "        n_out_features=1,\n",
    "        hidden_layer_config=[256, 256, 256, 256],\n",
    "        w0=30,\n",
    "        ww=None\n",
    ")\n",
    "model.load_state_dict( torch.load(f'../results/{MESH}/test_{EXPERIMENT}/models/model_{MODEL}.pth'))\n",
    "\n",
    "meshes_pred = []\n",
    "meshes_gt = []\n",
    "with open(f'../results/{MESH}/{MESH}.json') as jsonFile:\n",
    "    skel = json.load(jsonFile)\n",
    "    branch = skel['branches'][BRANCH]\n",
    "\n",
    "    for joint in branch['joints']:\n",
    "        vertices, faces, normals, values = create_mesh(\n",
    "            model,\n",
    "            distance = torch.from_numpy(np.array(joint['distance']).astype(np.float32)),\n",
    "            N=N\n",
    "        )\n",
    "        mesh = o3d.geometry.TriangleMesh( o3d.utility.Vector3dVector(vertices), o3d.utility.Vector3iVector(faces) )\n",
    "        mesh.transform( np.array(joint['transformation']).astype(np.float32) )\n",
    "        meshes_pred.append(mesh)\n",
    "\n",
    "        mesh = o3d.geometry.TriangleMesh( o3d.utility.Vector3dVector(np.array(joint['vertices']).astype(np.float32)), o3d.utility.Vector3iVector(np.array(joint['triangles']).astype(np.float32)) )\n",
    "        mesh.transform( np.array(joint['transformation']).astype(np.float32) )\n",
    "        meshes_gt.append(mesh)\n"
   ]
  },
  {
   "cell_type": "code",
   "execution_count": null,
   "metadata": {},
   "outputs": [],
   "source": [
    "\n",
    "p = None\n",
    "cmap = cm.get_cmap('flag')\n",
    "for i, mesh in enumerate(meshes_pred):\n",
    "    if p is None:\n",
    "        p = mp.plot( np.asarray(mesh.vertices), np.asarray(mesh.triangles), return_plot = True, c=np.array(cmap((i)/len(meshes_pred)))[0:3])\n",
    "    else:\n",
    "        p.add_mesh( np.asarray(mesh.vertices), np.asarray(mesh.triangles), c=np.array(cmap((i)/len(meshes_pred)))[0:3] )"
   ]
  },
  {
   "cell_type": "code",
   "execution_count": null,
   "metadata": {},
   "outputs": [],
   "source": [
    "\n",
    "p = None\n",
    "cmap = cm.get_cmap('flag')\n",
    "for i, mesh in enumerate(meshes_gt):\n",
    "    if p is None:\n",
    "        p = mp.plot( np.asarray(mesh.vertices), np.asarray(mesh.triangles), return_plot = True, c=np.array(cmap((i)/len(meshes_gt)))[0:3])\n",
    "    else:\n",
    "        p.add_mesh( np.asarray(mesh.vertices), np.asarray(mesh.triangles), c=np.array(cmap((i)/len(meshes_gt)))[0:3] )"
   ]
  },
  {
   "cell_type": "code",
   "execution_count": 2,
   "metadata": {},
   "outputs": [
    {
     "ename": "SyntaxError",
     "evalue": "invalid syntax (3556165231.py, line 28)",
     "output_type": "error",
     "traceback": [
      "\u001b[0;36m  Input \u001b[0;32mIn [2]\u001b[0;36m\u001b[0m\n\u001b[0;31m    mesh.transform( .astype(np.float32) )\u001b[0m\n\u001b[0m                    ^\u001b[0m\n\u001b[0;31mSyntaxError\u001b[0m\u001b[0;31m:\u001b[0m invalid syntax\n"
     ]
    }
   ],
   "source": [
    "MESH = 'brazo'\n",
    "EXPERIMENT = 'brazo'\n",
    "BRANCH = 0\n",
    "N = 64\n",
    "MODEL = 'best'\n",
    "\n",
    "model = SIREN(\n",
    "        n_in_features=4,\n",
    "        n_out_features=1,\n",
    "        hidden_layer_config=[256, 256, 256, 256],\n",
    "        w0=30,\n",
    "        ww=None\n",
    ")\n",
    "model.load_state_dict( torch.load(f'../results/{MESH}/test_{EXPERIMENT}/models/model_{MODEL}.pth'))\n",
    "\n",
    "meshes_pred = []\n",
    "with open(f'../results/{MESH}/{MESH}.json') as jsonFile:\n",
    "    skel = json.load(jsonFile)\n",
    "    branch = skel['branches'][BRANCH]\n",
    "\n",
    "    for d in np.linspace(0,1,6):\n",
    "        vertices, faces, normals, values = create_mesh(\n",
    "            model,\n",
    "            distance = torch.from_numpy(np.array(d).astype(np.float32)),\n",
    "            N=N\n",
    "        )\n",
    "        mesh = o3d.geometry.TriangleMesh( o3d.utility.Vector3dVector(vertices), o3d.utility.Vector3iVector(faces) )\n",
    "        mesh.transform( .astype(np.float32) )\n",
    "        meshes_pred.append(mesh)"
   ]
  },
  {
   "cell_type": "code",
   "execution_count": 7,
   "metadata": {},
   "outputs": [
    {
     "ename": "TypeError",
     "evalue": "'open3d.cpu.pybind.geometry.TriangleMesh' object is not iterable",
     "output_type": "error",
     "traceback": [
      "\u001b[0;31m---------------------------------------------------------------------------\u001b[0m",
      "\u001b[0;31mTypeError\u001b[0m                                 Traceback (most recent call last)",
      "\u001b[1;32m/home/migue/Documents/Labo/Skeleton_sdf/src/test_meshing.ipynb Cell 6\u001b[0m in \u001b[0;36m<cell line: 3>\u001b[0;34m()\u001b[0m\n\u001b[1;32m      <a href='vscode-notebook-cell:/home/migue/Documents/Labo/Skeleton_sdf/src/test_meshing.ipynb#W5sZmlsZQ%3D%3D?line=0'>1</a>\u001b[0m p \u001b[39m=\u001b[39m \u001b[39mNone\u001b[39;00m\n\u001b[1;32m      <a href='vscode-notebook-cell:/home/migue/Documents/Labo/Skeleton_sdf/src/test_meshing.ipynb#W5sZmlsZQ%3D%3D?line=1'>2</a>\u001b[0m cmap \u001b[39m=\u001b[39m cm\u001b[39m.\u001b[39mget_cmap(\u001b[39m'\u001b[39m\u001b[39mflag\u001b[39m\u001b[39m'\u001b[39m)\n\u001b[0;32m----> <a href='vscode-notebook-cell:/home/migue/Documents/Labo/Skeleton_sdf/src/test_meshing.ipynb#W5sZmlsZQ%3D%3D?line=2'>3</a>\u001b[0m \u001b[39mfor\u001b[39;00m i, mesh \u001b[39min\u001b[39;00m \u001b[39menumerate\u001b[39;49m(meshes_pred[\u001b[39m1\u001b[39;49m]):\n\u001b[1;32m      <a href='vscode-notebook-cell:/home/migue/Documents/Labo/Skeleton_sdf/src/test_meshing.ipynb#W5sZmlsZQ%3D%3D?line=3'>4</a>\u001b[0m     \u001b[39mif\u001b[39;00m p \u001b[39mis\u001b[39;00m \u001b[39mNone\u001b[39;00m:\n\u001b[1;32m      <a href='vscode-notebook-cell:/home/migue/Documents/Labo/Skeleton_sdf/src/test_meshing.ipynb#W5sZmlsZQ%3D%3D?line=4'>5</a>\u001b[0m         p \u001b[39m=\u001b[39m mp\u001b[39m.\u001b[39mplot( np\u001b[39m.\u001b[39masarray(mesh\u001b[39m.\u001b[39mvertices), np\u001b[39m.\u001b[39masarray(mesh\u001b[39m.\u001b[39mtriangles), return_plot \u001b[39m=\u001b[39m \u001b[39mTrue\u001b[39;00m, c\u001b[39m=\u001b[39mnp\u001b[39m.\u001b[39marray(cmap((i)\u001b[39m/\u001b[39m\u001b[39mlen\u001b[39m(meshes_pred)))[\u001b[39m0\u001b[39m:\u001b[39m3\u001b[39m])\n",
      "\u001b[0;31mTypeError\u001b[0m: 'open3d.cpu.pybind.geometry.TriangleMesh' object is not iterable"
     ]
    }
   ],
   "source": [
    "\n",
    "p = None\n",
    "cmap = cm.get_cmap('flag')\n",
    "for i, mesh in enumerate(meshes_pred):\n",
    "    if p is None:\n",
    "        p = mp.plot( np.asarray(mesh.vertices), np.asarray(mesh.triangles), return_plot = True, c=np.array(cmap((i)/len(meshes_pred)))[0:3])\n",
    "    else:\n",
    "        p.add_mesh( np.asarray(mesh.vertices), np.asarray(mesh.triangles), c=np.array(cmap((i)/len(meshes_pred)))[0:3] )"
   ]
  }
 ],
 "metadata": {
  "kernelspec": {
   "display_name": "graficos3.9",
   "language": "python",
   "name": "python3"
  },
  "language_info": {
   "codemirror_mode": {
    "name": "ipython",
    "version": 3
   },
   "file_extension": ".py",
   "mimetype": "text/x-python",
   "name": "python",
   "nbconvert_exporter": "python",
   "pygments_lexer": "ipython3",
   "version": "3.9.13"
  },
  "orig_nbformat": 4,
  "vscode": {
   "interpreter": {
    "hash": "2739103a24152653e1f8b2fff28c65788dabdc9ba71ec9cb9a43d6c5fc424aab"
   }
  }
 },
 "nbformat": 4,
 "nbformat_minor": 2
}
