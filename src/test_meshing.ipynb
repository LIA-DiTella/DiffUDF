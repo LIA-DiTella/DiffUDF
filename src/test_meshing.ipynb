{
 "cells": [
  {
   "cell_type": "code",
   "execution_count": 1,
   "metadata": {},
   "outputs": [
    {
     "name": "stdout",
     "output_type": "stream",
     "text": [
      "Jupyter environment detected. Enabling Open3D WebVisualizer.\n",
      "[Open3D INFO] WebRTC GUI backend enabled.\n",
      "[Open3D INFO] WebRTCWindowSystem: HTTP handshake server disabled.\n"
     ]
    }
   ],
   "source": [
    "from training.model import SIREN\n",
    "import torch\n",
    "import numpy as np\n",
    "from render.meshing import create_mesh\n",
    "import open3d as o3d\n",
    "import json\n",
    "import meshplot as mp\n",
    "import matplotlib.cm as cm"
   ]
  },
  {
   "cell_type": "code",
   "execution_count": 2,
   "metadata": {},
   "outputs": [
    {
     "name": "stdout",
     "output_type": "stream",
     "text": [
      "Sampling took: 0.12969064712524414 s\n",
      "Sampling took: 0.1280839443206787 s\n",
      "Sampling took: 0.12401795387268066 s\n",
      "Sampling took: 0.13966703414916992 s\n",
      "Sampling took: 0.14153432846069336 s\n",
      "Sampling took: 0.13724851608276367 s\n",
      "Sampling took: 0.14613771438598633 s\n",
      "Sampling took: 0.1382591724395752 s\n",
      "Sampling took: 0.15151715278625488 s\n",
      "Sampling took: 0.1677701473236084 s\n",
      "Sampling took: 0.14553189277648926 s\n",
      "Sampling took: 0.14103364944458008 s\n",
      "Sampling took: 0.1411139965057373 s\n",
      "Sampling took: 0.13577485084533691 s\n",
      "Sampling took: 0.14217257499694824 s\n",
      "Sampling took: 0.15603065490722656 s\n",
      "Sampling took: 0.13816380500793457 s\n",
      "Sampling took: 0.13793468475341797 s\n",
      "Sampling took: 0.1468491554260254 s\n",
      "Sampling took: 0.13180828094482422 s\n",
      "Sampling took: 0.1434929370880127 s\n",
      "Sampling took: 0.1336042881011963 s\n",
      "Sampling took: 0.14262127876281738 s\n",
      "Sampling took: 0.13188719749450684 s\n",
      "Sampling took: 0.1530447006225586 s\n",
      "Sampling took: 0.13136506080627441 s\n",
      "Sampling took: 0.13669753074645996 s\n",
      "Sampling took: 0.12981629371643066 s\n",
      "Sampling took: 0.1380617618560791 s\n",
      "Sampling took: 0.12230944633483887 s\n",
      "Sampling took: 0.14601826667785645 s\n",
      "Sampling took: 0.12545490264892578 s\n",
      "Sampling took: 0.1388843059539795 s\n",
      "Sampling took: 0.12662601470947266 s\n",
      "Sampling took: 0.13879919052124023 s\n",
      "Sampling took: 0.12817025184631348 s\n",
      "Sampling took: 0.14040231704711914 s\n",
      "Sampling took: 0.1227264404296875 s\n",
      "Sampling took: 0.12666630744934082 s\n",
      "Sampling took: 0.11879277229309082 s\n",
      "Sampling took: 0.1285991668701172 s\n",
      "Sampling took: 0.1253049373626709 s\n",
      "Sampling took: 0.13832783699035645 s\n",
      "Sampling took: 0.132523775100708 s\n",
      "Sampling took: 0.12995648384094238 s\n",
      "Sampling took: 0.12197494506835938 s\n",
      "Sampling took: 0.13077259063720703 s\n",
      "Sampling took: 0.1226046085357666 s\n",
      "Sampling took: 0.142042875289917 s\n",
      "Sampling took: 0.13588333129882812 s\n",
      "Sampling took: 0.13294243812561035 s\n",
      "Sampling took: 0.1262195110321045 s\n",
      "Sampling took: 0.13682079315185547 s\n",
      "Sampling took: 0.1272594928741455 s\n",
      "Sampling took: 0.13857483863830566 s\n",
      "Sampling took: 0.12666749954223633 s\n",
      "Sampling took: 0.13924622535705566 s\n",
      "Sampling took: 0.128648042678833 s\n",
      "Sampling took: 0.13384556770324707 s\n",
      "Sampling took: 0.12607121467590332 s\n",
      "Sampling took: 0.1416330337524414 s\n",
      "Sampling took: 0.1224210262298584 s\n",
      "Sampling took: 0.14285492897033691 s\n",
      "Sampling took: 0.14039111137390137 s\n",
      "Sampling took: 0.15017461776733398 s\n"
     ]
    }
   ],
   "source": [
    "MESH = 'faust_6890'\n",
    "EXPERIMENT = 'faust_6890'\n",
    "N = 32\n",
    "MODEL = 'best'\n",
    "\n",
    "\n",
    "meshes_pred = []\n",
    "meshes_gt = []\n",
    "with open(f'../results/{MESH}/{MESH}.json') as jsonFile:\n",
    "    skel = json.load(jsonFile)\n",
    "    model = SIREN(\n",
    "            n_in_features= int(skel['amount_branches']) + 3,\n",
    "            n_out_features=1,\n",
    "            hidden_layer_config=[256, 256, 256, 256],\n",
    "            w0=30,\n",
    "            ww=None\n",
    "    )\n",
    "    model.load_state_dict( torch.load(f'../results/{MESH}/test_{EXPERIMENT}/models/model_{MODEL}.pth'))\n",
    "    for branch in skel['branches']:\n",
    "        for joint in branch['joints']:\n",
    "            vertices, faces, normals, values = create_mesh(\n",
    "                model,\n",
    "                distance = torch.from_numpy(np.array(joint['mean']).astype(np.float32)),\n",
    "                N=N\n",
    "            )\n",
    "            mesh = o3d.geometry.TriangleMesh( o3d.utility.Vector3dVector(vertices), o3d.utility.Vector3iVector(faces) )\n",
    "            mesh.transform( np.array(joint['transformation']).astype(np.float32) )\n",
    "            meshes_pred.append(mesh)\n",
    "\n",
    "            mesh = o3d.geometry.TriangleMesh( o3d.utility.Vector3dVector(np.array(joint['vertices']).astype(np.float32)), o3d.utility.Vector3iVector(np.array(joint['triangles']).astype(np.float32)) )\n",
    "            mesh.transform( np.array(joint['transformation']).astype(np.float32) )\n",
    "            meshes_gt.append(mesh)\n"
   ]
  },
  {
   "cell_type": "code",
   "execution_count": 3,
   "metadata": {},
   "outputs": [
    {
     "data": {
      "application/vnd.jupyter.widget-view+json": {
       "model_id": "08b1ed6e0af748718675480284f00d85",
       "version_major": 2,
       "version_minor": 0
      },
      "text/plain": [
       "Renderer(camera=PerspectiveCamera(children=(DirectionalLight(color='white', intensity=0.6, position=(0.3926713…"
      ]
     },
     "metadata": {},
     "output_type": "display_data"
    }
   ],
   "source": [
    "\n",
    "p = None\n",
    "cmap = cm.get_cmap('flag')\n",
    "for i, mesh in enumerate(meshes_pred):\n",
    "    if len(np.asarray(mesh.vertices)) > 0:\n",
    "        if p is None:\n",
    "            p = mp.plot( np.asarray(mesh.vertices), np.asarray(mesh.triangles), return_plot = True, c=np.array(cmap((i)/len(meshes_pred)))[0:3])\n",
    "        else:\n",
    "            p.add_mesh( np.asarray(mesh.vertices), np.asarray(mesh.triangles), c=np.array(cmap((i)/len(meshes_pred)))[0:3] )"
   ]
  },
  {
   "cell_type": "code",
   "execution_count": 4,
   "metadata": {},
   "outputs": [
    {
     "data": {
      "application/vnd.jupyter.widget-view+json": {
       "model_id": "06730bfb39704e2db2ca4f45ee0aca25",
       "version_major": 2,
       "version_minor": 0
      },
      "text/plain": [
       "Renderer(camera=PerspectiveCamera(children=(DirectionalLight(color='white', intensity=0.6, position=(0.3949338…"
      ]
     },
     "metadata": {},
     "output_type": "display_data"
    }
   ],
   "source": [
    "\n",
    "p = None\n",
    "cmap = cm.get_cmap('flag')\n",
    "for i, mesh in enumerate(meshes_gt):\n",
    "    if p is None:\n",
    "        p = mp.plot( np.asarray(mesh.vertices), np.asarray(mesh.triangles), return_plot = True, c=np.array(cmap((i)/len(meshes_gt)))[0:3])\n",
    "    else:\n",
    "        p.add_mesh( np.asarray(mesh.vertices), np.asarray(mesh.triangles), c=np.array(cmap((i)/len(meshes_gt)))[0:3] )"
   ]
  },
  {
   "cell_type": "code",
   "execution_count": null,
   "metadata": {},
   "outputs": [],
   "source": [
    "MESH = 'brazo'\n",
    "EXPERIMENT = 'brazo'\n",
    "BRANCH = 0\n",
    "N = 64\n",
    "MODEL = 'best'\n",
    "\n",
    "model = SIREN(\n",
    "        n_in_features=4,\n",
    "        n_out_features=1,\n",
    "        hidden_layer_config=[256, 256, 256, 256],\n",
    "        w0=30,\n",
    "        ww=None\n",
    ")\n",
    "model.load_state_dict( torch.load(f'../results/{MESH}/test_{EXPERIMENT}/models/model_{MODEL}.pth'))\n",
    "\n",
    "meshes_pred = []\n",
    "with open(f'../results/{MESH}/{MESH}.json') as jsonFile:\n",
    "    skel = json.load(jsonFile)\n",
    "    branch = skel['branches'][BRANCH]\n",
    "\n",
    "    for d in np.linspace(0,1,6):\n",
    "        vertices, faces, normals, values = create_mesh(\n",
    "            model,\n",
    "            distance = torch.from_numpy(np.array(d).astype(np.float32)),\n",
    "            N=N\n",
    "        )\n",
    "        mesh = o3d.geometry.TriangleMesh( o3d.utility.Vector3dVector(vertices), o3d.utility.Vector3iVector(faces) )\n",
    "        mesh.transform( .astype(np.float32) )\n",
    "        meshes_pred.append(mesh)"
   ]
  },
  {
   "cell_type": "code",
   "execution_count": null,
   "metadata": {},
   "outputs": [],
   "source": [
    "\n",
    "p = None\n",
    "cmap = cm.get_cmap('flag')\n",
    "for i, mesh in enumerate(meshes_pred):\n",
    "    if p is None:\n",
    "        p = mp.plot( np.asarray(mesh.vertices), np.asarray(mesh.triangles), return_plot = True, c=np.array(cmap((i)/len(meshes_pred)))[0:3])\n",
    "    else:\n",
    "        p.add_mesh( np.asarray(mesh.vertices), np.asarray(mesh.triangles), c=np.array(cmap((i)/len(meshes_pred)))[0:3] )"
   ]
  }
 ],
 "metadata": {
  "kernelspec": {
   "display_name": "graficos3.9",
   "language": "python",
   "name": "python3"
  },
  "language_info": {
   "codemirror_mode": {
    "name": "ipython",
    "version": 3
   },
   "file_extension": ".py",
   "mimetype": "text/x-python",
   "name": "python",
   "nbconvert_exporter": "python",
   "pygments_lexer": "ipython3",
   "version": "3.9.13"
  },
  "orig_nbformat": 4,
  "vscode": {
   "interpreter": {
    "hash": "2739103a24152653e1f8b2fff28c65788dabdc9ba71ec9cb9a43d6c5fc424aab"
   }
  }
 },
 "nbformat": 4,
 "nbformat_minor": 2
}
