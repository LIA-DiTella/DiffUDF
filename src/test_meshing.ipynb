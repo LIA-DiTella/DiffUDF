{
 "cells": [
  {
   "cell_type": "code",
   "execution_count": 1,
   "metadata": {},
   "outputs": [
    {
     "name": "stdout",
     "output_type": "stream",
     "text": [
      "Jupyter environment detected. Enabling Open3D WebVisualizer.\n",
      "[Open3D INFO] WebRTC GUI backend enabled.\n",
      "[Open3D INFO] WebRTCWindowSystem: HTTP handshake server disabled.\n"
     ]
    }
   ],
   "source": [
    "from training.model import SIREN\n",
    "import torch\n",
    "import numpy as np\n",
    "from render.meshing import create_mesh\n",
    "import open3d as o3d\n",
    "import json\n",
    "import meshplot as mp\n",
    "import matplotlib.cm as cm"
   ]
  },
  {
   "cell_type": "code",
   "execution_count": 3,
   "metadata": {},
   "outputs": [
    {
     "name": "stdout",
     "output_type": "stream",
     "text": [
      "Sampling took: 0.13611102104187012 s\n",
      "Sampling took: 0.1266484260559082 s\n",
      "Sampling took: 0.1231696605682373 s\n",
      "Sampling took: 0.12005233764648438 s\n",
      "Sampling took: 0.12394905090332031 s\n",
      "Sampling took: 0.12553191184997559 s\n",
      "Sampling took: 0.12850284576416016 s\n",
      "Sampling took: 0.1343090534210205 s\n",
      "Sampling took: 0.1319897174835205 s\n",
      "Sampling took: 0.12854909896850586 s\n",
      "Sampling took: 0.12758207321166992 s\n",
      "Sampling took: 0.1272118091583252 s\n",
      "Sampling took: 0.14482665061950684 s\n",
      "Sampling took: 0.13906455039978027 s\n",
      "Sampling took: 0.13764023780822754 s\n",
      "Sampling took: 0.12790656089782715 s\n",
      "Sampling took: 0.13587164878845215 s\n",
      "Sampling took: 0.13290643692016602 s\n",
      "Sampling took: 0.14174199104309082 s\n",
      "Sampling took: 0.13900542259216309 s\n",
      "Sampling took: 0.12751245498657227 s\n",
      "Sampling took: 0.12346386909484863 s\n",
      "Sampling took: 0.1266310214996338 s\n",
      "Sampling took: 0.12355923652648926 s\n",
      "Sampling took: 0.1264479160308838 s\n",
      "Sampling took: 0.11658024787902832 s\n",
      "Sampling took: 0.13048171997070312 s\n",
      "Sampling took: 0.12328958511352539 s\n",
      "Sampling took: 0.12807440757751465 s\n",
      "Sampling took: 0.12992596626281738 s\n",
      "Sampling took: 0.12395000457763672 s\n",
      "Sampling took: 0.12321615219116211 s\n",
      "Sampling took: 0.1340634822845459 s\n",
      "Sampling took: 0.12371039390563965 s\n",
      "Sampling took: 0.12650012969970703 s\n",
      "Sampling took: 0.1239936351776123 s\n",
      "Sampling took: 0.12915778160095215 s\n",
      "Sampling took: 0.13088393211364746 s\n",
      "Sampling took: 0.13658905029296875 s\n",
      "Sampling took: 0.12702345848083496 s\n",
      "Sampling took: 0.1295638084411621 s\n",
      "Sampling took: 0.12486791610717773 s\n",
      "Sampling took: 0.13385534286499023 s\n",
      "Sampling took: 0.1197061538696289 s\n",
      "Sampling took: 0.12577295303344727 s\n",
      "Sampling took: 0.11656355857849121 s\n",
      "Sampling took: 0.11476516723632812 s\n",
      "Sampling took: 0.1134040355682373 s\n",
      "Sampling took: 0.11917352676391602 s\n",
      "Sampling took: 0.11150383949279785 s\n",
      "Sampling took: 0.15521669387817383 s\n",
      "Sampling took: 0.1606159210205078 s\n",
      "Sampling took: 0.1309037208557129 s\n",
      "Sampling took: 0.13074994087219238 s\n",
      "Sampling took: 0.13509726524353027 s\n",
      "Sampling took: 0.15056657791137695 s\n",
      "Sampling took: 0.15079736709594727 s\n",
      "Sampling took: 0.12921953201293945 s\n",
      "Sampling took: 0.1375563144683838 s\n",
      "Sampling took: 0.12688589096069336 s\n",
      "Sampling took: 0.13442277908325195 s\n",
      "Sampling took: 0.12252664566040039 s\n",
      "Sampling took: 0.133833646774292 s\n",
      "Sampling took: 0.12613344192504883 s\n",
      "Sampling took: 0.12996768951416016 s\n",
      "Sampling took: 0.12826156616210938 s\n",
      "Sampling took: 0.13996577262878418 s\n",
      "Sampling took: 0.1291642189025879 s\n",
      "Sampling took: 0.1417222023010254 s\n",
      "Sampling took: 0.12683701515197754 s\n",
      "Sampling took: 0.14121317863464355 s\n",
      "Sampling took: 0.12676787376403809 s\n",
      "Sampling took: 0.12195253372192383 s\n",
      "Sampling took: 0.12216019630432129 s\n",
      "Sampling took: 0.12236380577087402 s\n",
      "Sampling took: 0.1149437427520752 s\n",
      "Sampling took: 0.12106561660766602 s\n",
      "Sampling took: 0.1222386360168457 s\n",
      "Sampling took: 0.1239619255065918 s\n",
      "Sampling took: 0.12037444114685059 s\n",
      "Sampling took: 0.12590765953063965 s\n",
      "Sampling took: 0.12387299537658691 s\n",
      "Sampling took: 0.13339018821716309 s\n",
      "Sampling took: 0.12839126586914062 s\n",
      "Sampling took: 0.15221571922302246 s\n",
      "Sampling took: 0.14052653312683105 s\n",
      "Sampling took: 0.14266753196716309 s\n",
      "Sampling took: 0.12646007537841797 s\n",
      "Sampling took: 0.1388089656829834 s\n",
      "Sampling took: 0.12753796577453613 s\n",
      "Sampling took: 0.13584136962890625 s\n",
      "Sampling took: 0.12538480758666992 s\n",
      "Sampling took: 0.14301753044128418 s\n",
      "Sampling took: 0.14253711700439453 s\n",
      "Sampling took: 0.13887548446655273 s\n",
      "Sampling took: 0.1307826042175293 s\n",
      "Sampling took: 0.1389460563659668 s\n",
      "Sampling took: 0.12839484214782715 s\n",
      "Sampling took: 0.15017962455749512 s\n",
      "Sampling took: 0.14165449142456055 s\n",
      "Sampling took: 0.13361430168151855 s\n",
      "Sampling took: 0.14037203788757324 s\n",
      "Sampling took: 0.1396477222442627 s\n",
      "Sampling took: 0.13238930702209473 s\n",
      "Sampling took: 0.1377546787261963 s\n",
      "Sampling took: 0.14225435256958008 s\n",
      "Sampling took: 0.14501333236694336 s\n",
      "Sampling took: 0.1399843692779541 s\n",
      "Sampling took: 0.14560198783874512 s\n",
      "Sampling took: 0.13667678833007812 s\n",
      "Sampling took: 0.1394195556640625 s\n",
      "Sampling took: 0.13565850257873535 s\n",
      "Sampling took: 0.1434476375579834 s\n",
      "Sampling took: 0.13577938079833984 s\n",
      "Sampling took: 0.13955950736999512 s\n",
      "Sampling took: 0.13141489028930664 s\n",
      "Sampling took: 0.14533114433288574 s\n",
      "Sampling took: 0.14057230949401855 s\n",
      "Sampling took: 0.15385150909423828 s\n",
      "Sampling took: 0.13701677322387695 s\n",
      "Sampling took: 0.1456303596496582 s\n",
      "Sampling took: 0.1445918083190918 s\n",
      "Sampling took: 0.1380634307861328 s\n",
      "Sampling took: 0.1303234100341797 s\n",
      "Sampling took: 0.15166974067687988 s\n",
      "Sampling took: 0.14382290840148926 s\n",
      "Sampling took: 0.14040112495422363 s\n",
      "Sampling took: 0.11240100860595703 s\n",
      "Sampling took: 0.1220235824584961 s\n",
      "Sampling took: 0.12107610702514648 s\n",
      "Sampling took: 0.13499832153320312 s\n",
      "Sampling took: 0.13138294219970703 s\n",
      "Sampling took: 0.13715505599975586 s\n",
      "Sampling took: 0.12346148490905762 s\n",
      "Sampling took: 0.13412857055664062 s\n",
      "Sampling took: 0.12323784828186035 s\n",
      "Sampling took: 0.13381409645080566 s\n",
      "Sampling took: 0.1195516586303711 s\n",
      "Sampling took: 0.13150501251220703 s\n",
      "Sampling took: 0.1259293556213379 s\n",
      "Sampling took: 0.13320350646972656 s\n",
      "Sampling took: 0.13579511642456055 s\n"
     ]
    }
   ],
   "source": [
    "MESH = 'faust_54098(1)'\n",
    "EXPERIMENT = 'faust_54098(1)'\n",
    "N = 32\n",
    "MODEL = 'best'\n",
    "\n",
    "\n",
    "meshes_pred = []\n",
    "meshes_gt = []\n",
    "with open(f'../results/{MESH}/{MESH}.json') as jsonFile:\n",
    "    skel = json.load(jsonFile)\n",
    "    model = SIREN(\n",
    "            n_in_features= len(skel['joints'][0]['mean']) + 3,\n",
    "            n_out_features=1,\n",
    "            hidden_layer_config=[256, 256, 256, 256],\n",
    "            w0=30,\n",
    "            ww=None\n",
    "    )\n",
    "    model.load_state_dict( torch.load(f'../results/{MESH}/test_{EXPERIMENT}/models/model_{MODEL}.pth', map_location=torch.device(0)))\n",
    "    for joint in skel['joints']:\n",
    "        vertices, faces, normals, values = create_mesh(\n",
    "            model,\n",
    "            distance = torch.from_numpy(np.array(joint['mean']).astype(np.float32)),\n",
    "            N=N\n",
    "        )\n",
    "        mesh = o3d.geometry.TriangleMesh( o3d.utility.Vector3dVector(vertices), o3d.utility.Vector3iVector(faces) )\n",
    "        mesh.transform( np.array(joint['transformation']).astype(np.float32) )\n",
    "        meshes_pred.append(mesh)\n",
    "\n",
    "        mesh = o3d.geometry.TriangleMesh( o3d.utility.Vector3dVector(np.array(joint['vertices']).astype(np.float32)), o3d.utility.Vector3iVector(np.array(joint['triangles']).astype(np.float32)) )\n",
    "        mesh.transform( np.array(joint['transformation']).astype(np.float32) )\n",
    "        meshes_gt.append(mesh)\n"
   ]
  },
  {
   "cell_type": "code",
   "execution_count": 4,
   "metadata": {},
   "outputs": [
    {
     "data": {
      "application/vnd.jupyter.widget-view+json": {
       "model_id": "a5f2eb4e879443d3bbd0ae0b5caa2c71",
       "version_major": 2,
       "version_minor": 0
      },
      "text/plain": [
       "Renderer(camera=PerspectiveCamera(children=(DirectionalLight(color='white', intensity=0.6, position=(0.4127570…"
      ]
     },
     "metadata": {},
     "output_type": "display_data"
    }
   ],
   "source": [
    "\n",
    "p = None\n",
    "cmap = cm.get_cmap('flag')\n",
    "for i, mesh in enumerate(meshes_pred):\n",
    "    if len(np.asarray(mesh.vertices)) > 0:\n",
    "        if p is None:\n",
    "            p = mp.plot( np.asarray(mesh.vertices), np.asarray(mesh.triangles), return_plot = True, c=np.array(cmap((i)/len(meshes_pred)))[0:3])\n",
    "        else:\n",
    "            p.add_mesh( np.asarray(mesh.vertices), np.asarray(mesh.triangles), c=np.array(cmap((i)/len(meshes_pred)))[0:3] )"
   ]
  },
  {
   "cell_type": "code",
   "execution_count": 5,
   "metadata": {},
   "outputs": [
    {
     "data": {
      "application/vnd.jupyter.widget-view+json": {
       "model_id": "ef03afc412a6402e8a2ea5179b3a5a97",
       "version_major": 2,
       "version_minor": 0
      },
      "text/plain": [
       "Renderer(camera=PerspectiveCamera(children=(DirectionalLight(color='white', intensity=0.6, position=(0.4133010…"
      ]
     },
     "metadata": {},
     "output_type": "display_data"
    }
   ],
   "source": [
    "\n",
    "p = None\n",
    "cmap = cm.get_cmap('flag')\n",
    "for i, mesh in enumerate(meshes_gt):\n",
    "    if p is None:\n",
    "        p = mp.plot( np.asarray(mesh.vertices), np.asarray(mesh.triangles), return_plot = True, c=np.array(cmap((i)/len(meshes_gt)))[0:3])\n",
    "    else:\n",
    "        p.add_mesh( np.asarray(mesh.vertices), np.asarray(mesh.triangles), c=np.array(cmap((i)/len(meshes_gt)))[0:3] )"
   ]
  },
  {
   "cell_type": "code",
   "execution_count": null,
   "metadata": {},
   "outputs": [],
   "source": [
    "MESH = 'brazo'\n",
    "EXPERIMENT = 'brazo'\n",
    "BRANCH = 0\n",
    "N = 64\n",
    "MODEL = 'best'\n",
    "\n",
    "model = SIREN(\n",
    "        n_in_features=4,\n",
    "        n_out_features=1,\n",
    "        hidden_layer_config=[256, 256, 256, 256],\n",
    "        w0=30,\n",
    "        ww=None\n",
    ")\n",
    "model.load_state_dict( torch.load(f'../results/{MESH}/test_{EXPERIMENT}/models/model_{MODEL}.pth'))\n",
    "\n",
    "meshes_pred = []\n",
    "with open(f'../results/{MESH}/{MESH}.json') as jsonFile:\n",
    "    skel = json.load(jsonFile)\n",
    "    branch = skel['branches'][BRANCH]\n",
    "\n",
    "    for d in np.linspace(0,1,6):\n",
    "        vertices, faces, normals, values = create_mesh(\n",
    "            model,\n",
    "            distance = torch.from_numpy(np.array(d).astype(np.float32)),\n",
    "            N=N\n",
    "        )\n",
    "        mesh = o3d.geometry.TriangleMesh( o3d.utility.Vector3dVector(vertices), o3d.utility.Vector3iVector(faces) )\n",
    "        mesh.transform( .astype(np.float32) )\n",
    "        meshes_pred.append(mesh)"
   ]
  },
  {
   "cell_type": "code",
   "execution_count": null,
   "metadata": {},
   "outputs": [],
   "source": [
    "\n",
    "p = None\n",
    "cmap = cm.get_cmap('flag')\n",
    "for i, mesh in enumerate(meshes_pred):\n",
    "    if p is None:\n",
    "        p = mp.plot( np.asarray(mesh.vertices), np.asarray(mesh.triangles), return_plot = True, c=np.array(cmap((i)/len(meshes_pred)))[0:3])\n",
    "    else:\n",
    "        p.add_mesh( np.asarray(mesh.vertices), np.asarray(mesh.triangles), c=np.array(cmap((i)/len(meshes_pred)))[0:3] )"
   ]
  }
 ],
 "metadata": {
  "kernelspec": {
   "display_name": "graficos3.9",
   "language": "python",
   "name": "python3"
  },
  "language_info": {
   "codemirror_mode": {
    "name": "ipython",
    "version": 3
   },
   "file_extension": ".py",
   "mimetype": "text/x-python",
   "name": "python",
   "nbconvert_exporter": "python",
   "pygments_lexer": "ipython3",
   "version": "3.9.13"
  },
  "orig_nbformat": 4,
  "vscode": {
   "interpreter": {
    "hash": "2739103a24152653e1f8b2fff28c65788dabdc9ba71ec9cb9a43d6c5fc424aab"
   }
  }
 },
 "nbformat": 4,
 "nbformat_minor": 2
}
