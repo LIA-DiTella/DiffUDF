{
 "cells": [
  {
   "cell_type": "code",
   "execution_count": 1,
   "metadata": {},
   "outputs": [
    {
     "name": "stdout",
     "output_type": "stream",
     "text": [
      "Jupyter environment detected. Enabling Open3D WebVisualizer.\n",
      "[Open3D INFO] WebRTC GUI backend enabled.\n",
      "[Open3D INFO] WebRTCWindowSystem: HTTP handshake server disabled.\n"
     ]
    }
   ],
   "source": [
    "from training.model import SIREN\n",
    "import torch\n",
    "import numpy as np\n",
    "from render.meshing import create_mesh\n",
    "import open3d as o3d\n",
    "import json\n",
    "import meshplot as mp\n",
    "import matplotlib.cm as cm"
   ]
  },
  {
   "cell_type": "code",
   "execution_count": 2,
   "metadata": {},
   "outputs": [],
   "source": [
    "FOLDER = 'segmented'\n",
    "VERSION = ''\n",
    "MESH = 'faust_54098'\n",
    "EXPERIMENT = 'faust_54098'\n",
    "N = 64\n",
    "MODEL = 'best'"
   ]
  },
  {
   "cell_type": "code",
   "execution_count": 3,
   "metadata": {},
   "outputs": [],
   "source": [
    "meshes_pred = []\n",
    "meshes_gt = []\n",
    "with open(f'../data/{FOLDER}/{MESH}{VERSION}.json') as jsonFile:\n",
    "    skel = json.load(jsonFile)\n",
    "    model = SIREN(\n",
    "            n_in_features= len(skel['joints'][0]['mean']) + 3,\n",
    "            n_out_features=1,\n",
    "            hidden_layer_config=[256,256,256,256],\n",
    "            w0=90,\n",
    "            ww=None\n",
    "    )\n",
    "    model.load_state_dict( torch.load(f'../results/{MESH}/test_{EXPERIMENT}/models/model_{MODEL}.pth', map_location=torch.device(0)))\n",
    "    \n",
    "    for joint in skel['joints']:\n",
    "        vertices, faces, normals, values = create_mesh(\n",
    "            model,\n",
    "            distance = torch.from_numpy(np.array(joint['mean']).astype(np.float32)),\n",
    "            N=N,\n",
    "            silent=True\n",
    "        )\n",
    "        mesh = o3d.geometry.TriangleMesh( o3d.utility.Vector3dVector(vertices), o3d.utility.Vector3iVector(faces) )\n",
    "        \n",
    "        T = (np.block( [[np.eye(3,3), np.asarray(joint['position']).reshape((3,1))],[np.eye(1,4,k=3)] ] ) @ \n",
    "             np.block( [ [np.asarray(joint['base']), np.zeros((3,1))], [np.eye(1,4,k=3)]]) @ \n",
    "             np.diag( [1 / skel['scale']] * 3 + [1] ))\n",
    "        \n",
    "        mesh.transform( T )\n",
    "        meshes_pred.append(mesh)\n",
    "\n",
    "        mesh = o3d.geometry.TriangleMesh( o3d.utility.Vector3dVector(np.array(joint['vertices']).astype(np.float32)), o3d.utility.Vector3iVector(np.array(joint['triangles']).astype(np.float32)) )\n",
    "        mesh.transform( T )\n",
    "        meshes_gt.append(mesh)\n"
   ]
  },
  {
   "cell_type": "code",
   "execution_count": null,
   "metadata": {},
   "outputs": [],
   "source": [
    "p = None\n",
    "cmap = cm.get_cmap('flag')\n",
    "for i, mesh in enumerate(meshes_pred):\n",
    "    if len(np.asarray(mesh.vertices)) > 0:\n",
    "        if p is None:\n",
    "            p = mp.plot( np.asarray(mesh.vertices), np.asarray(mesh.triangles), return_plot = True, c=np.array(cmap((i)/len(meshes_pred)))[0:3])\n",
    "        else:\n",
    "            p.add_mesh( np.asarray(mesh.vertices), np.asarray(mesh.triangles), c=np.array(cmap((i)/len(meshes_pred)))[0:3] )\n",
    "    else:\n",
    "        print(i)"
   ]
  },
  {
   "cell_type": "code",
   "execution_count": 4,
   "metadata": {},
   "outputs": [],
   "source": [
    "# exportar\n",
    "for i, mesh in enumerate(meshes_pred):\n",
    "    o3d.io.write_triangle_mesh(f'{i}.ply',mesh)"
   ]
  },
  {
   "cell_type": "code",
   "execution_count": null,
   "metadata": {},
   "outputs": [],
   "source": [
    "\n",
    "p = None\n",
    "cmap = cm.get_cmap('flag')\n",
    "for i, mesh in enumerate(meshes_gt):\n",
    "    if p is None:\n",
    "        p = mp.plot( np.asarray(mesh.vertices), np.asarray(mesh.triangles), return_plot = True, c=np.array(cmap((i)/len(meshes_gt)))[0:3])\n",
    "    else:\n",
    "        p.add_mesh( np.asarray(mesh.vertices), np.asarray(mesh.triangles), c=np.array(cmap((i)/len(meshes_gt)))[0:3] )"
   ]
  },
  {
   "attachments": {},
   "cell_type": "markdown",
   "metadata": {},
   "source": [
    "# CON INTERPOLACION"
   ]
  },
  {
   "cell_type": "code",
   "execution_count": null,
   "metadata": {},
   "outputs": [],
   "source": [
    "from training.model import SIREN\n",
    "import torch\n",
    "import numpy as np\n",
    "from render.meshing import create_mesh\n",
    "import open3d as o3d\n",
    "import json\n",
    "import meshplot as mp\n",
    "import matplotlib.cm as cm\n",
    "import networkx as nx"
   ]
  },
  {
   "cell_type": "code",
   "execution_count": null,
   "metadata": {},
   "outputs": [],
   "source": [
    "def readCodeGraph( path ):\n",
    "    graph = nx.DiGraph()\n",
    "    with open( path ) as jsonFile:\n",
    "        skel = json.load(jsonFile)\n",
    "        root = skel['root']\n",
    "        scale = skel['scale']\n",
    "        graph.add_nodes_from( [ (joint['id'], {'code': np.asarray(joint['mean']), 'base':np.asarray(joint['base']), 'position':np.asarray(joint['position'])}) for joint in skel['joints'] ] )\n",
    "\n",
    "        for joint in skel['joints']:\n",
    "            graph.add_edges_from( [ (joint['id'], child) for child in joint['children']] )\n",
    "\n",
    "    return graph, root, scale"
   ]
  },
  {
   "cell_type": "code",
   "execution_count": null,
   "metadata": {},
   "outputs": [],
   "source": [
    "class graphIterator:\n",
    "    def __init__( self, graph: nx.DiGraph, root, samples=10 ):\n",
    "        self.graph, self.root = graph, root\n",
    "        self.branchGraph = self.removeDeg2Nodes()\n",
    "        self.samples = samples\n",
    "\n",
    "    def removeDeg2Nodes( self ):\n",
    "        newGraph = nx.DiGraph()\n",
    "\n",
    "        lastNode = []\n",
    "        for node in nx.dfs_tree( self.graph, self.root ):\n",
    "            if node == self.root:\n",
    "                newGraph.add_node( node, code=self.graph.nodes[node]['code'] )\n",
    "                lastNode = [node]\n",
    "            elif self.graph.out_degree(node) > 1:\n",
    "                newGraph.add_node( node, code=self.graph.nodes[node]['code'] )\n",
    "                newGraph.add_edge( lastNode[0], node )\n",
    "                lastNode = [node] * self.graph.out_degree(node) + lastNode[1:]\n",
    "            elif self.graph.out_degree(node) == 0:\n",
    "                newGraph.add_node( node, code=self.graph.nodes[node]['code'] )\n",
    "                newGraph.add_edge( lastNode[0], node )\n",
    "                lastNode = lastNode[1:]\n",
    "\n",
    "        return newGraph\n",
    "\n",
    "    def __iter__( self ):\n",
    "        queue = []\n",
    "        currentNode = self.root\n",
    "\n",
    "        while True:\n",
    "            if self.branchGraph.out_degree( currentNode ) != 0:\n",
    "                for _, child in self.branchGraph.out_edges(currentNode):\n",
    "                    branchIndex = np.argmax( np.abs( self.branchGraph.nodes[child]['code'] - self.branchGraph.nodes[currentNode]['code'] ) )\n",
    "                    for i in np.linspace(0,1, self.samples, endpoint=False):\n",
    "                        base, position = self.interpolate( currentNode, child, i, branchIndex )\n",
    "\n",
    "                        sampledCode = np.array( self.branchGraph.nodes[currentNode]['code'] )\n",
    "                        sampledCode[branchIndex] = i\n",
    "\n",
    "                        yield sampledCode, base, position\n",
    "\n",
    "                queue = [ nextNode for _, nextNode in self.branchGraph.out_edges(currentNode)] + queue\n",
    "            else:\n",
    "                yield self.graph.nodes[currentNode]['code'], self.graph.nodes[currentNode]['base'], self.graph.nodes[currentNode]['position']\n",
    "\n",
    "            if len(queue) > 0:\n",
    "                currentNode = queue.pop(0)\n",
    "            else: \n",
    "                break\n",
    "\n",
    "    def interpolate( self, nodeFrom, nodeTo, parameter, branchIndex ):\n",
    "        path = nx.shortest_path( self.graph, nodeFrom, nodeTo )\n",
    "\n",
    "        for i, node in enumerate(path):\n",
    "            if np.isclose( self.graph.nodes[node]['code'][branchIndex], parameter):\n",
    "                return self.graph.nodes[node]['base'], self.graph.nodes[node]['position']\n",
    "            \n",
    "            if self.graph.nodes[node]['code'][branchIndex] > parameter:\n",
    "                previousNode = path[i-1]\n",
    "                interpolatedPosition = (self.graph.nodes[node]['position'] - self.graph.nodes[previousNode]['position']) * (self.graph.nodes[node]['code'][branchIndex] - parameter) + self.graph.nodes[previousNode]['position']\n",
    "                return (self.graph.nodes[node]['base'] + self.graph.nodes[previousNode]['base']) / 2, interpolatedPosition\n",
    "\n",
    "\n",
    "        "
   ]
  },
  {
   "cell_type": "code",
   "execution_count": null,
   "metadata": {},
   "outputs": [],
   "source": [
    "MESH = 'faust_54098'\n",
    "EXPERIMENT = 'faust_54098_small'\n",
    "N = 32\n",
    "MODEL = 'best'"
   ]
  },
  {
   "cell_type": "code",
   "execution_count": null,
   "metadata": {},
   "outputs": [],
   "source": [
    "branchGraph, root, scale = readCodeGraph(f'../results/{MESH}/{MESH}_t.json')\n",
    "meshes_pred = []\n",
    "model = SIREN(\n",
    "        n_in_features= len(branchGraph.nodes[0]['code']) + 3,\n",
    "        n_out_features=1,\n",
    "        hidden_layer_config=[32,32,32,32],\n",
    "        w0=30,\n",
    "        ww=None\n",
    ")\n",
    "model.load_state_dict( torch.load(f'../results/{MESH}/test_{EXPERIMENT}/models/model_{MODEL}.pth', map_location=torch.device(0)))"
   ]
  },
  {
   "cell_type": "code",
   "execution_count": null,
   "metadata": {},
   "outputs": [],
   "source": [
    "iter = graphIterator( branchGraph, root, 25 )\n",
    "for code, base, position in iter:\n",
    "    vertices, faces, normals, values = create_mesh(\n",
    "        model,\n",
    "        distance = torch.from_numpy(np.array(code)),\n",
    "        N=N,\n",
    "        silent=True\n",
    "    )\n",
    "    mesh = o3d.geometry.TriangleMesh( o3d.utility.Vector3dVector(vertices), o3d.utility.Vector3iVector(faces) )\n",
    "    \n",
    "    T = (np.block( [[np.eye(3,3), position.reshape((3,1))],[np.eye(1,4,k=3)] ] ) @ \n",
    "            np.block( [ [base, np.zeros((3,1))], [np.eye(1,4,k=3)]]) @ \n",
    "            np.diag( [1 / scale] * 3 + [1] ))\n",
    "    \n",
    "    mesh.transform( T )\n",
    "    meshes_pred.append(mesh)"
   ]
  },
  {
   "cell_type": "code",
   "execution_count": null,
   "metadata": {},
   "outputs": [],
   "source": [
    "\n",
    "p = None\n",
    "cmap = cm.get_cmap('flag')\n",
    "for i, mesh in enumerate(meshes_pred):\n",
    "    if len(np.asarray(mesh.vertices)) > 0:\n",
    "        if p is None:\n",
    "            p = mp.plot( np.asarray(mesh.vertices), np.asarray(mesh.triangles), return_plot = True, c=np.array(cmap((i)/len(meshes_pred)))[0:3])\n",
    "        else:\n",
    "            p.add_mesh( np.asarray(mesh.vertices), np.asarray(mesh.triangles), c=np.array(cmap((i)/len(meshes_pred)))[0:3] )"
   ]
  },
  {
   "attachments": {},
   "cell_type": "markdown",
   "metadata": {},
   "source": [
    "# Solo json"
   ]
  },
  {
   "cell_type": "code",
   "execution_count": null,
   "metadata": {},
   "outputs": [],
   "source": [
    "import numpy as np\n",
    "import open3d as o3d\n",
    "import json\n",
    "import meshplot as mp\n",
    "import matplotlib.cm as cm"
   ]
  },
  {
   "cell_type": "code",
   "execution_count": null,
   "metadata": {},
   "outputs": [],
   "source": [
    "meshes_gt = []\n",
    "with open(f'../data/segmented/faust_54098.json') as jsonFile:\n",
    "    skel = json.load(jsonFile)\n",
    "    \n",
    "    for joint in skel['joints']:\n",
    "        T = (np.block( [[np.eye(3,3), np.asarray(joint['position']).reshape((3,1))],[np.eye(1,4,k=3)] ] ) @ \n",
    "             np.block( [ [np.asarray(joint['base']), np.zeros((3,1))], [np.eye(1,4,k=3)]]) @ \n",
    "             np.diag( [1 / skel['scale']] * 3 + [1] ))\n",
    "        \n",
    "        mesh = o3d.geometry.TriangleMesh( o3d.utility.Vector3dVector(np.array(joint['vertices']).astype(np.float32)), o3d.utility.Vector3iVector(np.array(joint['triangles']).astype(np.float32)) )\n",
    "        mesh.transform( T )\n",
    "        meshes_gt.append(mesh)\n"
   ]
  },
  {
   "cell_type": "code",
   "execution_count": null,
   "metadata": {},
   "outputs": [],
   "source": [
    "p = None\n",
    "cmap = cm.get_cmap('flag')\n",
    "for i, mesh in enumerate(meshes_gt):\n",
    "    if len(np.asarray(mesh.vertices)) > 0:\n",
    "        if p is None:\n",
    "            p = mp.plot( np.asarray(mesh.vertices), np.asarray(mesh.triangles), return_plot = True, c=np.array(cmap((i)/len(meshes_gt)))[0:3])\n",
    "        else:\n",
    "            p.add_mesh( np.asarray(mesh.vertices), np.asarray(mesh.triangles), c=np.array(cmap((i)/len(meshes_gt)))[0:3] )\n",
    "    else:\n",
    "        print(i)"
   ]
  }
 ],
 "metadata": {
  "kernelspec": {
   "display_name": "graficos3.9",
   "language": "python",
   "name": "python3"
  },
  "language_info": {
   "codemirror_mode": {
    "name": "ipython",
    "version": 3
   },
   "file_extension": ".py",
   "mimetype": "text/x-python",
   "name": "python",
   "nbconvert_exporter": "python",
   "pygments_lexer": "ipython3",
   "version": "3.9.13"
  },
  "orig_nbformat": 4,
  "vscode": {
   "interpreter": {
    "hash": "2739103a24152653e1f8b2fff28c65788dabdc9ba71ec9cb9a43d6c5fc424aab"
   }
  }
 },
 "nbformat": 4,
 "nbformat_minor": 2
}
