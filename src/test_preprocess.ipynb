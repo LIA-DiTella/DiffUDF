{
 "cells": [
  {
   "attachments": {},
   "cell_type": "markdown",
   "metadata": {},
   "source": [
    "# Tests Interpolation"
   ]
  },
  {
   "cell_type": "code",
   "execution_count": 1,
   "metadata": {},
   "outputs": [],
   "source": [
    "from util.util import Interpolation\n",
    "import numpy as np\n",
    "import meshplot as mp"
   ]
  },
  {
   "attachments": {},
   "cell_type": "markdown",
   "metadata": {},
   "source": [
    "Curva 2 puntos"
   ]
  },
  {
   "cell_type": "code",
   "execution_count": 2,
   "metadata": {},
   "outputs": [
    {
     "data": {
      "application/vnd.jupyter.widget-view+json": {
       "model_id": "5e000b7a393146938dece896464de00a",
       "version_major": 2,
       "version_minor": 0
      },
      "text/plain": [
       "Renderer(camera=PerspectiveCamera(children=(DirectionalLight(color='white', intensity=0.6, position=(0.5, 0.5,…"
      ]
     },
     "metadata": {},
     "output_type": "display_data"
    },
    {
     "data": {
      "text/plain": [
       "1"
      ]
     },
     "execution_count": 2,
     "metadata": {},
     "output_type": "execute_result"
    }
   ],
   "source": [
    "two = Interpolation( [[0,0,0], [1,1,1] ] )\n",
    "\n",
    "p = mp.plot(np.array(list(two.evaluateFrom( i for i in np.linspace(0,1,100)) )), shading={'point_size':0.1}, return_plot=True)\n",
    "p.add_points( np.array([[0,0,0], [1,1,1]]), shading={'point_size':0.4, 'point_color': 'blue'})"
   ]
  },
  {
   "attachments": {},
   "cell_type": "markdown",
   "metadata": {},
   "source": [
    "Curva 3 puntos"
   ]
  },
  {
   "cell_type": "code",
   "execution_count": 3,
   "metadata": {},
   "outputs": [
    {
     "data": {
      "application/vnd.jupyter.widget-view+json": {
       "model_id": "885a9a04b88148a2b6f889c50b3a5cd0",
       "version_major": 2,
       "version_minor": 0
      },
      "text/plain": [
       "Renderer(camera=PerspectiveCamera(children=(DirectionalLight(color='white', intensity=0.6, position=(0.4997979…"
      ]
     },
     "metadata": {},
     "output_type": "display_data"
    },
    {
     "data": {
      "text/plain": [
       "1"
      ]
     },
     "execution_count": 3,
     "metadata": {},
     "output_type": "execute_result"
    }
   ],
   "source": [
    "three = Interpolation( [[0,0,0], [1,1,1], [0,0,2] ] )\n",
    "\n",
    "p = mp.plot(np.array(list(three.evaluateFrom( i for i in np.linspace(0,1,100)) )), shading={'point_size':0.1}, return_plot=True)\n",
    "p.add_points( np.array([[0,0,0], [1,1,1], [0,0,2]]), shading={'point_size':0.4, 'point_color': 'blue'})"
   ]
  },
  {
   "attachments": {},
   "cell_type": "markdown",
   "metadata": {},
   "source": [
    "# Test branches"
   ]
  },
  {
   "cell_type": "code",
   "execution_count": 4,
   "metadata": {},
   "outputs": [
    {
     "name": "stdout",
     "output_type": "stream",
     "text": [
      "Jupyter environment detected. Enabling Open3D WebVisualizer.\n",
      "[Open3D INFO] WebRTC GUI backend enabled.\n",
      "[Open3D INFO] WebRTCWindowSystem: HTTP handshake server disabled.\n"
     ]
    }
   ],
   "source": [
    "from submesh.submesh import SkeletonMesh\n",
    "import meshplot as mp\n",
    "import matplotlib.cm as cm\n",
    "import numpy as np"
   ]
  },
  {
   "cell_type": "code",
   "execution_count": 6,
   "metadata": {},
   "outputs": [
    {
     "name": "stdout",
     "output_type": "stream",
     "text": [
      "21\n"
     ]
    }
   ],
   "source": [
    "skel = SkeletonMesh( \n",
    "        '../data/humans/mesh/faust_6890.off', \n",
    "        '../data/humans/centerline/faust_6890.txt',\n",
    "        '../data/humans/centerline/faust_6890.polylines.txt' )\n",
    "\n",
    "print( skel.amountOfBranches )\n",
    "skel.submesh()\n",
    "skel.postprocess()"
   ]
  },
  {
   "cell_type": "code",
   "execution_count": 7,
   "metadata": {},
   "outputs": [
    {
     "data": {
      "application/vnd.jupyter.widget-view+json": {
       "model_id": "c5e02038ecdb47478cf5aced3dd1681d",
       "version_major": 2,
       "version_minor": 0
      },
      "text/plain": [
       "Renderer(camera=PerspectiveCamera(children=(DirectionalLight(color='white', intensity=0.6, position=(0.0759724…"
      ]
     },
     "metadata": {},
     "output_type": "display_data"
    }
   ],
   "source": [
    "cmap1 = cm.get_cmap('tab20')\n",
    "cmap2 = cm.get_cmap('tab20b')\n",
    "p = None\n",
    "for i, branchIdx in enumerate(skel.skeletonTree.nodes):\n",
    "    c = '#'\n",
    "    cmap = cmap1 if i < 20 else cmap2\n",
    "    for x in (np.array(cmap( (i)/20) )[0:3] * 255).astype(np.uint32):\n",
    "        h = hex(x)[2:]\n",
    "        c += h if len(h) == 2 else '0' + h\n",
    "\n",
    "    joints = np.array(list(skel.branches[branchIdx].getJoints()))\n",
    "    noise = np.random.normal(0, 0.005, size=joints.shape)\n",
    "    if p is None:\n",
    "        p = mp.plot( joints + noise , return_plot = True, shading={'point_size': 0.1, 'point_color':c } )\n",
    "    else:\n",
    "        p.add_points( joints + noise, shading={'point_size': 0.1, 'point_color':c } )"
   ]
  },
  {
   "cell_type": "code",
   "execution_count": 9,
   "metadata": {},
   "outputs": [
    {
     "data": {
      "application/vnd.jupyter.widget-view+json": {
       "model_id": "15da14e8500a4d8abc55d06f23eaedee",
       "version_major": 2,
       "version_minor": 0
      },
      "text/plain": [
       "Renderer(camera=PerspectiveCamera(children=(DirectionalLight(color='white', intensity=0.6, position=(0.0637490…"
      ]
     },
     "metadata": {},
     "output_type": "display_data"
    }
   ],
   "source": [
    "cmap1 = cm.get_cmap('tab20')\n",
    "cmap2 = cm.get_cmap('tab20b')\n",
    "p = None\n",
    "for i, branchIdx in enumerate(skel.skeletonTree.nodes):\n",
    "    cmap = cmap1 if i < 20 else cmap2\n",
    "    for jointIdx, mesh in skel.branches[branchIdx].getSubmeshes():\n",
    "        if True:#branchIdx in skel.skipableJoints and skel.skipableJoints[branchIdx] != jointIdx:\n",
    "            noise = np.random.normal( 0, 0.001, size=np.asarray(mesh.vertices).shape )\n",
    "            if p is None:\n",
    "                p = mp.plot( np.asarray(mesh.vertices) + noise, np.asarray(mesh.triangles), return_plot = True, c=np.array(cmap((i)/20))[0:3] )\n",
    "            else:\n",
    "                p.add_mesh( np.asarray(mesh.vertices) + noise, np.asarray(mesh.triangles), c=np.array(cmap((i)/20))[0:3] )\n"
   ]
  },
  {
   "attachments": {},
   "cell_type": "markdown",
   "metadata": {},
   "source": [
    "# Tests submeshing"
   ]
  },
  {
   "cell_type": "code",
   "execution_count": 10,
   "metadata": {},
   "outputs": [],
   "source": [
    "from submesh.submesh import SkeletonMesh\n",
    "import meshplot as mp\n",
    "import matplotlib.cm as cm\n",
    "import numpy as np"
   ]
  },
  {
   "cell_type": "code",
   "execution_count": 12,
   "metadata": {},
   "outputs": [
    {
     "data": {
      "application/vnd.jupyter.widget-view+json": {
       "model_id": "cddb45aa8098441283e01a5b7bcfe188",
       "version_major": 2,
       "version_minor": 0
      },
      "text/plain": [
       "Renderer(camera=PerspectiveCamera(children=(DirectionalLight(color='white', intensity=0.6, position=(0.0797183…"
      ]
     },
     "metadata": {},
     "output_type": "display_data"
    }
   ],
   "source": [
    "skel = SkeletonMesh( \n",
    "        '../data/humans/mesh/faust_6890.off', \n",
    "        '../data/humans/centerline/faust_6890.txt',\n",
    "        '../data/humans/centerline/faust_6890.polylines.txt' )\n",
    "\n",
    "skel.submesh(pointsPerUnit=5)\n",
    "skel.postprocess()\n",
    "\n",
    "cmap = cm.get_cmap('flag')\n",
    "p = None\n",
    "for i, (joint, mesh, _) in enumerate(skel.getSubmeshes()):\n",
    "    \n",
    "    if p is None:\n",
    "        p = mp.plot( np.asarray(mesh.vertices), np.asarray(mesh.triangles), return_plot = True, c=np.array(cmap((i)/skel.amountOfJoints))[0:3] )\n",
    "    else:\n",
    "        p.add_mesh( np.asarray(mesh.vertices), np.asarray(mesh.triangles), c=np.array(cmap((i)/skel.amountOfJoints))[0:3] )"
   ]
  },
  {
   "cell_type": "code",
   "execution_count": 13,
   "metadata": {},
   "outputs": [
    {
     "data": {
      "application/vnd.jupyter.widget-view+json": {
       "model_id": "b40d7bfbdd7b483da2aa7038d6d21d0e",
       "version_major": 2,
       "version_minor": 0
      },
      "text/plain": [
       "Renderer(camera=PerspectiveCamera(children=(DirectionalLight(color='white', intensity=0.6, position=(0.0271050…"
      ]
     },
     "metadata": {},
     "output_type": "display_data"
    },
    {
     "data": {
      "text/plain": [
       "<meshplot.Viewer.Viewer at 0x7f76531b5e50>"
      ]
     },
     "execution_count": 13,
     "metadata": {},
     "output_type": "execute_result"
    }
   ],
   "source": [
    "mp.plot( np.unique( np.array(list(skel.getJoints())) , axis=0), shading={'point_size':0.1} )"
   ]
  },
  {
   "cell_type": "code",
   "execution_count": null,
   "metadata": {},
   "outputs": [],
   "source": [
    "skel.centerAndNormalize()\n",
    "\n",
    "cmap = cm.get_cmap('flag')\n",
    "p2 = None\n",
    "for i, (joint, mesh, _) in enumerate(skel.getSubmeshes()):\n",
    "    \n",
    "    if p2 is None:\n",
    "        p2 = mp.plot( np.asarray(mesh.vertices), np.asarray(mesh.triangles), return_plot = True, c=np.array(cmap((i)/skel.amountOfJoints))[0:3] )\n",
    "    else:\n",
    "        p2.add_mesh( np.asarray(mesh.vertices), np.asarray(mesh.triangles), c=np.array(cmap((i)/skel.amountOfJoints))[0:3] )"
   ]
  },
  {
   "cell_type": "code",
   "execution_count": 14,
   "metadata": {},
   "outputs": [
    {
     "ename": "NameError",
     "evalue": "name 'p2' is not defined",
     "output_type": "error",
     "traceback": [
      "\u001b[0;31m---------------------------------------------------------------------------\u001b[0m",
      "\u001b[0;31mNameError\u001b[0m                                 Traceback (most recent call last)",
      "\u001b[1;32m/home/migue/Documents/Labo/Skeleton_sdf/src/test_preprocess.ipynb Cell 17\u001b[0m in \u001b[0;36m<cell line: 1>\u001b[0;34m()\u001b[0m\n\u001b[0;32m----> <a href='vscode-notebook-cell:/home/migue/Documents/Labo/Skeleton_sdf/src/test_preprocess.ipynb#X23sZmlsZQ%3D%3D?line=0'>1</a>\u001b[0m p2\u001b[39m.\u001b[39madd_lines( np\u001b[39m.\u001b[39marray([[\u001b[39m0\u001b[39m,\u001b[39m0\u001b[39m,\u001b[39m0\u001b[39m], [\u001b[39m0\u001b[39m,\u001b[39m0\u001b[39m,\u001b[39m0\u001b[39m], [\u001b[39m0\u001b[39m,\u001b[39m0\u001b[39m,\u001b[39m0\u001b[39m] ]), np\u001b[39m.\u001b[39marray([[\u001b[39m1\u001b[39m,\u001b[39m0\u001b[39m,\u001b[39m0\u001b[39m], [\u001b[39m0\u001b[39m,\u001b[39m1\u001b[39m,\u001b[39m0\u001b[39m], [\u001b[39m0\u001b[39m,\u001b[39m0\u001b[39m,\u001b[39m1\u001b[39m] ]))\n",
      "\u001b[0;31mNameError\u001b[0m: name 'p2' is not defined"
     ]
    }
   ],
   "source": [
    "p2.add_lines( np.array([[0,0,0], [0,0,0], [0,0,0] ]), np.array([[1,0,0], [0,1,0], [0,0,1] ]))"
   ]
  },
  {
   "cell_type": "code",
   "execution_count": null,
   "metadata": {},
   "outputs": [],
   "source": [
    "skel.saveToJson( 'prueba.json')"
   ]
  },
  {
   "attachments": {},
   "cell_type": "markdown",
   "metadata": {},
   "source": [
    "# Test curvatura"
   ]
  },
  {
   "attachments": {},
   "cell_type": "markdown",
   "metadata": {},
   "source": [
    "### computar desde 0:"
   ]
  },
  {
   "cell_type": "code",
   "execution_count": null,
   "metadata": {},
   "outputs": [],
   "source": [
    "import pymeshlab as pm\n",
    "import meshplot as mp\n",
    "import numpy as np\n",
    "import open3d as o3d\n",
    "\n",
    "ms = pm.MeshSet()\n",
    "ms.load_new_mesh('../../data/humans/mesh/test_15070.off')\n",
    "\n",
    "m = ms.current_mesh()\n",
    "\n",
    "d = ms.apply_filter(\"compute_scalar_by_discrete_curvature_per_vertex\", curvaturetype='Mean Curvature')\n",
    "ms.compute_new_custom_scalar_attribute_per_vertex(name=\"v_curv\", expr=\"q\")\n",
    "\n",
    "v_curv = m.vertex_custom_scalar_attribute_array('v_curv')\n",
    "\n",
    "v_curv = np.clip( v_curv, a_min = -1 * float(d['90_percentile']), a_max = float(d['90_percentile']))\n"
   ]
  },
  {
   "cell_type": "code",
   "execution_count": null,
   "metadata": {},
   "outputs": [],
   "source": [
    "mesh = o3d.io.read_triangle_mesh('../../data/humans/mesh/test_15070.off')\n",
    "mp.plot( np.asarray(mesh.vertices), np.asarray(mesh.triangles), c=v_curv)"
   ]
  },
  {
   "attachments": {},
   "cell_type": "markdown",
   "metadata": {},
   "source": [
    "### En skeleton mesh:"
   ]
  },
  {
   "cell_type": "code",
   "execution_count": null,
   "metadata": {},
   "outputs": [],
   "source": [
    "from submesh import SkeletonMesh\n",
    "import meshplot as mp\n",
    "import numpy as np\n",
    "\n",
    "skel = SkeletonMesh( \n",
    "        '../../data/humans/mesh/test_6890.off', \n",
    "        '../../data/humans/centerline/faust_6890.txt',\n",
    "        '../../data/humans/centerline/faust_6890.polylines.txt' )\n",
    "\n",
    "skel.submesh(pointsPerUnit=5)\n",
    "skel.postprocess()\n"
   ]
  },
  {
   "cell_type": "code",
   "execution_count": null,
   "metadata": {},
   "outputs": [],
   "source": [
    "\n",
    "p = None\n",
    "s = 0\n",
    "for i, (joint, mesh, curv) in enumerate(list(skel.getSubmeshes())):\n",
    "    if p is None:\n",
    "        p = mp.plot( np.asarray(mesh.vertices), np.asarray(mesh.triangles), return_plot = True, c=curv )\n",
    "    else:\n",
    "        p.add_mesh( np.asarray(mesh.vertices), np.asarray(mesh.triangles), c=curv )"
   ]
  },
  {
   "attachments": {},
   "cell_type": "markdown",
   "metadata": {},
   "source": [
    "# Test leer JSON"
   ]
  },
  {
   "cell_type": "code",
   "execution_count": null,
   "metadata": {},
   "outputs": [],
   "source": [
    "import json\n",
    "import meshplot as mp\n",
    "import numpy as np\n",
    "import matplotlib.cm as cm\n",
    "import open3d as o3d"
   ]
  },
  {
   "cell_type": "code",
   "execution_count": null,
   "metadata": {},
   "outputs": [],
   "source": [
    "with open('prueba.json', 'r') as jsonFile:\n",
    "    skel = json.load( jsonFile )\n",
    "\n",
    "    meshes = []\n",
    "    for branch in skel['branches']:\n",
    "        for joint in branch['joints']:\n",
    "            mesh = o3d.geometry.TriangleMesh( \n",
    "                o3d.utility.Vector3dVector(np.asarray(joint['vertices'])), \n",
    "                o3d.utility.Vector3iVector(np.asarray(joint['triangles'])) )\n",
    "\n",
    "            mesh.transform( np.asarray(joint['transformation']) )\n",
    "            meshes.append(mesh)"
   ]
  },
  {
   "cell_type": "code",
   "execution_count": null,
   "metadata": {},
   "outputs": [],
   "source": [
    "cmap = cm.get_cmap('flag')\n",
    "p3 = None\n",
    "for i, mesh in enumerate(meshes):\n",
    "    if p3 is None:\n",
    "        p3 = mp.plot( np.asarray(mesh.vertices), np.asarray(mesh.triangles), return_plot = True, c=np.array(cmap((i)/len(meshes)))[0:3] )\n",
    "    else:\n",
    "        p3.add_mesh( np.asarray(mesh.vertices), np.asarray(mesh.triangles), c=np.array(cmap((i)/len(meshes)))[0:3] )"
   ]
  },
  {
   "attachments": {},
   "cell_type": "markdown",
   "metadata": {},
   "source": [
    "# Test joint distance"
   ]
  },
  {
   "cell_type": "code",
   "execution_count": null,
   "metadata": {},
   "outputs": [],
   "source": [
    "from submesh.submesh import SkeletonMesh\n",
    "import numpy as np\n",
    "\n",
    "skel = SkeletonMesh( \n",
    "        '../data/humans/mesh/faust_6890.off', \n",
    "        '../data/humans/centerline/faust_6890.txt',\n",
    "        '../data/humans/centerline/faust_6890.polylines.txt' )\n",
    "\n",
    "skel.submesh(pointsPerUnit=5)\n",
    "#skel.postprocess()"
   ]
  },
  {
   "cell_type": "code",
   "execution_count": null,
   "metadata": {},
   "outputs": [],
   "source": [
    "skel.branches[0].amountOfJoints()"
   ]
  },
  {
   "cell_type": "code",
   "execution_count": null,
   "metadata": {},
   "outputs": [],
   "source": [
    "for i in range( skel.branches[0].amountOfJoints() ):\n",
    "    print(skel.branches[0].jointDistance(i) )"
   ]
  }
 ],
 "metadata": {
  "kernelspec": {
   "display_name": "graficos3.9",
   "language": "python",
   "name": "python3"
  },
  "language_info": {
   "codemirror_mode": {
    "name": "ipython",
    "version": 3
   },
   "file_extension": ".py",
   "mimetype": "text/x-python",
   "name": "python",
   "nbconvert_exporter": "python",
   "pygments_lexer": "ipython3",
   "version": "3.9.13"
  },
  "orig_nbformat": 4,
  "vscode": {
   "interpreter": {
    "hash": "2739103a24152653e1f8b2fff28c65788dabdc9ba71ec9cb9a43d6c5fc424aab"
   }
  }
 },
 "nbformat": 4,
 "nbformat_minor": 2
}
