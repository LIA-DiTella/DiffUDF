{
 "cells": [
  {
   "cell_type": "code",
   "execution_count": null,
   "metadata": {},
   "outputs": [],
   "source": [
    "import json\n",
    "import meshplot as mp\n",
    "import numpy as np\n",
    "import matplotlib.cm as cm\n",
    "from submesh.submesh import createJson\n",
    "import open3d as o3d"
   ]
  },
  {
   "cell_type": "code",
   "execution_count": null,
   "metadata": {},
   "outputs": [],
   "source": [
    "path = createJson( \n",
    "        'prueba.json',\n",
    "        '../data/humans/mesh/faust_54098.off', \n",
    "        '../results/faust_54098/faust_54098.txt',\n",
    "        '../results/faust_54098/faust_54098_corr.txt', alpha=2, beta=5 )\n",
    "print(path)"
   ]
  },
  {
   "cell_type": "code",
   "execution_count": null,
   "metadata": {},
   "outputs": [],
   "source": [
    "with open(path, 'r') as jsonFile:\n",
    "    skel = json.load( jsonFile )\n",
    "\n",
    "    meshes = []\n",
    "    for joint in skel['joints']:\n",
    "        mesh = o3d.geometry.TriangleMesh( \n",
    "            o3d.utility.Vector3dVector(np.asarray(joint['vertices'])), \n",
    "            o3d.utility.Vector3iVector(np.asarray(joint['triangles'])) )\n",
    "\n",
    "        mesh.transform( np.asarray(joint['transformation']) )\n",
    "        meshes.append(mesh)"
   ]
  },
  {
   "cell_type": "code",
   "execution_count": null,
   "metadata": {},
   "outputs": [],
   "source": [
    "cmap = cm.get_cmap('flag')\n",
    "p3 = None\n",
    "for i, mesh in enumerate(meshes):\n",
    "    if p3 is None:\n",
    "        p3 = mp.plot( np.asarray(mesh.vertices), np.asarray(mesh.triangles), return_plot = True, c=np.array(cmap((i)/len(meshes)))[0:3] )\n",
    "    else:\n",
    "        p3.add_mesh( np.asarray(mesh.vertices), np.asarray(mesh.triangles), c=np.array(cmap((i)/len(meshes)))[0:3] )"
   ]
  },
  {
   "attachments": {},
   "cell_type": "markdown",
   "metadata": {},
   "source": [
    "# Test joint distance"
   ]
  },
  {
   "cell_type": "code",
   "execution_count": null,
   "metadata": {},
   "outputs": [],
   "source": [
    "from submesh.submesh import SkeletonMesh\n",
    "import numpy as np\n",
    "\n",
    "skel = SkeletonMesh( \n",
    "        '../data/humans/mesh/faust_6890.off', \n",
    "        '../data/humans/centerline/faust_6890.txt',\n",
    "        '../data/humans/centerline/faust_6890.polylines.txt' )\n",
    "\n",
    "skel.submesh(pointsPerUnit=5)\n",
    "#skel.postprocess()"
   ]
  },
  {
   "cell_type": "code",
   "execution_count": null,
   "metadata": {},
   "outputs": [],
   "source": [
    "skel.branches[0].amountOfJoints()"
   ]
  },
  {
   "cell_type": "code",
   "execution_count": null,
   "metadata": {},
   "outputs": [],
   "source": [
    "for i in range( skel.branches[0].amountOfJoints() ):\n",
    "    print(skel.branches[0].jointDistance(i) )"
   ]
  },
  {
   "attachments": {},
   "cell_type": "markdown",
   "metadata": {},
   "source": [
    "# Test submesh_v2"
   ]
  },
  {
   "attachments": {},
   "cell_type": "markdown",
   "metadata": {},
   "source": [
    "Poner return submeshes en createJson para esto"
   ]
  },
  {
   "cell_type": "code",
   "execution_count": 5,
   "metadata": {},
   "outputs": [],
   "source": [
    "from submesh.submesh import preprocessMesh\n",
    "import numpy as np\n",
    "import meshplot as mp\n",
    "import matplotlib.cm as cm\n",
    "import open3d as o3d\n",
    "\n",
    "smeshes = preprocessMesh( \n",
    "        'prueba.json',\n",
    "        '../data/stanford/armadillo.off', \n",
    "        '../results/armadillo/armadillo.txt',\n",
    "        '../results/armadillo/armadillo_corr.txt', alpha=2, beta=3 )"
   ]
  },
  {
   "cell_type": "code",
   "execution_count": 6,
   "metadata": {},
   "outputs": [
    {
     "data": {
      "application/vnd.jupyter.widget-view+json": {
       "model_id": "9bbcb1352cf844f6ba3b3127e87798d7",
       "version_major": 2,
       "version_minor": 0
      },
      "text/plain": [
       "Renderer(camera=PerspectiveCamera(children=(DirectionalLight(color='white', intensity=0.6, position=(-0.717516…"
      ]
     },
     "metadata": {},
     "output_type": "display_data"
    }
   ],
   "source": [
    "cmap = cm.get_cmap('flag')\n",
    "p3 = None\n",
    "for i, (mesh, curv) in enumerate(smeshes.values()):\n",
    "    v  = np.asarray(mesh.vertices)\n",
    "    if p3 is None:\n",
    "        p3 = mp.plot( v, np.asarray(mesh.triangles), return_plot = True, c=np.array(cmap((i)/len(smeshes)))[0:3] )\n",
    "    else:\n",
    "        p3.add_mesh( v, np.asarray(mesh.triangles), c=np.array(cmap((i)/len(smeshes)))[0:3] )"
   ]
  },
  {
   "cell_type": "code",
   "execution_count": null,
   "metadata": {},
   "outputs": [],
   "source": [
    "p3.add_lines( np.array([[0,0,0], [0,0,0], [0,0,0] ]), np.array([[1,0,0], [0,1,0], [0,0,1] ]))"
   ]
  },
  {
   "attachments": {},
   "cell_type": "markdown",
   "metadata": {},
   "source": [
    "# Test bases"
   ]
  },
  {
   "attachments": {},
   "cell_type": "markdown",
   "metadata": {},
   "source": [
    "Poner return graphOfJoints, bases en createJson"
   ]
  },
  {
   "cell_type": "code",
   "execution_count": null,
   "metadata": {},
   "outputs": [],
   "source": [
    "from submesh.submesh import preprocessMesh\n",
    "import numpy as np\n",
    "import meshplot as mp\n",
    "import networkx as nx\n",
    "\n",
    "graph = preprocessMesh( \n",
    "        'prueba.json',\n",
    "        '../data/humans/mesh/faust_54098.off', \n",
    "        '../results/faust_54098/faust_54098.txt',\n",
    "        '../results/faust_54098/faust_54098_corr.txt', alpha=7.5, beta=15 )"
   ]
  },
  {
   "cell_type": "code",
   "execution_count": null,
   "metadata": {},
   "outputs": [],
   "source": [
    "p = mp.plot( np.array([graph.nodes[joint]['position'] for joint in graph.nodes]), return_plot=True, shading={'point_size':0.1} )"
   ]
  },
  {
   "cell_type": "code",
   "execution_count": null,
   "metadata": {},
   "outputs": [],
   "source": [
    "for node in graph.nodes:\n",
    "    pos = graph.nodes[node]['position']\n",
    "    base = graph.nodes[node]['base'].T\n",
    "\n",
    "    p.add_lines( np.array([pos]), np.array([pos]) + base[0] * (0.1), shading={'line_color':'green'} )\n",
    "    p.add_lines( np.array([pos]), np.array([pos]) + base[1] * (0.1), shading={'line_color':'blue'} )\n",
    "    p.add_lines( np.array([pos]), np.array([pos]) + base[2] * (0.1), shading={'line_color':'red'} )\n",
    "\n",
    "    "
   ]
  },
  {
   "cell_type": "code",
   "execution_count": null,
   "metadata": {},
   "outputs": [],
   "source": [
    "for u,v in graph.edges:\n",
    "    p.add_lines( np.array(u), np.array(v))"
   ]
  },
  {
   "attachments": {},
   "cell_type": "markdown",
   "metadata": {},
   "source": [
    "json"
   ]
  },
  {
   "cell_type": "code",
   "execution_count": null,
   "metadata": {},
   "outputs": [],
   "source": [
    "from submesh.submesh import createJson\n",
    "import numpy as np\n",
    "import meshplot as mp\n",
    "import networkx as nx\n",
    " \n",
    "createJson( \n",
    "        'prueba.json',\n",
    "        '../data/humans/mesh/faust_6890.off', \n",
    "        '../data/humans/centerline/faust_6890.txt',\n",
    "        '../data/humans/centerline/faust_6890.polylines.txt', alpha=7.5, beta=15 )"
   ]
  },
  {
   "attachments": {},
   "cell_type": "markdown",
   "metadata": {},
   "source": [
    "test means"
   ]
  },
  {
   "cell_type": "code",
   "execution_count": null,
   "metadata": {},
   "outputs": [],
   "source": [
    "from submesh.submesh_v2 import createJson\n",
    "import numpy as np\n",
    "import meshplot as mp\n",
    "import networkx as nx\n",
    " \n",
    "graph,root = createJson( \n",
    "        'prueba.json',\n",
    "        '../data/humans/mesh/faust_6890.off', \n",
    "        '../data/humans/centerline/faust_6890.txt',\n",
    "        '../data/humans/centerline/faust_6890.polylines.txt', alpha=7.5, beta=15 )"
   ]
  },
  {
   "cell_type": "code",
   "execution_count": null,
   "metadata": {},
   "outputs": [],
   "source": [
    "for node in nx.bfs_tree(graph, root):\n",
    "    print( graph.out_degree(node), graph.nodes[node]['mean'], graph.nodes[node]['cov'] )"
   ]
  },
  {
   "cell_type": "code",
   "execution_count": null,
   "metadata": {},
   "outputs": [],
   "source": [
    "means = np.array( [ graph.nodes[node]['mean'] for node in graph.nodes ])\n",
    "print(means)\n",
    "print(np.max( means, axis = 0))"
   ]
  }
 ],
 "metadata": {
  "kernelspec": {
   "display_name": "graficos3.9",
   "language": "python",
   "name": "python3"
  },
  "language_info": {
   "codemirror_mode": {
    "name": "ipython",
    "version": 3
   },
   "file_extension": ".py",
   "mimetype": "text/x-python",
   "name": "python",
   "nbconvert_exporter": "python",
   "pygments_lexer": "ipython3",
   "version": "3.9.13"
  },
  "orig_nbformat": 4,
  "vscode": {
   "interpreter": {
    "hash": "2739103a24152653e1f8b2fff28c65788dabdc9ba71ec9cb9a43d6c5fc424aab"
   }
  }
 },
 "nbformat": 4,
 "nbformat_minor": 2
}
