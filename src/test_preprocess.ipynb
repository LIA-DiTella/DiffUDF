{
 "cells": [
  {
   "cell_type": "code",
   "execution_count": null,
   "metadata": {},
   "outputs": [],
   "source": [
    "import json\n",
    "import meshplot as mp\n",
    "import numpy as np\n",
    "import matplotlib.cm as cm\n",
    "from submesh.submesh import createJson\n",
    "import open3d as o3d"
   ]
  },
  {
   "cell_type": "code",
   "execution_count": null,
   "metadata": {},
   "outputs": [],
   "source": [
    "path = createJson( \n",
    "        'prueba.json',\n",
    "        '../data/humans/mesh/faust_54098.off', \n",
    "        '../results/faust_54098/faust_54098.txt',\n",
    "        '../results/faust_54098/faust_54098_corr.txt', alpha=2, beta=5 )\n",
    "print(path)"
   ]
  },
  {
   "cell_type": "code",
   "execution_count": null,
   "metadata": {},
   "outputs": [],
   "source": [
    "with open(path, 'r') as jsonFile:\n",
    "    skel = json.load( jsonFile )\n",
    "\n",
    "    meshes = []\n",
    "    for joint in skel['joints']:\n",
    "        mesh = o3d.geometry.TriangleMesh( \n",
    "            o3d.utility.Vector3dVector(np.asarray(joint['vertices'])), \n",
    "            o3d.utility.Vector3iVector(np.asarray(joint['triangles'])) )\n",
    "\n",
    "        mesh.transform( np.asarray(joint['transformation']) )\n",
    "        meshes.append(mesh)"
   ]
  },
  {
   "cell_type": "code",
   "execution_count": null,
   "metadata": {},
   "outputs": [],
   "source": [
    "cmap = cm.get_cmap('flag')\n",
    "p3 = None\n",
    "for i, mesh in enumerate(meshes):\n",
    "    if p3 is None:\n",
    "        p3 = mp.plot( np.asarray(mesh.vertices), np.asarray(mesh.triangles), return_plot = True, c=np.array(cmap((i)/len(meshes)))[0:3] )\n",
    "    else:\n",
    "        p3.add_mesh( np.asarray(mesh.vertices), np.asarray(mesh.triangles), c=np.array(cmap((i)/len(meshes)))[0:3] )"
   ]
  },
  {
   "attachments": {},
   "cell_type": "markdown",
   "metadata": {},
   "source": [
    "# Test joint distance"
   ]
  },
  {
   "cell_type": "code",
   "execution_count": null,
   "metadata": {},
   "outputs": [],
   "source": [
    "from submesh.submesh import SkeletonMesh\n",
    "import numpy as np\n",
    "\n",
    "skel = SkeletonMesh( \n",
    "        '../data/humans/mesh/faust_6890.off', \n",
    "        '../data/humans/centerline/faust_6890.txt',\n",
    "        '../data/humans/centerline/faust_6890.polylines.txt' )\n",
    "\n",
    "skel.submesh(pointsPerUnit=5)\n",
    "#skel.postprocess()"
   ]
  },
  {
   "cell_type": "code",
   "execution_count": null,
   "metadata": {},
   "outputs": [],
   "source": [
    "skel.branches[0].amountOfJoints()"
   ]
  },
  {
   "cell_type": "code",
   "execution_count": null,
   "metadata": {},
   "outputs": [],
   "source": [
    "for i in range( skel.branches[0].amountOfJoints() ):\n",
    "    print(skel.branches[0].jointDistance(i) )"
   ]
  },
  {
   "attachments": {},
   "cell_type": "markdown",
   "metadata": {},
   "source": [
    "# Test submesh_v2"
   ]
  },
  {
   "attachments": {},
   "cell_type": "markdown",
   "metadata": {},
   "source": [
    "Poner return submeshes en preprocessMesh para esto"
   ]
  },
  {
   "cell_type": "code",
   "execution_count": 1,
   "metadata": {},
   "outputs": [
    {
     "name": "stdout",
     "output_type": "stream",
     "text": [
      "Jupyter environment detected. Enabling Open3D WebVisualizer.\n",
      "[Open3D INFO] WebRTC GUI backend enabled.\n",
      "[Open3D INFO] WebRTCWindowSystem: HTTP handshake server disabled.\n"
     ]
    }
   ],
   "source": [
    "from submesh.submesh import preprocessMesh\n",
    "import numpy as np\n",
    "import meshplot as mp\n",
    "import matplotlib.cm as cm\n",
    "import open3d as o3d\n",
    "\n",
    "smeshes = preprocessMesh( \n",
    "        'prueba.json',\n",
    "        '../data/humans/faust_54098.off', \n",
    "        '../data/segmented/faust_54098.txt',\n",
    "        '../data/segmented/faust_54098_corr.txt', alpha=6, beta=8 )"
   ]
  },
  {
   "cell_type": "code",
   "execution_count": null,
   "metadata": {},
   "outputs": [],
   "source": [
    "cmap = cm.get_cmap('flag')\n",
    "p3 = None\n",
    "for i, (mesh, curv) in enumerate(smeshes.values()):\n",
    "    v  = np.asarray(mesh.vertices)\n",
    "    if p3 is None:\n",
    "        p3 = mp.plot( v, np.asarray(mesh.triangles), return_plot = True, c=np.array(cmap((i)/len(smeshes)))[0:3] )\n",
    "    else:\n",
    "        p3.add_mesh( v, np.asarray(mesh.triangles), c=np.array(cmap((i)/len(smeshes)))[0:3] )"
   ]
  },
  {
   "cell_type": "code",
   "execution_count": 2,
   "metadata": {},
   "outputs": [
    {
     "name": "stdout",
     "output_type": "stream",
     "text": [
      "(100,) (100, 3)\n"
     ]
    },
    {
     "data": {
      "application/vnd.jupyter.widget-view+json": {
       "model_id": "61c062da95324ea99f054068c201ef88",
       "version_major": 2,
       "version_minor": 0
      },
      "text/plain": [
       "Renderer(camera=PerspectiveCamera(children=(DirectionalLight(color='white', intensity=0.6, position=(0.4137208…"
      ]
     },
     "metadata": {},
     "output_type": "display_data"
    },
    {
     "name": "stdout",
     "output_type": "stream",
     "text": [
      "(151,) (151, 3)\n",
      "(150,) (150, 3)\n",
      "(218,) (218, 3)\n",
      "(494,) (494, 3)\n",
      "(125,) (125, 3)\n",
      "(392,) (392, 3)\n",
      "(438,) (438, 3)\n",
      "(496,) (496, 3)\n",
      "(691,) (691, 3)\n",
      "(495,) (495, 3)\n",
      "(508,) (508, 3)\n",
      "(505,) (505, 3)\n",
      "(628,) (628, 3)\n",
      "(770,) (770, 3)\n",
      "(1879,) (1879, 3)\n",
      "(2091,) (2091, 3)\n",
      "(1867,) (1867, 3)\n",
      "(1894,) (1894, 3)\n",
      "(744,) (744, 3)\n",
      "(719,) (719, 3)\n",
      "(548,) (548, 3)\n",
      "(442,) (442, 3)\n",
      "(517,) (517, 3)\n",
      "(638,) (638, 3)\n",
      "(546,) (546, 3)\n",
      "(573,) (573, 3)\n",
      "(464,) (464, 3)\n",
      "(329,) (329, 3)\n",
      "(137,) (137, 3)\n",
      "(408,) (408, 3)\n",
      "(156,) (156, 3)\n",
      "(123,) (123, 3)\n",
      "(127,) (127, 3)\n",
      "(124,) (124, 3)\n",
      "(1881,) (1881, 3)\n",
      "(1283,) (1283, 3)\n",
      "(1494,) (1494, 3)\n",
      "(1391,) (1391, 3)\n",
      "(2000,) (2000, 3)\n",
      "(1918,) (1918, 3)\n",
      "(1276,) (1276, 3)\n",
      "(1002,) (1002, 3)\n",
      "(887,) (887, 3)\n",
      "(928,) (928, 3)\n",
      "(953,) (953, 3)\n",
      "(605,) (605, 3)\n",
      "(628,) (628, 3)\n",
      "(602,) (602, 3)\n",
      "(1115,) (1115, 3)\n",
      "(1021,) (1021, 3)\n",
      "(695,) (695, 3)\n",
      "(522,) (522, 3)\n",
      "(456,) (456, 3)\n",
      "(873,) (873, 3)\n",
      "(399,) (399, 3)\n",
      "(651,) (651, 3)\n",
      "(1855,) (1855, 3)\n",
      "(933,) (933, 3)\n",
      "(973,) (973, 3)\n",
      "(1135,) (1135, 3)\n",
      "(669,) (669, 3)\n",
      "(558,) (558, 3)\n",
      "(600,) (600, 3)\n",
      "(573,) (573, 3)\n",
      "(840,) (840, 3)\n",
      "(907,) (907, 3)\n",
      "(666,) (666, 3)\n",
      "(558,) (558, 3)\n",
      "(302,) (302, 3)\n",
      "(417,) (417, 3)\n",
      "(893,) (893, 3)\n",
      "(566,) (566, 3)\n",
      "(375,) (375, 3)\n",
      "(949,) (949, 3)\n",
      "(493,) (493, 3)\n",
      "(559,) (559, 3)\n",
      "(3924,) (3924, 3)\n",
      "(525,) (525, 3)\n",
      "(182,) (182, 3)\n"
     ]
    }
   ],
   "source": [
    "cmap = cm.get_cmap('flag')\n",
    "p3 = None\n",
    "for i, (mesh, curv) in enumerate(smeshes.values()):\n",
    "    v  = np.asarray(mesh.vertices)\n",
    "    if p3 is None:\n",
    "        p3 = mp.plot( v, np.asarray(mesh.triangles), return_plot = True, c=curv)\n",
    "    else:\n",
    "        p3.add_mesh( v, np.asarray(mesh.triangles), c=curv )"
   ]
  },
  {
   "cell_type": "code",
   "execution_count": null,
   "metadata": {},
   "outputs": [],
   "source": [
    "p3.add_lines( np.array([[0,0,0], [0,0,0], [0,0,0] ]), np.array([[1,0,0], [0,1,0], [0,0,1] ]))"
   ]
  },
  {
   "attachments": {},
   "cell_type": "markdown",
   "metadata": {},
   "source": [
    "# Test bases"
   ]
  },
  {
   "attachments": {},
   "cell_type": "markdown",
   "metadata": {},
   "source": [
    "Poner return graphOfJoints, bases en createJson"
   ]
  },
  {
   "cell_type": "code",
   "execution_count": null,
   "metadata": {},
   "outputs": [],
   "source": [
    "from submesh.submesh import preprocessMesh\n",
    "import numpy as np\n",
    "import meshplot as mp\n",
    "import networkx as nx\n",
    "\n",
    "graph = preprocessMesh( \n",
    "        'prueba.json',\n",
    "        '../data/humans/mesh/faust_54098.off', \n",
    "        '../results/faust_54098/faust_54098.txt',\n",
    "        '../results/faust_54098/faust_54098_corr.txt', alpha=7.5, beta=15 )"
   ]
  },
  {
   "cell_type": "code",
   "execution_count": null,
   "metadata": {},
   "outputs": [],
   "source": [
    "p = mp.plot( np.array([graph.nodes[joint]['position'] for joint in graph.nodes]), return_plot=True, shading={'point_size':0.1} )"
   ]
  },
  {
   "cell_type": "code",
   "execution_count": null,
   "metadata": {},
   "outputs": [],
   "source": [
    "for node in graph.nodes:\n",
    "    pos = graph.nodes[node]['position']\n",
    "    base = graph.nodes[node]['base'].T\n",
    "\n",
    "    p.add_lines( np.array([pos]), np.array([pos]) + base[0] * (0.1), shading={'line_color':'green'} )\n",
    "    p.add_lines( np.array([pos]), np.array([pos]) + base[1] * (0.1), shading={'line_color':'blue'} )\n",
    "    p.add_lines( np.array([pos]), np.array([pos]) + base[2] * (0.1), shading={'line_color':'red'} )\n",
    "\n",
    "    "
   ]
  },
  {
   "cell_type": "code",
   "execution_count": null,
   "metadata": {},
   "outputs": [],
   "source": [
    "for u,v in graph.edges:\n",
    "    p.add_lines( np.array(u), np.array(v))"
   ]
  },
  {
   "attachments": {},
   "cell_type": "markdown",
   "metadata": {},
   "source": [
    "json"
   ]
  },
  {
   "cell_type": "code",
   "execution_count": null,
   "metadata": {},
   "outputs": [],
   "source": [
    "from submesh.submesh import createJson\n",
    "import numpy as np\n",
    "import meshplot as mp\n",
    "import networkx as nx\n",
    " \n",
    "createJson( \n",
    "        'prueba.json',\n",
    "        '../data/humans/mesh/faust_6890.off', \n",
    "        '../data/humans/centerline/faust_6890.txt',\n",
    "        '../data/humans/centerline/faust_6890.polylines.txt', alpha=7.5, beta=15 )"
   ]
  },
  {
   "attachments": {},
   "cell_type": "markdown",
   "metadata": {},
   "source": [
    "test means"
   ]
  },
  {
   "cell_type": "code",
   "execution_count": null,
   "metadata": {},
   "outputs": [],
   "source": [
    "from submesh.submesh_v2 import createJson\n",
    "import numpy as np\n",
    "import meshplot as mp\n",
    "import networkx as nx\n",
    " \n",
    "graph,root = createJson( \n",
    "        'prueba.json',\n",
    "        '../data/humans/mesh/faust_6890.off', \n",
    "        '../data/humans/centerline/faust_6890.txt',\n",
    "        '../data/humans/centerline/faust_6890.polylines.txt', alpha=7.5, beta=15 )"
   ]
  },
  {
   "cell_type": "code",
   "execution_count": null,
   "metadata": {},
   "outputs": [],
   "source": [
    "for node in nx.bfs_tree(graph, root):\n",
    "    print( graph.out_degree(node), graph.nodes[node]['mean'], graph.nodes[node]['cov'] )"
   ]
  },
  {
   "cell_type": "code",
   "execution_count": null,
   "metadata": {},
   "outputs": [],
   "source": [
    "means = np.array( [ graph.nodes[node]['mean'] for node in graph.nodes ])\n",
    "print(means)\n",
    "print(np.max( means, axis = 0))"
   ]
  }
 ],
 "metadata": {
  "kernelspec": {
   "display_name": "graficos3.9",
   "language": "python",
   "name": "python3"
  },
  "language_info": {
   "codemirror_mode": {
    "name": "ipython",
    "version": 3
   },
   "file_extension": ".py",
   "mimetype": "text/x-python",
   "name": "python",
   "nbconvert_exporter": "python",
   "pygments_lexer": "ipython3",
   "version": "3.9.13"
  },
  "orig_nbformat": 4,
  "vscode": {
   "interpreter": {
    "hash": "2739103a24152653e1f8b2fff28c65788dabdc9ba71ec9cb9a43d6c5fc424aab"
   }
  }
 },
 "nbformat": 4,
 "nbformat_minor": 2
}
