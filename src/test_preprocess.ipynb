{
 "cells": [
  {
   "attachments": {},
   "cell_type": "markdown",
   "metadata": {},
   "source": [
    "# Tests Interpolation"
   ]
  },
  {
   "cell_type": "code",
   "execution_count": null,
   "metadata": {},
   "outputs": [],
   "source": [
    "from util.util import Interpolation\n",
    "import numpy as np\n",
    "import meshplot as mp"
   ]
  },
  {
   "attachments": {},
   "cell_type": "markdown",
   "metadata": {},
   "source": [
    "Curva 2 puntos"
   ]
  },
  {
   "cell_type": "code",
   "execution_count": null,
   "metadata": {},
   "outputs": [],
   "source": [
    "two = Interpolation( [[0,0,0], [1,1,1] ] )\n",
    "\n",
    "p = mp.plot(np.array(list(two.evaluateFrom( i for i in np.linspace(0,1,100)) )), shading={'point_size':0.1}, return_plot=True)\n",
    "p.add_points( np.array([[0,0,0], [1,1,1]]), shading={'point_size':0.4, 'point_color': 'blue'})"
   ]
  },
  {
   "attachments": {},
   "cell_type": "markdown",
   "metadata": {},
   "source": [
    "Curva 3 puntos"
   ]
  },
  {
   "cell_type": "code",
   "execution_count": null,
   "metadata": {},
   "outputs": [],
   "source": [
    "three = Interpolation( [[0,0,0], [1,1,1], [0,0,2] ] )\n",
    "\n",
    "p = mp.plot(np.array(list(three.evaluateFrom( i for i in np.linspace(0,1,100)) )), shading={'point_size':0.1}, return_plot=True)\n",
    "p.add_points( np.array([[0,0,0], [1,1,1], [0,0,2]]), shading={'point_size':0.4, 'point_color': 'blue'})"
   ]
  },
  {
   "attachments": {},
   "cell_type": "markdown",
   "metadata": {},
   "source": [
    "# Test branches"
   ]
  },
  {
   "cell_type": "code",
   "execution_count": null,
   "metadata": {},
   "outputs": [],
   "source": [
    "from submesh.submesh import SkeletonMesh\n",
    "import meshplot as mp\n",
    "import matplotlib.cm as cm\n",
    "import numpy as np"
   ]
  },
  {
   "cell_type": "code",
   "execution_count": null,
   "metadata": {},
   "outputs": [],
   "source": [
    "skel = SkeletonMesh( \n",
    "        '../data/humans/mesh/faust_6890.off', \n",
    "        '../data/humans/centerline/faust_6890.txt',\n",
    "        '../data/humans/centerline/faust_6890.polylines.txt' )\n",
    "\n",
    "print( skel.amountOfBranches )\n",
    "skel.submesh()\n",
    "skel.postprocess()"
   ]
  },
  {
   "cell_type": "code",
   "execution_count": null,
   "metadata": {},
   "outputs": [],
   "source": [
    "cmap1 = cm.get_cmap('tab20')\n",
    "cmap2 = cm.get_cmap('tab20b')\n",
    "p = None\n",
    "for i, branchIdx in enumerate(skel.skeletonTree.nodes):\n",
    "    c = '#'\n",
    "    cmap = cmap1 if i < 20 else cmap2\n",
    "    for x in (np.array(cmap( (i)/20) )[0:3] * 255).astype(np.uint32):\n",
    "        h = hex(x)[2:]\n",
    "        c += h if len(h) == 2 else '0' + h\n",
    "\n",
    "    joints = np.array(list(skel.branches[branchIdx].getJoints()))\n",
    "    noise = np.random.normal(0, 0.005, size=joints.shape)\n",
    "    if p is None:\n",
    "        p = mp.plot( joints + noise , return_plot = True, shading={'point_size': 0.1, 'point_color':c } )\n",
    "    else:\n",
    "        p.add_points( joints + noise, shading={'point_size': 0.1, 'point_color':c } )"
   ]
  },
  {
   "cell_type": "code",
   "execution_count": null,
   "metadata": {},
   "outputs": [],
   "source": [
    "cmap1 = cm.get_cmap('tab20')\n",
    "cmap2 = cm.get_cmap('tab20b')\n",
    "p = None\n",
    "for i, branchIdx in enumerate(skel.skeletonTree.nodes):\n",
    "    cmap = cmap1 if i < 20 else cmap2\n",
    "    for jointIdx, mesh in skel.branches[branchIdx].getSubmeshes():\n",
    "        if True:#branchIdx in skel.skipableJoints and skel.skipableJoints[branchIdx] != jointIdx:\n",
    "            noise = np.random.normal( 0, 0.001, size=np.asarray(mesh.vertices).shape )\n",
    "            if p is None:\n",
    "                p = mp.plot( np.asarray(mesh.vertices) + noise, np.asarray(mesh.triangles), return_plot = True, c=np.array(cmap((i)/20))[0:3] )\n",
    "            else:\n",
    "                p.add_mesh( np.asarray(mesh.vertices) + noise, np.asarray(mesh.triangles), c=np.array(cmap((i)/20))[0:3] )\n"
   ]
  },
  {
   "attachments": {},
   "cell_type": "markdown",
   "metadata": {},
   "source": [
    "# Tests submeshing"
   ]
  },
  {
   "cell_type": "code",
   "execution_count": null,
   "metadata": {},
   "outputs": [],
   "source": [
    "from submesh.submesh import SkeletonMesh\n",
    "import meshplot as mp\n",
    "import matplotlib.cm as cm\n",
    "import numpy as np"
   ]
  },
  {
   "cell_type": "code",
   "execution_count": null,
   "metadata": {},
   "outputs": [],
   "source": [
    "skel = SkeletonMesh( \n",
    "        '../data/humans/mesh/faust_6890.off', \n",
    "        '../data/humans/centerline/faust_6890.txt',\n",
    "        '../data/humans/centerline/faust_6890.polylines.txt' )\n",
    "\n",
    "skel.submesh(pointsPerUnit=5)\n",
    "skel.postprocess()\n",
    "\n",
    "cmap = cm.get_cmap('flag')\n",
    "p = None\n",
    "for i, (joint, mesh, _) in enumerate(skel.getSubmeshes()):\n",
    "    \n",
    "    if p is None:\n",
    "        p = mp.plot( np.asarray(mesh.vertices), np.asarray(mesh.triangles), return_plot = True, c=np.array(cmap((i)/skel.amountOfJoints))[0:3] )\n",
    "    else:\n",
    "        p.add_mesh( np.asarray(mesh.vertices), np.asarray(mesh.triangles), c=np.array(cmap((i)/skel.amountOfJoints))[0:3] )"
   ]
  },
  {
   "cell_type": "code",
   "execution_count": null,
   "metadata": {},
   "outputs": [],
   "source": [
    "mp.plot( np.unique( np.array(list(skel.getJoints())) , axis=0), shading={'point_size':0.1} )"
   ]
  },
  {
   "cell_type": "code",
   "execution_count": null,
   "metadata": {},
   "outputs": [],
   "source": [
    "skel.centerAndNormalize()\n",
    "\n",
    "cmap = cm.get_cmap('flag')\n",
    "p2 = None\n",
    "for i, (joint, mesh, _) in enumerate(skel.getSubmeshes()):\n",
    "    \n",
    "    if p2 is None:\n",
    "        p2 = mp.plot( np.asarray(mesh.vertices), np.asarray(mesh.triangles), return_plot = True, c=np.array(cmap((i)/skel.amountOfJoints))[0:3] )\n",
    "    else:\n",
    "        p2.add_mesh( np.asarray(mesh.vertices), np.asarray(mesh.triangles), c=np.array(cmap((i)/skel.amountOfJoints))[0:3] )"
   ]
  },
  {
   "cell_type": "code",
   "execution_count": null,
   "metadata": {},
   "outputs": [],
   "source": [
    "p2.add_lines( np.array([[0,0,0], [0,0,0], [0,0,0] ]), np.array([[1,0,0], [0,1,0], [0,0,1] ]))"
   ]
  },
  {
   "cell_type": "code",
   "execution_count": null,
   "metadata": {},
   "outputs": [],
   "source": [
    "skel.saveToJson( 'prueba.json')"
   ]
  },
  {
   "attachments": {},
   "cell_type": "markdown",
   "metadata": {},
   "source": [
    "# Test curvatura"
   ]
  },
  {
   "attachments": {},
   "cell_type": "markdown",
   "metadata": {},
   "source": [
    "### computar desde 0:"
   ]
  },
  {
   "cell_type": "code",
   "execution_count": null,
   "metadata": {},
   "outputs": [],
   "source": [
    "import pymeshlab as pm\n",
    "import meshplot as mp\n",
    "import numpy as np\n",
    "import open3d as o3d\n",
    "\n",
    "ms = pm.MeshSet()\n",
    "ms.load_new_mesh('../../data/humans/mesh/test_15070.off')\n",
    "\n",
    "m = ms.current_mesh()\n",
    "\n",
    "d = ms.apply_filter(\"compute_scalar_by_discrete_curvature_per_vertex\", curvaturetype='Mean Curvature')\n",
    "ms.compute_new_custom_scalar_attribute_per_vertex(name=\"v_curv\", expr=\"q\")\n",
    "\n",
    "v_curv = m.vertex_custom_scalar_attribute_array('v_curv')\n",
    "\n",
    "v_curv = np.clip( v_curv, a_min = -1 * float(d['90_percentile']), a_max = float(d['90_percentile']))\n"
   ]
  },
  {
   "cell_type": "code",
   "execution_count": null,
   "metadata": {},
   "outputs": [],
   "source": [
    "mesh = o3d.io.read_triangle_mesh('../../data/humans/mesh/test_15070.off')\n",
    "mp.plot( np.asarray(mesh.vertices), np.asarray(mesh.triangles), c=v_curv)"
   ]
  },
  {
   "attachments": {},
   "cell_type": "markdown",
   "metadata": {},
   "source": [
    "### En skeleton mesh:"
   ]
  },
  {
   "cell_type": "code",
   "execution_count": null,
   "metadata": {},
   "outputs": [],
   "source": [
    "from submesh import SkeletonMesh\n",
    "import meshplot as mp\n",
    "import numpy as np\n",
    "\n",
    "skel = SkeletonMesh( \n",
    "        '../../data/humans/mesh/test_6890.off', \n",
    "        '../../data/humans/centerline/faust_6890.txt',\n",
    "        '../../data/humans/centerline/faust_6890.polylines.txt' )\n",
    "\n",
    "skel.submesh(pointsPerUnit=5)\n",
    "skel.postprocess()\n"
   ]
  },
  {
   "cell_type": "code",
   "execution_count": null,
   "metadata": {},
   "outputs": [],
   "source": [
    "\n",
    "p = None\n",
    "s = 0\n",
    "for i, (joint, mesh, curv) in enumerate(list(skel.getSubmeshes())):\n",
    "    if p is None:\n",
    "        p = mp.plot( np.asarray(mesh.vertices), np.asarray(mesh.triangles), return_plot = True, c=curv )\n",
    "    else:\n",
    "        p.add_mesh( np.asarray(mesh.vertices), np.asarray(mesh.triangles), c=curv )"
   ]
  },
  {
   "attachments": {},
   "cell_type": "markdown",
   "metadata": {},
   "source": [
    "# Test leer JSON"
   ]
  },
  {
   "cell_type": "code",
   "execution_count": 1,
   "metadata": {},
   "outputs": [
    {
     "name": "stdout",
     "output_type": "stream",
     "text": [
      "Jupyter environment detected. Enabling Open3D WebVisualizer.\n",
      "[Open3D INFO] WebRTC GUI backend enabled.\n",
      "[Open3D INFO] WebRTCWindowSystem: HTTP handshake server disabled.\n"
     ]
    }
   ],
   "source": [
    "import json\n",
    "import meshplot as mp\n",
    "import numpy as np\n",
    "import matplotlib.cm as cm\n",
    "import open3d as o3d"
   ]
  },
  {
   "cell_type": "code",
   "execution_count": 2,
   "metadata": {},
   "outputs": [],
   "source": [
    "with open('../results/faust_6890/faust_6890.json', 'r') as jsonFile:\n",
    "    skel = json.load( jsonFile )\n",
    "\n",
    "    meshes = []\n",
    "    for joint in skel['joints']:\n",
    "        mesh = o3d.geometry.TriangleMesh( \n",
    "            o3d.utility.Vector3dVector(np.asarray(joint['vertices'])), \n",
    "            o3d.utility.Vector3iVector(np.asarray(joint['triangles'])) )\n",
    "\n",
    "        mesh.transform( np.asarray(joint['transformation']) )\n",
    "        meshes.append(mesh)"
   ]
  },
  {
   "cell_type": "code",
   "execution_count": 3,
   "metadata": {},
   "outputs": [
    {
     "data": {
      "application/vnd.jupyter.widget-view+json": {
       "model_id": "32281f8a606a4c938d6670a51e3b286c",
       "version_major": 2,
       "version_minor": 0
      },
      "text/plain": [
       "Renderer(camera=PerspectiveCamera(children=(DirectionalLight(color='white', intensity=0.6, position=(0.0797183…"
      ]
     },
     "metadata": {},
     "output_type": "display_data"
    }
   ],
   "source": [
    "cmap = cm.get_cmap('flag')\n",
    "p3 = None\n",
    "for i, mesh in enumerate(meshes):\n",
    "    if p3 is None:\n",
    "        p3 = mp.plot( np.asarray(mesh.vertices), np.asarray(mesh.triangles), return_plot = True, c=np.array(cmap((i)/len(meshes)))[0:3] )\n",
    "    else:\n",
    "        p3.add_mesh( np.asarray(mesh.vertices), np.asarray(mesh.triangles), c=np.array(cmap((i)/len(meshes)))[0:3] )"
   ]
  },
  {
   "attachments": {},
   "cell_type": "markdown",
   "metadata": {},
   "source": [
    "# Test joint distance"
   ]
  },
  {
   "cell_type": "code",
   "execution_count": null,
   "metadata": {},
   "outputs": [],
   "source": [
    "from submesh.submesh import SkeletonMesh\n",
    "import numpy as np\n",
    "\n",
    "skel = SkeletonMesh( \n",
    "        '../data/humans/mesh/faust_6890.off', \n",
    "        '../data/humans/centerline/faust_6890.txt',\n",
    "        '../data/humans/centerline/faust_6890.polylines.txt' )\n",
    "\n",
    "skel.submesh(pointsPerUnit=5)\n",
    "#skel.postprocess()"
   ]
  },
  {
   "cell_type": "code",
   "execution_count": null,
   "metadata": {},
   "outputs": [],
   "source": [
    "skel.branches[0].amountOfJoints()"
   ]
  },
  {
   "cell_type": "code",
   "execution_count": null,
   "metadata": {},
   "outputs": [],
   "source": [
    "for i in range( skel.branches[0].amountOfJoints() ):\n",
    "    print(skel.branches[0].jointDistance(i) )"
   ]
  },
  {
   "attachments": {},
   "cell_type": "markdown",
   "metadata": {},
   "source": [
    "# Test submesh_v2"
   ]
  },
  {
   "attachments": {},
   "cell_type": "markdown",
   "metadata": {},
   "source": [
    "Poner return submeshes en createJson para esto"
   ]
  },
  {
   "cell_type": "code",
   "execution_count": 2,
   "metadata": {},
   "outputs": [
    {
     "data": {
      "text/plain": [
       "57"
      ]
     },
     "execution_count": 2,
     "metadata": {},
     "output_type": "execute_result"
    }
   ],
   "source": [
    "from submesh.submesh import createJson\n",
    "import numpy as np\n",
    "import meshplot as mp\n",
    "import matplotlib.cm as cm\n",
    "import open3d as o3d\n",
    "\n",
    "smeshes = createJson( \n",
    "        'prueba.json',\n",
    "        '../data/humans/mesh/faust_54098.off', \n",
    "        '../results/faust_54098/faust_54098.txt',\n",
    "        '../results/faust_54098/faust_54098_corr.txt', alpha=7.5, beta=15 )\n",
    "\n",
    "len(smeshes)"
   ]
  },
  {
   "cell_type": "code",
   "execution_count": 4,
   "metadata": {},
   "outputs": [
    {
     "data": {
      "application/vnd.jupyter.widget-view+json": {
       "model_id": "0c190578ae36483cb8d1595bccf5d4e2",
       "version_major": 2,
       "version_minor": 0
      },
      "text/plain": [
       "Renderer(camera=PerspectiveCamera(children=(DirectionalLight(color='white', intensity=0.6, position=(0.1948543…"
      ]
     },
     "metadata": {},
     "output_type": "display_data"
    }
   ],
   "source": [
    "cmap = cm.get_cmap('flag')\n",
    "p3 = None\n",
    "for i, (mesh, curv) in enumerate(smeshes.values()):\n",
    "    v  = np.asarray(mesh.vertices)\n",
    "    if p3 is None:\n",
    "        p3 = mp.plot( v, np.asarray(mesh.triangles), return_plot = True, c=np.array(cmap((i)/len(smeshes)))[0:3] )\n",
    "    else:\n",
    "        p3.add_mesh( v, np.asarray(mesh.triangles), c=np.array(cmap((i)/len(smeshes)))[0:3] )"
   ]
  },
  {
   "cell_type": "code",
   "execution_count": null,
   "metadata": {},
   "outputs": [],
   "source": [
    "p3.add_lines( np.array([[0,0,0], [0,0,0], [0,0,0] ]), np.array([[1,0,0], [0,1,0], [0,0,1] ]))"
   ]
  },
  {
   "attachments": {},
   "cell_type": "markdown",
   "metadata": {},
   "source": [
    "# Test bases"
   ]
  },
  {
   "attachments": {},
   "cell_type": "markdown",
   "metadata": {},
   "source": [
    "Poner return graphOfJoints, bases en createJson"
   ]
  },
  {
   "cell_type": "code",
   "execution_count": null,
   "metadata": {},
   "outputs": [],
   "source": [
    "from submesh.submesh import createJson\n",
    "import numpy as np\n",
    "import meshplot as mp\n",
    "import networkx as nx\n",
    "\n",
    "graph, bases = createJson( \n",
    "        'prueba.json',\n",
    "        '../data/humans/mesh/faust_54098.off', \n",
    "        '../results/faust_54098/faust_54098.txt',\n",
    "        '../results/faust_54098/faust_54098_corr.txt', alpha=7.5, beta=15 )"
   ]
  },
  {
   "cell_type": "code",
   "execution_count": null,
   "metadata": {},
   "outputs": [],
   "source": [
    "tree = nx.dfs_tree( graph )\n",
    "\n",
    "p = mp.plot( np.array([graph.nodes[joint]['position'] for joint in graph.nodes]), return_plot=True, shading={'point_size':0.1} )"
   ]
  },
  {
   "cell_type": "code",
   "execution_count": null,
   "metadata": {},
   "outputs": [],
   "source": [
    "for node, base in bases.items():\n",
    "    pos = graph.nodes[node]['position']\n",
    "\n",
    "    p.add_lines( np.array([pos]), np.array([pos]) + base[0] * (0.1), shading={'line_color':'green'} )\n",
    "    p.add_lines( np.array([pos]), np.array([pos]) + base[1] * (0.1), shading={'line_color':'blue'} )\n",
    "    p.add_lines( np.array([pos]), np.array([pos]) + base[2] * (0.1), shading={'line_color':'red'} )\n",
    "\n",
    "    "
   ]
  },
  {
   "cell_type": "code",
   "execution_count": null,
   "metadata": {},
   "outputs": [],
   "source": [
    "for u,v in graph.edges:\n",
    "    p.add_lines( np.array(u), np.array(v))"
   ]
  },
  {
   "attachments": {},
   "cell_type": "markdown",
   "metadata": {},
   "source": [
    "json"
   ]
  },
  {
   "cell_type": "code",
   "execution_count": null,
   "metadata": {},
   "outputs": [],
   "source": [
    "from submesh.submesh import createJson\n",
    "import numpy as np\n",
    "import meshplot as mp\n",
    "import networkx as nx\n",
    " \n",
    "createJson( \n",
    "        'prueba.json',\n",
    "        '../data/humans/mesh/faust_6890.off', \n",
    "        '../data/humans/centerline/faust_6890.txt',\n",
    "        '../data/humans/centerline/faust_6890.polylines.txt', alpha=7.5, beta=15 )"
   ]
  },
  {
   "attachments": {},
   "cell_type": "markdown",
   "metadata": {},
   "source": [
    "test means"
   ]
  },
  {
   "cell_type": "code",
   "execution_count": null,
   "metadata": {},
   "outputs": [],
   "source": [
    "from submesh.submesh_v2 import createJson\n",
    "import numpy as np\n",
    "import meshplot as mp\n",
    "import networkx as nx\n",
    " \n",
    "graph,root = createJson( \n",
    "        'prueba.json',\n",
    "        '../data/humans/mesh/faust_6890.off', \n",
    "        '../data/humans/centerline/faust_6890.txt',\n",
    "        '../data/humans/centerline/faust_6890.polylines.txt', alpha=7.5, beta=15 )"
   ]
  },
  {
   "cell_type": "code",
   "execution_count": null,
   "metadata": {},
   "outputs": [],
   "source": [
    "for node in nx.bfs_tree(graph, root):\n",
    "    print( graph.out_degree(node), graph.nodes[node]['mean'], graph.nodes[node]['cov'] )"
   ]
  },
  {
   "cell_type": "code",
   "execution_count": null,
   "metadata": {},
   "outputs": [],
   "source": [
    "means = np.array( [ graph.nodes[node]['mean'] for node in graph.nodes ])\n",
    "print(means)\n",
    "print(np.max( means, axis = 0))"
   ]
  }
 ],
 "metadata": {
  "kernelspec": {
   "display_name": "graficos3.9",
   "language": "python",
   "name": "python3"
  },
  "language_info": {
   "codemirror_mode": {
    "name": "ipython",
    "version": 3
   },
   "file_extension": ".py",
   "mimetype": "text/x-python",
   "name": "python",
   "nbconvert_exporter": "python",
   "pygments_lexer": "ipython3",
   "version": "3.9.13"
  },
  "orig_nbformat": 4,
  "vscode": {
   "interpreter": {
    "hash": "2739103a24152653e1f8b2fff28c65788dabdc9ba71ec9cb9a43d6c5fc424aab"
   }
  }
 },
 "nbformat": 4,
 "nbformat_minor": 2
}
