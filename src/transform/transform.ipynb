{
 "cells": [
  {
   "cell_type": "code",
   "execution_count": null,
   "metadata": {},
   "outputs": [],
   "source": [
    "import json\n",
    "import networkx as nx\n",
    "import meshplot as mp\n",
    "import numpy as np\n",
    "import open3d as o3d\n",
    "import matplotlib.cm as cm"
   ]
  },
  {
   "cell_type": "code",
   "execution_count": null,
   "metadata": {},
   "outputs": [],
   "source": [
    "MESH = 'faust_54098'\n",
    "RAIZ = 50 #39"
   ]
  },
  {
   "cell_type": "code",
   "execution_count": null,
   "metadata": {},
   "outputs": [],
   "source": [
    "def readCodeGraph( path ):\n",
    "    graph = nx.DiGraph()\n",
    "    with open( path ) as jsonFile:\n",
    "        skel = json.load(jsonFile)\n",
    "        root = skel['root']\n",
    "        scale = skel['scale']\n",
    "        graph.add_nodes_from( [ (joint['id'], {'code': np.asarray(joint['mean']), 'base':np.asarray(joint['base']), 'position':np.asarray(joint['position'])}) for joint in skel['joints'] ] )\n",
    "\n",
    "        for joint in skel['joints']:\n",
    "            graph.add_edges_from( [ (joint['id'], child) for child in joint['children']] )\n",
    "\n",
    "    return graph, root, scale"
   ]
  },
  {
   "cell_type": "code",
   "execution_count": null,
   "metadata": {},
   "outputs": [],
   "source": [
    "graphOfJoints, root, scale = readCodeGraph(f'../../results/{MESH}/{MESH}.json')"
   ]
  },
  {
   "cell_type": "code",
   "execution_count": null,
   "metadata": {},
   "outputs": [],
   "source": [
    "def hijos( graph, nodo ):\n",
    "    for hijo in nx.dfs_tree(graph, nodo):\n",
    "        yield hijo"
   ]
  },
  {
   "cell_type": "code",
   "execution_count": null,
   "metadata": {},
   "outputs": [],
   "source": [
    "\n",
    "#p = mp.plot( np.array( [np.asarray( graphOfJoints.nodes[node]['position']) for node in graphOfJoints.nodes]), return_plot = True, shading={'point_size': 0.1} )\n",
    "#p.add_points(np.array([np.asarray( graphOfJoints.nodes[i]['position']) for i in hijos(graphOfJoints, RAIZ)]), shading={'point_color': 'blue', 'point_size':0.15} )\n",
    "\n",
    "#for u,v in graphOfJoints.edges:\n",
    "#    p.add_lines( np.asarray(graphOfJoints.nodes[u]['position']), np.asarray(graphOfJoints.nodes[v]['position']))"
   ]
  },
  {
   "cell_type": "code",
   "execution_count": null,
   "metadata": {},
   "outputs": [],
   "source": [
    "# roto el brazo con respecto a articulacion\n",
    "#angulo = -3* np.pi / 4\n",
    "#rotationMatrix = np.array([\n",
    "#    [1, 0 , 0],\n",
    "#    [0, np.cos(angulo), -np.sin(angulo)],\n",
    "#    [0, np.sin(angulo), np.cos(angulo)]\n",
    "#])\n",
    "#limbRootPosition = np.asarray(graphOfJoints.nodes[RAIZ]['position'])\n",
    "#for nodo in hijos(graphOfJoints, RAIZ):\n",
    "#    posicion = np.asarray(graphOfJoints.nodes[nodo]['position'])\n",
    "#    nuevaPos = rotationMatrix @ (posicion - limbRootPosition) + limbRootPosition\n",
    "#\n",
    "#    graphOfJoints.nodes[nodo]['position'] = nuevaPos\n",
    "#    graphOfJoints.nodes[nodo]['base'] = rotationMatrix @ graphOfJoints.nodes[nodo]['base']\n",
    "#\n",
    "#p = mp.plot( np.array( [np.asarray( graphOfJoints.nodes[node]['position']) for node in graphOfJoints.nodes]), return_plot = True, shading={'point_size': 0.1} )\n",
    "#p.add_points(np.array([np.asarray( graphOfJoints.nodes[i]['position']) for i in hijos(graphOfJoints, RAIZ)]), shading={'point_color': 'blue', 'point_size':0.15} )"
   ]
  },
  {
   "cell_type": "code",
   "execution_count": null,
   "metadata": {},
   "outputs": [],
   "source": [
    "def rotateLimb( pathFrom, pathTo, graph, limbRoot, angle ):\n",
    "\n",
    "    class NumpyEncoder(json.JSONEncoder):\n",
    "        def default(self, obj):\n",
    "            if isinstance(obj, np.ndarray):\n",
    "                return obj.tolist()\n",
    "            elif isinstance(obj, np.float32):\n",
    "                return obj.tolist()\n",
    "            return json.JSONEncoder.default(self, obj)\n",
    "    \n",
    "    with open( pathFrom, 'r' ) as jsonFile:\n",
    "        data = json.load(jsonFile)\n",
    "    \n",
    "    limbNodes= list(hijos(graph, limbRoot))\n",
    "    rotationMatrix = np.array([\n",
    "        [1, 0 , 0],\n",
    "        [0, np.cos(angle), -np.sin(angle)],\n",
    "        [0, np.sin(angle), np.cos(angle)]\n",
    "    ])\n",
    "    limbRootPosition = np.asarray(graph.nodes[limbRoot]['position'])\n",
    "    for joint in data['joints']:\n",
    "        if joint['id'] in limbNodes:\n",
    "            joint['position'] = rotationMatrix @ (np.asarray(joint['position']) - limbRootPosition) + limbRootPosition\n",
    "            joint['base'] = rotationMatrix @ np.asarray(joint['base'])\n",
    "\n",
    "    with open( pathTo, 'w+') as jsonFile:\n",
    "        json.dump( data, jsonFile, cls=NumpyEncoder )"
   ]
  },
  {
   "cell_type": "code",
   "execution_count": null,
   "metadata": {},
   "outputs": [],
   "source": [
    "rotateLimb( f'../../results/{MESH}/{MESH}.json', f'../../results/{MESH}/{MESH}_t.json', graph=graphOfJoints, limbRoot=RAIZ, angle=-3* np.pi / 4 )"
   ]
  },
  {
   "cell_type": "code",
   "execution_count": null,
   "metadata": {},
   "outputs": [],
   "source": [
    "meshes_gt = []\n",
    "with open(f'../../results/{MESH}/{MESH}_t.json') as jsonFile:\n",
    "    skel = json.load(jsonFile)\n",
    "    \n",
    "    for joint in skel['joints']:\n",
    "        T = (np.block( [[np.eye(3,3), np.asarray(joint['position']).reshape((3,1))],[np.eye(1,4,k=3)] ] ) @ \n",
    "             np.block( [ [np.asarray(joint['base']), np.zeros((3,1))], [np.eye(1,4,k=3)]]) @ \n",
    "             np.diag( [1 / skel['scale']] * 3 + [1] ))\n",
    "        mesh = o3d.geometry.TriangleMesh( o3d.utility.Vector3dVector(np.array(joint['vertices']).astype(np.float32)), o3d.utility.Vector3iVector(np.array(joint['triangles']).astype(np.float32)) )\n",
    "        mesh.transform( T )\n",
    "        meshes_gt.append(mesh)\n"
   ]
  },
  {
   "cell_type": "code",
   "execution_count": null,
   "metadata": {},
   "outputs": [],
   "source": [
    "\n",
    "p = None\n",
    "cmap = cm.get_cmap('flag')\n",
    "for i, mesh in enumerate(meshes_gt):\n",
    "    if i < 70:\n",
    "        if p is None:\n",
    "            p = mp.plot( np.asarray(mesh.vertices), np.asarray(mesh.triangles), return_plot = True, c=np.array(cmap((i)/len(meshes_gt)))[0:3])\n",
    "        else:\n",
    "            p.add_mesh( np.asarray(mesh.vertices), np.asarray(mesh.triangles), c=np.array(cmap((i)/len(meshes_gt)))[0:3] )"
   ]
  }
 ],
 "metadata": {
  "kernelspec": {
   "display_name": "graficos3.9",
   "language": "python",
   "name": "python3"
  },
  "language_info": {
   "codemirror_mode": {
    "name": "ipython",
    "version": 3
   },
   "file_extension": ".py",
   "mimetype": "text/x-python",
   "name": "python",
   "nbconvert_exporter": "python",
   "pygments_lexer": "ipython3",
   "version": "3.9.13"
  },
  "orig_nbformat": 4
 },
 "nbformat": 4,
 "nbformat_minor": 2
}
