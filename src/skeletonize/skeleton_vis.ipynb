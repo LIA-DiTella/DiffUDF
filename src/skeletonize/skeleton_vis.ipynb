{
 "cells": [
  {
   "cell_type": "code",
   "execution_count": 1,
   "metadata": {},
   "outputs": [
    {
     "name": "stdout",
     "output_type": "stream",
     "text": [
      "Jupyter environment detected. Enabling Open3D WebVisualizer.\n",
      "[Open3D INFO] WebRTC GUI backend enabled.\n",
      "[Open3D INFO] WebRTCWindowSystem: HTTP handshake server disabled.\n"
     ]
    }
   ],
   "source": [
    "import meshplot as mp\n",
    "import open3d as o3d\n",
    "import numpy as np\n",
    "import networkx as nx\n",
    "import matplotlib.cm as cm"
   ]
  },
  {
   "cell_type": "code",
   "execution_count": 2,
   "metadata": {},
   "outputs": [],
   "source": [
    "mesh_file = 'test_52516'"
   ]
  },
  {
   "cell_type": "code",
   "execution_count": 3,
   "metadata": {},
   "outputs": [
    {
     "name": "stdout",
     "output_type": "stream",
     "text": [
      "Hay 21 lineas\n"
     ]
    }
   ],
   "source": [
    "skeleton = []\n",
    "with open('data/centerlines/' + mesh_file + '.txt') as file:\n",
    "    for line in file:\n",
    "        G = nx.Graph()\n",
    "        contenidos = line.split(\" \")\n",
    "        vertices_en_rama = int(contenidos[0])\n",
    "        for i in range(1, vertices_en_rama * 3, 3):\n",
    "            G.add_node( i, pos=np.array( contenidos[i:i+3] ).astype(np.float32) )\n",
    "\n",
    "            if i != 1:\n",
    "                G.add_edge( i - 3, i)\n",
    "\n",
    "        skeleton.append(G)\n",
    "\n",
    "print(f\"Hay {len(skeleton)} lineas\")\n"
   ]
  },
  {
   "cell_type": "code",
   "execution_count": 9,
   "metadata": {},
   "outputs": [
    {
     "ename": "SyntaxError",
     "evalue": "invalid syntax (2237614271.py, line 3)",
     "output_type": "error",
     "traceback": [
      "\u001b[0;36m  Input \u001b[0;32mIn [9]\u001b[0;36m\u001b[0m\n\u001b[0;31m    p = mp.plot( np.asarray(mesh.vertices), np.asarray(mesh.triangles), c=np.array([0.7,0,0return_plot=True)\u001b[0m\n\u001b[0m                                                                                           ^\u001b[0m\n\u001b[0;31mSyntaxError\u001b[0m\u001b[0;31m:\u001b[0m invalid syntax\n"
     ]
    }
   ],
   "source": [
    "mesh = o3d.io.read_triangle_mesh( 'data/meshes/test_6890.off' )\n",
    "\n",
    "p = mp.plot( np.asarray(mesh.vertices), np.asarray(mesh.triangles), c=np.array([0.7,0,0]), return_plot=True)\n",
    "#p = mp.plot( np.asarray(mesh.vertices) , shading={'point_size': 0.01, 'point_color':'#AA0000' },return_plot=True)\n",
    "#cmap = cm.get_cmap('viridis')\n",
    "#for i, ext in enumerate(skeleton):\n",
    "#    c = '#'\n",
    "#    for x in (np.array(cmap( (i)/len(skeleton)) )[0:3] * 255).astype(np.uint32):\n",
    "#        h = hex(x)[2:]\n",
    "#        c += h if len(h) == 2 else '0' + h\n",
    "#\n",
    "#    p.add_points( np.array([ l['pos'] for l in list(ext.nodes.values()) ]), shading={'point_size': 0.1, 'point_color':c })\n",
    "\n"
   ]
  },
  {
   "cell_type": "code",
   "execution_count": null,
   "metadata": {},
   "outputs": [],
   "source": []
  }
 ],
 "metadata": {
  "kernelspec": {
   "display_name": "graficos3.9",
   "language": "python",
   "name": "python3"
  },
  "language_info": {
   "codemirror_mode": {
    "name": "ipython",
    "version": 3
   },
   "file_extension": ".py",
   "mimetype": "text/x-python",
   "name": "python",
   "nbconvert_exporter": "python",
   "pygments_lexer": "ipython3",
   "version": "3.9.13 (main, Aug 25 2022, 23:26:10) \n[GCC 11.2.0]"
  },
  "orig_nbformat": 4,
  "vscode": {
   "interpreter": {
    "hash": "2739103a24152653e1f8b2fff28c65788dabdc9ba71ec9cb9a43d6c5fc424aab"
   }
  }
 },
 "nbformat": 4,
 "nbformat_minor": 2
}
