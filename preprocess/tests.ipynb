{
 "cells": [
  {
   "cell_type": "code",
   "execution_count": null,
   "metadata": {},
   "outputs": [],
   "source": [
    "import meshplot as mp\n",
    "import numpy as np\n",
    "import networkx as nx\n",
    "from preprocess import resample"
   ]
  },
  {
   "cell_type": "code",
   "execution_count": null,
   "metadata": {},
   "outputs": [],
   "source": [
    "grafo = nx.read_gpickle('data/ArteryObjAN1-0-grafo.gpickle_new.gpickle')"
   ]
  },
  {
   "cell_type": "code",
   "execution_count": null,
   "metadata": {},
   "outputs": [],
   "source": [
    "p = mp.plot( np.array([ grafo.nodes[v]['position'] for v in grafo.nodes ]), shading={'point_size':2}, return_plot=True)\n",
    "\n",
    "for arista in grafo.edges:\n",
    "    p.add_lines( grafo.nodes[arista[0]]['position'],grafo.nodes[arista[1]]['position'])#, c=np.array([0,0,1]))"
   ]
  },
  {
   "cell_type": "code",
   "execution_count": null,
   "metadata": {},
   "outputs": [],
   "source": [
    "grafoR = resample( grafo, pointsPerUnit=0.6 )\n",
    "p = mp.plot( np.array([ grafoR.nodes[v]['position'] for v in grafoR.nodes ]), shading={'point_size':2}, return_plot=True)\n",
    "\n",
    "for arista in grafoR.edges:\n",
    "    p.add_lines( grafoR.nodes[arista[0]]['position'],grafoR.nodes[arista[1]]['position'])#, c=np.array([0,0,1]))"
   ]
  }
 ],
 "metadata": {
  "kernelspec": {
   "display_name": "Python 3.9.13 ('graficos3.9')",
   "language": "python",
   "name": "python3"
  },
  "language_info": {
   "codemirror_mode": {
    "name": "ipython",
    "version": 3
   },
   "file_extension": ".py",
   "mimetype": "text/x-python",
   "name": "python",
   "nbconvert_exporter": "python",
   "pygments_lexer": "ipython3",
   "version": "3.9.13"
  },
  "orig_nbformat": 4,
  "vscode": {
   "interpreter": {
    "hash": "2739103a24152653e1f8b2fff28c65788dabdc9ba71ec9cb9a43d6c5fc424aab"
   }
  }
 },
 "nbformat": 4,
 "nbformat_minor": 2
}
